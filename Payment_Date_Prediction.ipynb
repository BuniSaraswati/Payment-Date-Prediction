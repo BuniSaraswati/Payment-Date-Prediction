{
  "cells": [
    {
      "cell_type": "markdown",
      "source": [
        "# Payment Date Prediction "
      ],
      "metadata": {
        "id": "wcq6dWzy1ZR0"
      },
      "id": "wcq6dWzy1ZR0"
    },
    {
      "cell_type": "markdown",
      "id": "2778654e",
      "metadata": {
        "id": "2778654e"
      },
      "source": [
        "\n",
        "### Importing related Libraries "
      ]
    },
    {
      "cell_type": "code",
      "execution_count": null,
      "id": "304c9e38",
      "metadata": {
        "id": "304c9e38"
      },
      "outputs": [],
      "source": [
        "import datetime as dt\n",
        "import numpy as np\n",
        "import pandas as pd\n",
        "from sklearn.model_selection import train_test_split\n",
        "import seaborn as sns\n",
        "from matplotlib import pyplot as plt"
      ]
    },
    {
      "cell_type": "markdown",
      "id": "8724f5ee",
      "metadata": {
        "id": "8724f5ee"
      },
      "source": [
        "### Store the dataset into the Dataframe\n"
      ]
    },
    {
      "cell_type": "code",
      "execution_count": null,
      "id": "415db50a",
      "metadata": {
        "id": "415db50a"
      },
      "outputs": [],
      "source": [
        "df = pd.read_csv('dataset.csv')  "
      ]
    },
    {
      "cell_type": "markdown",
      "id": "42e37f05",
      "metadata": {
        "id": "42e37f05"
      },
      "source": [
        "### Check the shape of the dataframe\n"
      ]
    },
    {
      "cell_type": "code",
      "execution_count": null,
      "id": "27cc0907",
      "metadata": {
        "id": "27cc0907",
        "outputId": "51d1369d-0961-4b4a-c32f-cabd4c6ab4b4",
        "colab": {
          "base_uri": "https://localhost:8080/"
        }
      },
      "outputs": [
        {
          "output_type": "execute_result",
          "data": {
            "text/plain": [
              "(50000, 19)"
            ]
          },
          "metadata": {},
          "execution_count": 5
        }
      ],
      "source": [
        "df.shape "
      ]
    },
    {
      "cell_type": "markdown",
      "id": "b68c955d",
      "metadata": {
        "id": "b68c955d"
      },
      "source": [
        "### Check the Detail information of the dataframe"
      ]
    },
    {
      "cell_type": "code",
      "execution_count": null,
      "id": "e092ec9e",
      "metadata": {
        "id": "e092ec9e",
        "outputId": "49194691-c78d-416d-ca15-ee7e73a85911",
        "colab": {
          "base_uri": "https://localhost:8080/"
        }
      },
      "outputs": [
        {
          "output_type": "stream",
          "name": "stdout",
          "text": [
            "<class 'pandas.core.frame.DataFrame'>\n",
            "RangeIndex: 50000 entries, 0 to 49999\n",
            "Data columns (total 19 columns):\n",
            " #   Column                  Non-Null Count  Dtype  \n",
            "---  ------                  --------------  -----  \n",
            " 0   business_code           50000 non-null  object \n",
            " 1   cust_number             50000 non-null  object \n",
            " 2   name_customer           50000 non-null  object \n",
            " 3   clear_date              40000 non-null  object \n",
            " 4   buisness_year           50000 non-null  float64\n",
            " 5   doc_id                  50000 non-null  float64\n",
            " 6   posting_date            50000 non-null  object \n",
            " 7   document_create_date    50000 non-null  int64  \n",
            " 8   document_create_date.1  50000 non-null  int64  \n",
            " 9   due_in_date             50000 non-null  float64\n",
            " 10  invoice_currency        50000 non-null  object \n",
            " 11  document type           50000 non-null  object \n",
            " 12  posting_id              50000 non-null  float64\n",
            " 13  area_business           0 non-null      float64\n",
            " 14  total_open_amount       50000 non-null  float64\n",
            " 15  baseline_create_date    50000 non-null  float64\n",
            " 16  cust_payment_terms      50000 non-null  object \n",
            " 17  invoice_id              49994 non-null  float64\n",
            " 18  isOpen                  50000 non-null  int64  \n",
            "dtypes: float64(8), int64(3), object(8)\n",
            "memory usage: 7.2+ MB\n"
          ]
        }
      ],
      "source": [
        "df.info()"
      ]
    },
    {
      "cell_type": "markdown",
      "id": "112f2d0e",
      "metadata": {
        "id": "112f2d0e"
      },
      "source": [
        "### Display All the column names"
      ]
    },
    {
      "cell_type": "code",
      "execution_count": null,
      "id": "1416e2fd",
      "metadata": {
        "id": "1416e2fd",
        "outputId": "d2d719bc-e22b-4684-ba81-e4f374c2beb1",
        "colab": {
          "base_uri": "https://localhost:8080/"
        }
      },
      "outputs": [
        {
          "output_type": "execute_result",
          "data": {
            "text/plain": [
              "Index(['business_code', 'cust_number', 'name_customer', 'clear_date',\n",
              "       'buisness_year', 'doc_id', 'posting_date', 'document_create_date',\n",
              "       'document_create_date.1', 'due_in_date', 'invoice_currency',\n",
              "       'document type', 'posting_id', 'area_business', 'total_open_amount',\n",
              "       'baseline_create_date', 'cust_payment_terms', 'invoice_id', 'isOpen'],\n",
              "      dtype='object')"
            ]
          },
          "metadata": {},
          "execution_count": 7
        }
      ],
      "source": [
        "df.columns"
      ]
    },
    {
      "cell_type": "markdown",
      "id": "d465ed7a",
      "metadata": {
        "id": "d465ed7a"
      },
      "source": [
        "### Describe the entire dataset"
      ]
    },
    {
      "cell_type": "code",
      "execution_count": null,
      "id": "25f65e1b",
      "metadata": {
        "id": "25f65e1b",
        "outputId": "ce096d49-eef5-4081-a085-f3963c5a64b5",
        "colab": {
          "base_uri": "https://localhost:8080/",
          "height": 364
        }
      },
      "outputs": [
        {
          "output_type": "execute_result",
          "data": {
            "text/plain": [
              "       buisness_year        doc_id  document_create_date  \\\n",
              "count   50000.000000  5.000000e+04          5.000000e+04   \n",
              "mean     2019.305700  2.012238e+09          2.019351e+07   \n",
              "std         0.460708  2.885235e+08          4.496041e+03   \n",
              "min      2019.000000  1.928502e+09          2.018123e+07   \n",
              "25%      2019.000000  1.929342e+09          2.019050e+07   \n",
              "50%      2019.000000  1.929964e+09          2.019091e+07   \n",
              "75%      2020.000000  1.930619e+09          2.020013e+07   \n",
              "max      2020.000000  9.500000e+09          2.020052e+07   \n",
              "\n",
              "       document_create_date.1   due_in_date  posting_id  area_business  \\\n",
              "count            5.000000e+04  5.000000e+04     50000.0            0.0   \n",
              "mean             2.019354e+07  2.019368e+07         1.0            NaN   \n",
              "std              4.482134e+03  4.470614e+03         0.0            NaN   \n",
              "min              2.018123e+07  2.018122e+07         1.0            NaN   \n",
              "25%              2.019051e+07  2.019052e+07         1.0            NaN   \n",
              "50%              2.019091e+07  2.019093e+07         1.0            NaN   \n",
              "75%              2.020013e+07  2.020022e+07         1.0            NaN   \n",
              "max              2.020052e+07  2.020071e+07         1.0            NaN   \n",
              "\n",
              "       total_open_amount  baseline_create_date    invoice_id        isOpen  \n",
              "count       50000.000000          5.000000e+04  4.999400e+04  50000.000000  \n",
              "mean        32337.021651          2.019354e+07  2.011340e+09      0.200000  \n",
              "std         39205.975231          4.482701e+03  2.766335e+08      0.400004  \n",
              "min             0.720000          2.018121e+07  1.928502e+09      0.000000  \n",
              "25%          4928.312500          2.019050e+07  1.929342e+09      0.000000  \n",
              "50%         17609.010000          2.019091e+07  1.929964e+09      0.000000  \n",
              "75%         47133.635000          2.020013e+07  1.930619e+09      0.000000  \n",
              "max        668593.360000          2.020052e+07  2.960636e+09      1.000000  "
            ],
            "text/html": [
              "\n",
              "  <div id=\"df-788bdbe7-e227-4fcb-9c97-fc81317e327d\">\n",
              "    <div class=\"colab-df-container\">\n",
              "      <div>\n",
              "<style scoped>\n",
              "    .dataframe tbody tr th:only-of-type {\n",
              "        vertical-align: middle;\n",
              "    }\n",
              "\n",
              "    .dataframe tbody tr th {\n",
              "        vertical-align: top;\n",
              "    }\n",
              "\n",
              "    .dataframe thead th {\n",
              "        text-align: right;\n",
              "    }\n",
              "</style>\n",
              "<table border=\"1\" class=\"dataframe\">\n",
              "  <thead>\n",
              "    <tr style=\"text-align: right;\">\n",
              "      <th></th>\n",
              "      <th>buisness_year</th>\n",
              "      <th>doc_id</th>\n",
              "      <th>document_create_date</th>\n",
              "      <th>document_create_date.1</th>\n",
              "      <th>due_in_date</th>\n",
              "      <th>posting_id</th>\n",
              "      <th>area_business</th>\n",
              "      <th>total_open_amount</th>\n",
              "      <th>baseline_create_date</th>\n",
              "      <th>invoice_id</th>\n",
              "      <th>isOpen</th>\n",
              "    </tr>\n",
              "  </thead>\n",
              "  <tbody>\n",
              "    <tr>\n",
              "      <th>count</th>\n",
              "      <td>50000.000000</td>\n",
              "      <td>5.000000e+04</td>\n",
              "      <td>5.000000e+04</td>\n",
              "      <td>5.000000e+04</td>\n",
              "      <td>5.000000e+04</td>\n",
              "      <td>50000.0</td>\n",
              "      <td>0.0</td>\n",
              "      <td>50000.000000</td>\n",
              "      <td>5.000000e+04</td>\n",
              "      <td>4.999400e+04</td>\n",
              "      <td>50000.000000</td>\n",
              "    </tr>\n",
              "    <tr>\n",
              "      <th>mean</th>\n",
              "      <td>2019.305700</td>\n",
              "      <td>2.012238e+09</td>\n",
              "      <td>2.019351e+07</td>\n",
              "      <td>2.019354e+07</td>\n",
              "      <td>2.019368e+07</td>\n",
              "      <td>1.0</td>\n",
              "      <td>NaN</td>\n",
              "      <td>32337.021651</td>\n",
              "      <td>2.019354e+07</td>\n",
              "      <td>2.011340e+09</td>\n",
              "      <td>0.200000</td>\n",
              "    </tr>\n",
              "    <tr>\n",
              "      <th>std</th>\n",
              "      <td>0.460708</td>\n",
              "      <td>2.885235e+08</td>\n",
              "      <td>4.496041e+03</td>\n",
              "      <td>4.482134e+03</td>\n",
              "      <td>4.470614e+03</td>\n",
              "      <td>0.0</td>\n",
              "      <td>NaN</td>\n",
              "      <td>39205.975231</td>\n",
              "      <td>4.482701e+03</td>\n",
              "      <td>2.766335e+08</td>\n",
              "      <td>0.400004</td>\n",
              "    </tr>\n",
              "    <tr>\n",
              "      <th>min</th>\n",
              "      <td>2019.000000</td>\n",
              "      <td>1.928502e+09</td>\n",
              "      <td>2.018123e+07</td>\n",
              "      <td>2.018123e+07</td>\n",
              "      <td>2.018122e+07</td>\n",
              "      <td>1.0</td>\n",
              "      <td>NaN</td>\n",
              "      <td>0.720000</td>\n",
              "      <td>2.018121e+07</td>\n",
              "      <td>1.928502e+09</td>\n",
              "      <td>0.000000</td>\n",
              "    </tr>\n",
              "    <tr>\n",
              "      <th>25%</th>\n",
              "      <td>2019.000000</td>\n",
              "      <td>1.929342e+09</td>\n",
              "      <td>2.019050e+07</td>\n",
              "      <td>2.019051e+07</td>\n",
              "      <td>2.019052e+07</td>\n",
              "      <td>1.0</td>\n",
              "      <td>NaN</td>\n",
              "      <td>4928.312500</td>\n",
              "      <td>2.019050e+07</td>\n",
              "      <td>1.929342e+09</td>\n",
              "      <td>0.000000</td>\n",
              "    </tr>\n",
              "    <tr>\n",
              "      <th>50%</th>\n",
              "      <td>2019.000000</td>\n",
              "      <td>1.929964e+09</td>\n",
              "      <td>2.019091e+07</td>\n",
              "      <td>2.019091e+07</td>\n",
              "      <td>2.019093e+07</td>\n",
              "      <td>1.0</td>\n",
              "      <td>NaN</td>\n",
              "      <td>17609.010000</td>\n",
              "      <td>2.019091e+07</td>\n",
              "      <td>1.929964e+09</td>\n",
              "      <td>0.000000</td>\n",
              "    </tr>\n",
              "    <tr>\n",
              "      <th>75%</th>\n",
              "      <td>2020.000000</td>\n",
              "      <td>1.930619e+09</td>\n",
              "      <td>2.020013e+07</td>\n",
              "      <td>2.020013e+07</td>\n",
              "      <td>2.020022e+07</td>\n",
              "      <td>1.0</td>\n",
              "      <td>NaN</td>\n",
              "      <td>47133.635000</td>\n",
              "      <td>2.020013e+07</td>\n",
              "      <td>1.930619e+09</td>\n",
              "      <td>0.000000</td>\n",
              "    </tr>\n",
              "    <tr>\n",
              "      <th>max</th>\n",
              "      <td>2020.000000</td>\n",
              "      <td>9.500000e+09</td>\n",
              "      <td>2.020052e+07</td>\n",
              "      <td>2.020052e+07</td>\n",
              "      <td>2.020071e+07</td>\n",
              "      <td>1.0</td>\n",
              "      <td>NaN</td>\n",
              "      <td>668593.360000</td>\n",
              "      <td>2.020052e+07</td>\n",
              "      <td>2.960636e+09</td>\n",
              "      <td>1.000000</td>\n",
              "    </tr>\n",
              "  </tbody>\n",
              "</table>\n",
              "</div>\n",
              "      <button class=\"colab-df-convert\" onclick=\"convertToInteractive('df-788bdbe7-e227-4fcb-9c97-fc81317e327d')\"\n",
              "              title=\"Convert this dataframe to an interactive table.\"\n",
              "              style=\"display:none;\">\n",
              "        \n",
              "  <svg xmlns=\"http://www.w3.org/2000/svg\" height=\"24px\"viewBox=\"0 0 24 24\"\n",
              "       width=\"24px\">\n",
              "    <path d=\"M0 0h24v24H0V0z\" fill=\"none\"/>\n",
              "    <path d=\"M18.56 5.44l.94 2.06.94-2.06 2.06-.94-2.06-.94-.94-2.06-.94 2.06-2.06.94zm-11 1L8.5 8.5l.94-2.06 2.06-.94-2.06-.94L8.5 2.5l-.94 2.06-2.06.94zm10 10l.94 2.06.94-2.06 2.06-.94-2.06-.94-.94-2.06-.94 2.06-2.06.94z\"/><path d=\"M17.41 7.96l-1.37-1.37c-.4-.4-.92-.59-1.43-.59-.52 0-1.04.2-1.43.59L10.3 9.45l-7.72 7.72c-.78.78-.78 2.05 0 2.83L4 21.41c.39.39.9.59 1.41.59.51 0 1.02-.2 1.41-.59l7.78-7.78 2.81-2.81c.8-.78.8-2.07 0-2.86zM5.41 20L4 18.59l7.72-7.72 1.47 1.35L5.41 20z\"/>\n",
              "  </svg>\n",
              "      </button>\n",
              "      \n",
              "  <style>\n",
              "    .colab-df-container {\n",
              "      display:flex;\n",
              "      flex-wrap:wrap;\n",
              "      gap: 12px;\n",
              "    }\n",
              "\n",
              "    .colab-df-convert {\n",
              "      background-color: #E8F0FE;\n",
              "      border: none;\n",
              "      border-radius: 50%;\n",
              "      cursor: pointer;\n",
              "      display: none;\n",
              "      fill: #1967D2;\n",
              "      height: 32px;\n",
              "      padding: 0 0 0 0;\n",
              "      width: 32px;\n",
              "    }\n",
              "\n",
              "    .colab-df-convert:hover {\n",
              "      background-color: #E2EBFA;\n",
              "      box-shadow: 0px 1px 2px rgba(60, 64, 67, 0.3), 0px 1px 3px 1px rgba(60, 64, 67, 0.15);\n",
              "      fill: #174EA6;\n",
              "    }\n",
              "\n",
              "    [theme=dark] .colab-df-convert {\n",
              "      background-color: #3B4455;\n",
              "      fill: #D2E3FC;\n",
              "    }\n",
              "\n",
              "    [theme=dark] .colab-df-convert:hover {\n",
              "      background-color: #434B5C;\n",
              "      box-shadow: 0px 1px 3px 1px rgba(0, 0, 0, 0.15);\n",
              "      filter: drop-shadow(0px 1px 2px rgba(0, 0, 0, 0.3));\n",
              "      fill: #FFFFFF;\n",
              "    }\n",
              "  </style>\n",
              "\n",
              "      <script>\n",
              "        const buttonEl =\n",
              "          document.querySelector('#df-788bdbe7-e227-4fcb-9c97-fc81317e327d button.colab-df-convert');\n",
              "        buttonEl.style.display =\n",
              "          google.colab.kernel.accessAllowed ? 'block' : 'none';\n",
              "\n",
              "        async function convertToInteractive(key) {\n",
              "          const element = document.querySelector('#df-788bdbe7-e227-4fcb-9c97-fc81317e327d');\n",
              "          const dataTable =\n",
              "            await google.colab.kernel.invokeFunction('convertToInteractive',\n",
              "                                                     [key], {});\n",
              "          if (!dataTable) return;\n",
              "\n",
              "          const docLinkHtml = 'Like what you see? Visit the ' +\n",
              "            '<a target=\"_blank\" href=https://colab.research.google.com/notebooks/data_table.ipynb>data table notebook</a>'\n",
              "            + ' to learn more about interactive tables.';\n",
              "          element.innerHTML = '';\n",
              "          dataTable['output_type'] = 'display_data';\n",
              "          await google.colab.output.renderOutput(dataTable, element);\n",
              "          const docLink = document.createElement('div');\n",
              "          docLink.innerHTML = docLinkHtml;\n",
              "          element.appendChild(docLink);\n",
              "        }\n",
              "      </script>\n",
              "    </div>\n",
              "  </div>\n",
              "  "
            ]
          },
          "metadata": {},
          "execution_count": 8
        }
      ],
      "source": [
        "df.describe()"
      ]
    },
    {
      "cell_type": "markdown",
      "id": "0f2c8d02",
      "metadata": {
        "id": "0f2c8d02"
      },
      "source": [
        "# Data Cleaning\n",
        "\n",
        "- Show top 5 records from the dataset"
      ]
    },
    {
      "cell_type": "code",
      "execution_count": null,
      "id": "8f876212",
      "metadata": {
        "id": "8f876212",
        "outputId": "374048d1-70ba-4a18-de27-8ed97b2441c5",
        "colab": {
          "base_uri": "https://localhost:8080/",
          "height": 357
        }
      },
      "outputs": [
        {
          "output_type": "execute_result",
          "data": {
            "text/plain": [
              "  business_code cust_number       name_customer           clear_date  \\\n",
              "0          U001  0200769623        WAL-MAR corp  2020-02-11 00:00:00   \n",
              "1          U001  0200980828              BEN E   2019-08-08 00:00:00   \n",
              "2          U001  0200792734          MDV/ trust  2019-12-30 00:00:00   \n",
              "3          CA02  0140105686            SYSC llc                  NaN   \n",
              "4          U001  0200769623  WAL-MAR foundation  2019-11-25 00:00:00   \n",
              "\n",
              "   buisness_year        doc_id posting_date  document_create_date  \\\n",
              "0         2020.0  1.930438e+09   2020-01-26              20200125   \n",
              "1         2019.0  1.929646e+09   2019-07-22              20190722   \n",
              "2         2019.0  1.929874e+09   2019-09-14              20190914   \n",
              "3         2020.0  2.960623e+09   2020-03-30              20200330   \n",
              "4         2019.0  1.930148e+09   2019-11-13              20191113   \n",
              "\n",
              "   document_create_date.1  due_in_date invoice_currency document type  \\\n",
              "0                20200126   20200210.0              USD            RV   \n",
              "1                20190722   20190811.0              USD            RV   \n",
              "2                20190914   20190929.0              USD            RV   \n",
              "3                20200330   20200410.0              CAD            RV   \n",
              "4                20191113   20191128.0              USD            RV   \n",
              "\n",
              "   posting_id  area_business  total_open_amount  baseline_create_date  \\\n",
              "0         1.0            NaN           54273.28            20200126.0   \n",
              "1         1.0            NaN           79656.60            20190722.0   \n",
              "2         1.0            NaN            2253.86            20190914.0   \n",
              "3         1.0            NaN            3299.70            20200331.0   \n",
              "4         1.0            NaN           33133.29            20191113.0   \n",
              "\n",
              "  cust_payment_terms    invoice_id  isOpen  \n",
              "0               NAH4  1.930438e+09       0  \n",
              "1               NAD1  1.929646e+09       0  \n",
              "2               NAA8  1.929874e+09       0  \n",
              "3               CA10  2.960623e+09       1  \n",
              "4               NAH4  1.930148e+09       0  "
            ],
            "text/html": [
              "\n",
              "  <div id=\"df-4c88b1eb-cdb5-4dac-8500-962f45e89c9f\">\n",
              "    <div class=\"colab-df-container\">\n",
              "      <div>\n",
              "<style scoped>\n",
              "    .dataframe tbody tr th:only-of-type {\n",
              "        vertical-align: middle;\n",
              "    }\n",
              "\n",
              "    .dataframe tbody tr th {\n",
              "        vertical-align: top;\n",
              "    }\n",
              "\n",
              "    .dataframe thead th {\n",
              "        text-align: right;\n",
              "    }\n",
              "</style>\n",
              "<table border=\"1\" class=\"dataframe\">\n",
              "  <thead>\n",
              "    <tr style=\"text-align: right;\">\n",
              "      <th></th>\n",
              "      <th>business_code</th>\n",
              "      <th>cust_number</th>\n",
              "      <th>name_customer</th>\n",
              "      <th>clear_date</th>\n",
              "      <th>buisness_year</th>\n",
              "      <th>doc_id</th>\n",
              "      <th>posting_date</th>\n",
              "      <th>document_create_date</th>\n",
              "      <th>document_create_date.1</th>\n",
              "      <th>due_in_date</th>\n",
              "      <th>invoice_currency</th>\n",
              "      <th>document type</th>\n",
              "      <th>posting_id</th>\n",
              "      <th>area_business</th>\n",
              "      <th>total_open_amount</th>\n",
              "      <th>baseline_create_date</th>\n",
              "      <th>cust_payment_terms</th>\n",
              "      <th>invoice_id</th>\n",
              "      <th>isOpen</th>\n",
              "    </tr>\n",
              "  </thead>\n",
              "  <tbody>\n",
              "    <tr>\n",
              "      <th>0</th>\n",
              "      <td>U001</td>\n",
              "      <td>0200769623</td>\n",
              "      <td>WAL-MAR corp</td>\n",
              "      <td>2020-02-11 00:00:00</td>\n",
              "      <td>2020.0</td>\n",
              "      <td>1.930438e+09</td>\n",
              "      <td>2020-01-26</td>\n",
              "      <td>20200125</td>\n",
              "      <td>20200126</td>\n",
              "      <td>20200210.0</td>\n",
              "      <td>USD</td>\n",
              "      <td>RV</td>\n",
              "      <td>1.0</td>\n",
              "      <td>NaN</td>\n",
              "      <td>54273.28</td>\n",
              "      <td>20200126.0</td>\n",
              "      <td>NAH4</td>\n",
              "      <td>1.930438e+09</td>\n",
              "      <td>0</td>\n",
              "    </tr>\n",
              "    <tr>\n",
              "      <th>1</th>\n",
              "      <td>U001</td>\n",
              "      <td>0200980828</td>\n",
              "      <td>BEN E</td>\n",
              "      <td>2019-08-08 00:00:00</td>\n",
              "      <td>2019.0</td>\n",
              "      <td>1.929646e+09</td>\n",
              "      <td>2019-07-22</td>\n",
              "      <td>20190722</td>\n",
              "      <td>20190722</td>\n",
              "      <td>20190811.0</td>\n",
              "      <td>USD</td>\n",
              "      <td>RV</td>\n",
              "      <td>1.0</td>\n",
              "      <td>NaN</td>\n",
              "      <td>79656.60</td>\n",
              "      <td>20190722.0</td>\n",
              "      <td>NAD1</td>\n",
              "      <td>1.929646e+09</td>\n",
              "      <td>0</td>\n",
              "    </tr>\n",
              "    <tr>\n",
              "      <th>2</th>\n",
              "      <td>U001</td>\n",
              "      <td>0200792734</td>\n",
              "      <td>MDV/ trust</td>\n",
              "      <td>2019-12-30 00:00:00</td>\n",
              "      <td>2019.0</td>\n",
              "      <td>1.929874e+09</td>\n",
              "      <td>2019-09-14</td>\n",
              "      <td>20190914</td>\n",
              "      <td>20190914</td>\n",
              "      <td>20190929.0</td>\n",
              "      <td>USD</td>\n",
              "      <td>RV</td>\n",
              "      <td>1.0</td>\n",
              "      <td>NaN</td>\n",
              "      <td>2253.86</td>\n",
              "      <td>20190914.0</td>\n",
              "      <td>NAA8</td>\n",
              "      <td>1.929874e+09</td>\n",
              "      <td>0</td>\n",
              "    </tr>\n",
              "    <tr>\n",
              "      <th>3</th>\n",
              "      <td>CA02</td>\n",
              "      <td>0140105686</td>\n",
              "      <td>SYSC llc</td>\n",
              "      <td>NaN</td>\n",
              "      <td>2020.0</td>\n",
              "      <td>2.960623e+09</td>\n",
              "      <td>2020-03-30</td>\n",
              "      <td>20200330</td>\n",
              "      <td>20200330</td>\n",
              "      <td>20200410.0</td>\n",
              "      <td>CAD</td>\n",
              "      <td>RV</td>\n",
              "      <td>1.0</td>\n",
              "      <td>NaN</td>\n",
              "      <td>3299.70</td>\n",
              "      <td>20200331.0</td>\n",
              "      <td>CA10</td>\n",
              "      <td>2.960623e+09</td>\n",
              "      <td>1</td>\n",
              "    </tr>\n",
              "    <tr>\n",
              "      <th>4</th>\n",
              "      <td>U001</td>\n",
              "      <td>0200769623</td>\n",
              "      <td>WAL-MAR foundation</td>\n",
              "      <td>2019-11-25 00:00:00</td>\n",
              "      <td>2019.0</td>\n",
              "      <td>1.930148e+09</td>\n",
              "      <td>2019-11-13</td>\n",
              "      <td>20191113</td>\n",
              "      <td>20191113</td>\n",
              "      <td>20191128.0</td>\n",
              "      <td>USD</td>\n",
              "      <td>RV</td>\n",
              "      <td>1.0</td>\n",
              "      <td>NaN</td>\n",
              "      <td>33133.29</td>\n",
              "      <td>20191113.0</td>\n",
              "      <td>NAH4</td>\n",
              "      <td>1.930148e+09</td>\n",
              "      <td>0</td>\n",
              "    </tr>\n",
              "  </tbody>\n",
              "</table>\n",
              "</div>\n",
              "      <button class=\"colab-df-convert\" onclick=\"convertToInteractive('df-4c88b1eb-cdb5-4dac-8500-962f45e89c9f')\"\n",
              "              title=\"Convert this dataframe to an interactive table.\"\n",
              "              style=\"display:none;\">\n",
              "        \n",
              "  <svg xmlns=\"http://www.w3.org/2000/svg\" height=\"24px\"viewBox=\"0 0 24 24\"\n",
              "       width=\"24px\">\n",
              "    <path d=\"M0 0h24v24H0V0z\" fill=\"none\"/>\n",
              "    <path d=\"M18.56 5.44l.94 2.06.94-2.06 2.06-.94-2.06-.94-.94-2.06-.94 2.06-2.06.94zm-11 1L8.5 8.5l.94-2.06 2.06-.94-2.06-.94L8.5 2.5l-.94 2.06-2.06.94zm10 10l.94 2.06.94-2.06 2.06-.94-2.06-.94-.94-2.06-.94 2.06-2.06.94z\"/><path d=\"M17.41 7.96l-1.37-1.37c-.4-.4-.92-.59-1.43-.59-.52 0-1.04.2-1.43.59L10.3 9.45l-7.72 7.72c-.78.78-.78 2.05 0 2.83L4 21.41c.39.39.9.59 1.41.59.51 0 1.02-.2 1.41-.59l7.78-7.78 2.81-2.81c.8-.78.8-2.07 0-2.86zM5.41 20L4 18.59l7.72-7.72 1.47 1.35L5.41 20z\"/>\n",
              "  </svg>\n",
              "      </button>\n",
              "      \n",
              "  <style>\n",
              "    .colab-df-container {\n",
              "      display:flex;\n",
              "      flex-wrap:wrap;\n",
              "      gap: 12px;\n",
              "    }\n",
              "\n",
              "    .colab-df-convert {\n",
              "      background-color: #E8F0FE;\n",
              "      border: none;\n",
              "      border-radius: 50%;\n",
              "      cursor: pointer;\n",
              "      display: none;\n",
              "      fill: #1967D2;\n",
              "      height: 32px;\n",
              "      padding: 0 0 0 0;\n",
              "      width: 32px;\n",
              "    }\n",
              "\n",
              "    .colab-df-convert:hover {\n",
              "      background-color: #E2EBFA;\n",
              "      box-shadow: 0px 1px 2px rgba(60, 64, 67, 0.3), 0px 1px 3px 1px rgba(60, 64, 67, 0.15);\n",
              "      fill: #174EA6;\n",
              "    }\n",
              "\n",
              "    [theme=dark] .colab-df-convert {\n",
              "      background-color: #3B4455;\n",
              "      fill: #D2E3FC;\n",
              "    }\n",
              "\n",
              "    [theme=dark] .colab-df-convert:hover {\n",
              "      background-color: #434B5C;\n",
              "      box-shadow: 0px 1px 3px 1px rgba(0, 0, 0, 0.15);\n",
              "      filter: drop-shadow(0px 1px 2px rgba(0, 0, 0, 0.3));\n",
              "      fill: #FFFFFF;\n",
              "    }\n",
              "  </style>\n",
              "\n",
              "      <script>\n",
              "        const buttonEl =\n",
              "          document.querySelector('#df-4c88b1eb-cdb5-4dac-8500-962f45e89c9f button.colab-df-convert');\n",
              "        buttonEl.style.display =\n",
              "          google.colab.kernel.accessAllowed ? 'block' : 'none';\n",
              "\n",
              "        async function convertToInteractive(key) {\n",
              "          const element = document.querySelector('#df-4c88b1eb-cdb5-4dac-8500-962f45e89c9f');\n",
              "          const dataTable =\n",
              "            await google.colab.kernel.invokeFunction('convertToInteractive',\n",
              "                                                     [key], {});\n",
              "          if (!dataTable) return;\n",
              "\n",
              "          const docLinkHtml = 'Like what you see? Visit the ' +\n",
              "            '<a target=\"_blank\" href=https://colab.research.google.com/notebooks/data_table.ipynb>data table notebook</a>'\n",
              "            + ' to learn more about interactive tables.';\n",
              "          element.innerHTML = '';\n",
              "          dataTable['output_type'] = 'display_data';\n",
              "          await google.colab.output.renderOutput(dataTable, element);\n",
              "          const docLink = document.createElement('div');\n",
              "          docLink.innerHTML = docLinkHtml;\n",
              "          element.appendChild(docLink);\n",
              "        }\n",
              "      </script>\n",
              "    </div>\n",
              "  </div>\n",
              "  "
            ]
          },
          "metadata": {},
          "execution_count": 9
        }
      ],
      "source": [
        "df.head()"
      ]
    },
    {
      "cell_type": "markdown",
      "id": "92b044e4",
      "metadata": {
        "id": "92b044e4"
      },
      "source": [
        "### Display the Null values percentage against every columns (compare to the total number of records)\n",
        "\n",
        "- Output expected : area_business - 100% null, clear_data = 20% null, invoice_id = 0.12% null"
      ]
    },
    {
      "cell_type": "code",
      "execution_count": null,
      "id": "24c7b13d",
      "metadata": {
        "id": "24c7b13d",
        "outputId": "5db013f6-2829-49b7-bedb-c3d777b3b513",
        "colab": {
          "base_uri": "https://localhost:8080/"
        }
      },
      "outputs": [
        {
          "output_type": "execute_result",
          "data": {
            "text/plain": [
              "business_code               0.000\n",
              "cust_number                 0.000\n",
              "name_customer               0.000\n",
              "clear_date                 20.000\n",
              "buisness_year               0.000\n",
              "doc_id                      0.000\n",
              "posting_date                0.000\n",
              "document_create_date        0.000\n",
              "document_create_date.1      0.000\n",
              "due_in_date                 0.000\n",
              "invoice_currency            0.000\n",
              "document type               0.000\n",
              "posting_id                  0.000\n",
              "area_business             100.000\n",
              "total_open_amount           0.000\n",
              "baseline_create_date        0.000\n",
              "cust_payment_terms          0.000\n",
              "invoice_id                  0.012\n",
              "isOpen                      0.000\n",
              "dtype: float64"
            ]
          },
          "metadata": {},
          "execution_count": 10
        }
      ],
      "source": [
        "df.isnull().sum() / df.shape[0] * 100"
      ]
    },
    {
      "cell_type": "markdown",
      "id": "2c46a98b",
      "metadata": {
        "id": "2c46a98b"
      },
      "source": [
        "### Display Invoice_id and Doc_Id\n",
        "\n",
        "- Note - Many of the would have same invoice_id and doc_id\n"
      ]
    },
    {
      "cell_type": "code",
      "execution_count": null,
      "id": "038f24bb",
      "metadata": {
        "id": "038f24bb",
        "outputId": "352e95df-b115-4b08-ba85-4b08b8305c16",
        "colab": {
          "base_uri": "https://localhost:8080/",
          "height": 423
        }
      },
      "outputs": [
        {
          "output_type": "execute_result",
          "data": {
            "text/plain": [
              "         invoice_id        doc_id\n",
              "0      1.930438e+09  1.930438e+09\n",
              "1      1.929646e+09  1.929646e+09\n",
              "2      1.929874e+09  1.929874e+09\n",
              "3      2.960623e+09  2.960623e+09\n",
              "4      1.930148e+09  1.930148e+09\n",
              "...             ...           ...\n",
              "49995  1.930797e+09  1.930797e+09\n",
              "49996  1.929744e+09  1.929744e+09\n",
              "49997  1.930537e+09  1.930537e+09\n",
              "49998  1.930199e+09  1.930199e+09\n",
              "49999  1.928576e+09  1.928576e+09\n",
              "\n",
              "[50000 rows x 2 columns]"
            ],
            "text/html": [
              "\n",
              "  <div id=\"df-9a111dbd-f935-464c-8475-1fed8e76b698\">\n",
              "    <div class=\"colab-df-container\">\n",
              "      <div>\n",
              "<style scoped>\n",
              "    .dataframe tbody tr th:only-of-type {\n",
              "        vertical-align: middle;\n",
              "    }\n",
              "\n",
              "    .dataframe tbody tr th {\n",
              "        vertical-align: top;\n",
              "    }\n",
              "\n",
              "    .dataframe thead th {\n",
              "        text-align: right;\n",
              "    }\n",
              "</style>\n",
              "<table border=\"1\" class=\"dataframe\">\n",
              "  <thead>\n",
              "    <tr style=\"text-align: right;\">\n",
              "      <th></th>\n",
              "      <th>invoice_id</th>\n",
              "      <th>doc_id</th>\n",
              "    </tr>\n",
              "  </thead>\n",
              "  <tbody>\n",
              "    <tr>\n",
              "      <th>0</th>\n",
              "      <td>1.930438e+09</td>\n",
              "      <td>1.930438e+09</td>\n",
              "    </tr>\n",
              "    <tr>\n",
              "      <th>1</th>\n",
              "      <td>1.929646e+09</td>\n",
              "      <td>1.929646e+09</td>\n",
              "    </tr>\n",
              "    <tr>\n",
              "      <th>2</th>\n",
              "      <td>1.929874e+09</td>\n",
              "      <td>1.929874e+09</td>\n",
              "    </tr>\n",
              "    <tr>\n",
              "      <th>3</th>\n",
              "      <td>2.960623e+09</td>\n",
              "      <td>2.960623e+09</td>\n",
              "    </tr>\n",
              "    <tr>\n",
              "      <th>4</th>\n",
              "      <td>1.930148e+09</td>\n",
              "      <td>1.930148e+09</td>\n",
              "    </tr>\n",
              "    <tr>\n",
              "      <th>...</th>\n",
              "      <td>...</td>\n",
              "      <td>...</td>\n",
              "    </tr>\n",
              "    <tr>\n",
              "      <th>49995</th>\n",
              "      <td>1.930797e+09</td>\n",
              "      <td>1.930797e+09</td>\n",
              "    </tr>\n",
              "    <tr>\n",
              "      <th>49996</th>\n",
              "      <td>1.929744e+09</td>\n",
              "      <td>1.929744e+09</td>\n",
              "    </tr>\n",
              "    <tr>\n",
              "      <th>49997</th>\n",
              "      <td>1.930537e+09</td>\n",
              "      <td>1.930537e+09</td>\n",
              "    </tr>\n",
              "    <tr>\n",
              "      <th>49998</th>\n",
              "      <td>1.930199e+09</td>\n",
              "      <td>1.930199e+09</td>\n",
              "    </tr>\n",
              "    <tr>\n",
              "      <th>49999</th>\n",
              "      <td>1.928576e+09</td>\n",
              "      <td>1.928576e+09</td>\n",
              "    </tr>\n",
              "  </tbody>\n",
              "</table>\n",
              "<p>50000 rows × 2 columns</p>\n",
              "</div>\n",
              "      <button class=\"colab-df-convert\" onclick=\"convertToInteractive('df-9a111dbd-f935-464c-8475-1fed8e76b698')\"\n",
              "              title=\"Convert this dataframe to an interactive table.\"\n",
              "              style=\"display:none;\">\n",
              "        \n",
              "  <svg xmlns=\"http://www.w3.org/2000/svg\" height=\"24px\"viewBox=\"0 0 24 24\"\n",
              "       width=\"24px\">\n",
              "    <path d=\"M0 0h24v24H0V0z\" fill=\"none\"/>\n",
              "    <path d=\"M18.56 5.44l.94 2.06.94-2.06 2.06-.94-2.06-.94-.94-2.06-.94 2.06-2.06.94zm-11 1L8.5 8.5l.94-2.06 2.06-.94-2.06-.94L8.5 2.5l-.94 2.06-2.06.94zm10 10l.94 2.06.94-2.06 2.06-.94-2.06-.94-.94-2.06-.94 2.06-2.06.94z\"/><path d=\"M17.41 7.96l-1.37-1.37c-.4-.4-.92-.59-1.43-.59-.52 0-1.04.2-1.43.59L10.3 9.45l-7.72 7.72c-.78.78-.78 2.05 0 2.83L4 21.41c.39.39.9.59 1.41.59.51 0 1.02-.2 1.41-.59l7.78-7.78 2.81-2.81c.8-.78.8-2.07 0-2.86zM5.41 20L4 18.59l7.72-7.72 1.47 1.35L5.41 20z\"/>\n",
              "  </svg>\n",
              "      </button>\n",
              "      \n",
              "  <style>\n",
              "    .colab-df-container {\n",
              "      display:flex;\n",
              "      flex-wrap:wrap;\n",
              "      gap: 12px;\n",
              "    }\n",
              "\n",
              "    .colab-df-convert {\n",
              "      background-color: #E8F0FE;\n",
              "      border: none;\n",
              "      border-radius: 50%;\n",
              "      cursor: pointer;\n",
              "      display: none;\n",
              "      fill: #1967D2;\n",
              "      height: 32px;\n",
              "      padding: 0 0 0 0;\n",
              "      width: 32px;\n",
              "    }\n",
              "\n",
              "    .colab-df-convert:hover {\n",
              "      background-color: #E2EBFA;\n",
              "      box-shadow: 0px 1px 2px rgba(60, 64, 67, 0.3), 0px 1px 3px 1px rgba(60, 64, 67, 0.15);\n",
              "      fill: #174EA6;\n",
              "    }\n",
              "\n",
              "    [theme=dark] .colab-df-convert {\n",
              "      background-color: #3B4455;\n",
              "      fill: #D2E3FC;\n",
              "    }\n",
              "\n",
              "    [theme=dark] .colab-df-convert:hover {\n",
              "      background-color: #434B5C;\n",
              "      box-shadow: 0px 1px 3px 1px rgba(0, 0, 0, 0.15);\n",
              "      filter: drop-shadow(0px 1px 2px rgba(0, 0, 0, 0.3));\n",
              "      fill: #FFFFFF;\n",
              "    }\n",
              "  </style>\n",
              "\n",
              "      <script>\n",
              "        const buttonEl =\n",
              "          document.querySelector('#df-9a111dbd-f935-464c-8475-1fed8e76b698 button.colab-df-convert');\n",
              "        buttonEl.style.display =\n",
              "          google.colab.kernel.accessAllowed ? 'block' : 'none';\n",
              "\n",
              "        async function convertToInteractive(key) {\n",
              "          const element = document.querySelector('#df-9a111dbd-f935-464c-8475-1fed8e76b698');\n",
              "          const dataTable =\n",
              "            await google.colab.kernel.invokeFunction('convertToInteractive',\n",
              "                                                     [key], {});\n",
              "          if (!dataTable) return;\n",
              "\n",
              "          const docLinkHtml = 'Like what you see? Visit the ' +\n",
              "            '<a target=\"_blank\" href=https://colab.research.google.com/notebooks/data_table.ipynb>data table notebook</a>'\n",
              "            + ' to learn more about interactive tables.';\n",
              "          element.innerHTML = '';\n",
              "          dataTable['output_type'] = 'display_data';\n",
              "          await google.colab.output.renderOutput(dataTable, element);\n",
              "          const docLink = document.createElement('div');\n",
              "          docLink.innerHTML = docLinkHtml;\n",
              "          element.appendChild(docLink);\n",
              "        }\n",
              "      </script>\n",
              "    </div>\n",
              "  </div>\n",
              "  "
            ]
          },
          "metadata": {},
          "execution_count": 11
        }
      ],
      "source": [
        "df[[\"invoice_id\", \"doc_id\"]]"
      ]
    },
    {
      "cell_type": "markdown",
      "id": "18cfe10a",
      "metadata": {
        "id": "18cfe10a"
      },
      "source": [
        "#### Write a code to check - 'baseline_create_date',\"document_create_date\",'document_create_date.1' - these columns are almost same.\n",
        "\n",
        "- Please note, if they are same, we need to drop them later\n",
        "\n"
      ]
    },
    {
      "cell_type": "code",
      "execution_count": null,
      "id": "cf5b40ff",
      "metadata": {
        "id": "cf5b40ff",
        "outputId": "66e1990a-b57d-46da-c37b-fa29e3adef33",
        "colab": {
          "base_uri": "https://localhost:8080/"
        }
      },
      "outputs": [
        {
          "output_type": "execute_result",
          "data": {
            "text/plain": [
              "21232"
            ]
          },
          "metadata": {},
          "execution_count": 12
        }
      ],
      "source": [
        "(df['document_create_date.1'] == df['document_create_date']).sum()"
      ]
    },
    {
      "cell_type": "markdown",
      "id": "33110576",
      "metadata": {
        "id": "33110576"
      },
      "source": [
        "#### Please check, Column 'posting_id' is constant columns or not\n"
      ]
    },
    {
      "cell_type": "code",
      "execution_count": null,
      "id": "ecce2664",
      "metadata": {
        "id": "ecce2664",
        "outputId": "bf57e692-390d-40c8-effe-9de808c793f7",
        "colab": {
          "base_uri": "https://localhost:8080/"
        }
      },
      "outputs": [
        {
          "output_type": "stream",
          "name": "stdout",
          "text": [
            "Posting Id is a constant column\n"
          ]
        }
      ],
      "source": [
        "if(df[\"posting_id\"].nunique()):\n",
        "  print(\"Posting Id is a constant column\")\n",
        "else:\n",
        "  print(\"Posting Id is not a constant column\")"
      ]
    },
    {
      "cell_type": "markdown",
      "id": "e5fb8daf",
      "metadata": {
        "id": "e5fb8daf"
      },
      "source": [
        "#### Please check 'isOpen' is a constant column and relevant column for this project or not"
      ]
    },
    {
      "cell_type": "code",
      "execution_count": null,
      "id": "8db9956b",
      "metadata": {
        "id": "8db9956b",
        "outputId": "bdbc01a1-4b8f-484a-a8ee-fdf0edf2fd2d",
        "colab": {
          "base_uri": "https://localhost:8080/"
        }
      },
      "outputs": [
        {
          "output_type": "execute_result",
          "data": {
            "text/plain": [
              "2"
            ]
          },
          "metadata": {},
          "execution_count": 14
        }
      ],
      "source": [
        "df[\"isOpen\"].nunique()"
      ]
    },
    {
      "cell_type": "markdown",
      "id": "45a11a62",
      "metadata": {
        "id": "45a11a62"
      },
      "source": [
        "### Write the code to drop all the following columns from the dataframe\n",
        "\n",
        "- 'area_business'\n",
        "- \"posting_id\"\n",
        "- \"invoice_id\"\n",
        "- \"document_create_date\"\n",
        "- \"isOpen\"\n",
        "- 'document type' \n",
        "- 'document_create_date.1"
      ]
    },
    {
      "cell_type": "code",
      "execution_count": null,
      "id": "270d85d1",
      "metadata": {
        "id": "270d85d1"
      },
      "outputs": [],
      "source": [
        "cols_to_drop = [\"area_business\", \"posting_id\", \"invoice_id\", \"document_create_date\", \"isOpen\", \"document type\",\n",
        "        \"document_create_date.1\"]\n",
        "df.drop(cols_to_drop, axis=1, inplace=True)\n"
      ]
    },
    {
      "cell_type": "markdown",
      "source": [
        "### Please check from the dataframe whether all the columns are removed or not "
      ],
      "metadata": {
        "id": "K5LHAM2XVGnk"
      },
      "id": "K5LHAM2XVGnk"
    },
    {
      "cell_type": "code",
      "execution_count": null,
      "id": "ef3f7d2b",
      "metadata": {
        "id": "ef3f7d2b",
        "outputId": "891f60a0-a07a-482f-ec67-45e2e3a049ed",
        "colab": {
          "base_uri": "https://localhost:8080/"
        }
      },
      "outputs": [
        {
          "output_type": "execute_result",
          "data": {
            "text/plain": [
              "Index(['business_code', 'cust_number', 'name_customer', 'clear_date',\n",
              "       'buisness_year', 'doc_id', 'posting_date', 'due_in_date',\n",
              "       'invoice_currency', 'total_open_amount', 'baseline_create_date',\n",
              "       'cust_payment_terms'],\n",
              "      dtype='object')"
            ]
          },
          "metadata": {},
          "execution_count": 16
        }
      ],
      "source": [
        "df.columns"
      ]
    },
    {
      "cell_type": "markdown",
      "id": "6bc052c7",
      "metadata": {
        "id": "6bc052c7"
      },
      "source": [
        "### Show all the Duplicate rows from the dataframe"
      ]
    },
    {
      "cell_type": "code",
      "execution_count": null,
      "id": "1ae3c7e4",
      "metadata": {
        "id": "1ae3c7e4",
        "outputId": "c3e17d24-a18b-4f60-9735-ebcbc3a95ae2",
        "colab": {
          "base_uri": "https://localhost:8080/",
          "height": 644
        }
      },
      "outputs": [
        {
          "output_type": "execute_result",
          "data": {
            "text/plain": [
              "      business_code cust_number        name_customer           clear_date  \\\n",
              "1041           U001  0200769623           WAL-MAR in  2019-03-12 00:00:00   \n",
              "2400           U001  0200769623        WAL-MAR trust  2019-08-28 00:00:00   \n",
              "2584           U001  0200769623  WAL-MAR corporation  2019-12-16 00:00:00   \n",
              "3755           U001  0200769623             WAL-MAR   2019-11-22 00:00:00   \n",
              "3873           CA02  0140104409       LOB associates                  NaN   \n",
              "...             ...         ...                  ...                  ...   \n",
              "49928          U001  0200915438           GROC trust  2019-08-15 00:00:00   \n",
              "49963          U001  0200759878                SA us  2019-01-29 00:00:00   \n",
              "49986          U001  0200772670  ASSOCIAT foundation  2019-06-12 00:00:00   \n",
              "49990          U001  0200765011           MAINES llc  2019-06-06 00:00:00   \n",
              "49991          U001  0200704045             RA trust  2019-10-25 00:00:00   \n",
              "\n",
              "       buisness_year        doc_id posting_date  due_in_date invoice_currency  \\\n",
              "1041          2019.0  1.928870e+09   2019-02-28   20190315.0              USD   \n",
              "2400          2019.0  1.929758e+09   2019-08-18   20190902.0              USD   \n",
              "2584          2019.0  1.930217e+09   2019-12-04   20191219.0              USD   \n",
              "3755          2019.0  1.930137e+09   2019-11-12   20191127.0              USD   \n",
              "3873          2020.0  2.960629e+09   2020-04-14   20200425.0              CAD   \n",
              "...              ...           ...          ...          ...              ...   \n",
              "49928         2019.0  1.929646e+09   2019-07-25   20190809.0              USD   \n",
              "49963         2019.0  1.928614e+09   2019-01-13   20190128.0              USD   \n",
              "49986         2019.0  1.929403e+09   2019-05-29   20190613.0              USD   \n",
              "49990         2019.0  1.929365e+09   2019-05-22   20190606.0              USD   \n",
              "49991         2019.0  1.930001e+09   2019-10-10   20191025.0              USD   \n",
              "\n",
              "       total_open_amount  baseline_create_date cust_payment_terms  \n",
              "1041            19557.41            20190228.0               NAH4  \n",
              "2400             5600.41            20190818.0               NAH4  \n",
              "2584            35352.17            20191204.0               NAH4  \n",
              "3755             2982.64            20191112.0               NAH4  \n",
              "3873            82975.82            20200415.0               CA10  \n",
              "...                  ...                   ...                ...  \n",
              "49928            6969.00            20190725.0               NAA8  \n",
              "49963           10968.24            20190113.0               NAH4  \n",
              "49986          155837.53            20190529.0               NAU5  \n",
              "49990            4008.05            20190522.0               NAA8  \n",
              "49991           73002.24            20191010.0               NAA8  \n",
              "\n",
              "[1161 rows x 12 columns]"
            ],
            "text/html": [
              "\n",
              "  <div id=\"df-895414ac-fc3a-41ca-91ed-5ae631e5b575\">\n",
              "    <div class=\"colab-df-container\">\n",
              "      <div>\n",
              "<style scoped>\n",
              "    .dataframe tbody tr th:only-of-type {\n",
              "        vertical-align: middle;\n",
              "    }\n",
              "\n",
              "    .dataframe tbody tr th {\n",
              "        vertical-align: top;\n",
              "    }\n",
              "\n",
              "    .dataframe thead th {\n",
              "        text-align: right;\n",
              "    }\n",
              "</style>\n",
              "<table border=\"1\" class=\"dataframe\">\n",
              "  <thead>\n",
              "    <tr style=\"text-align: right;\">\n",
              "      <th></th>\n",
              "      <th>business_code</th>\n",
              "      <th>cust_number</th>\n",
              "      <th>name_customer</th>\n",
              "      <th>clear_date</th>\n",
              "      <th>buisness_year</th>\n",
              "      <th>doc_id</th>\n",
              "      <th>posting_date</th>\n",
              "      <th>due_in_date</th>\n",
              "      <th>invoice_currency</th>\n",
              "      <th>total_open_amount</th>\n",
              "      <th>baseline_create_date</th>\n",
              "      <th>cust_payment_terms</th>\n",
              "    </tr>\n",
              "  </thead>\n",
              "  <tbody>\n",
              "    <tr>\n",
              "      <th>1041</th>\n",
              "      <td>U001</td>\n",
              "      <td>0200769623</td>\n",
              "      <td>WAL-MAR in</td>\n",
              "      <td>2019-03-12 00:00:00</td>\n",
              "      <td>2019.0</td>\n",
              "      <td>1.928870e+09</td>\n",
              "      <td>2019-02-28</td>\n",
              "      <td>20190315.0</td>\n",
              "      <td>USD</td>\n",
              "      <td>19557.41</td>\n",
              "      <td>20190228.0</td>\n",
              "      <td>NAH4</td>\n",
              "    </tr>\n",
              "    <tr>\n",
              "      <th>2400</th>\n",
              "      <td>U001</td>\n",
              "      <td>0200769623</td>\n",
              "      <td>WAL-MAR trust</td>\n",
              "      <td>2019-08-28 00:00:00</td>\n",
              "      <td>2019.0</td>\n",
              "      <td>1.929758e+09</td>\n",
              "      <td>2019-08-18</td>\n",
              "      <td>20190902.0</td>\n",
              "      <td>USD</td>\n",
              "      <td>5600.41</td>\n",
              "      <td>20190818.0</td>\n",
              "      <td>NAH4</td>\n",
              "    </tr>\n",
              "    <tr>\n",
              "      <th>2584</th>\n",
              "      <td>U001</td>\n",
              "      <td>0200769623</td>\n",
              "      <td>WAL-MAR corporation</td>\n",
              "      <td>2019-12-16 00:00:00</td>\n",
              "      <td>2019.0</td>\n",
              "      <td>1.930217e+09</td>\n",
              "      <td>2019-12-04</td>\n",
              "      <td>20191219.0</td>\n",
              "      <td>USD</td>\n",
              "      <td>35352.17</td>\n",
              "      <td>20191204.0</td>\n",
              "      <td>NAH4</td>\n",
              "    </tr>\n",
              "    <tr>\n",
              "      <th>3755</th>\n",
              "      <td>U001</td>\n",
              "      <td>0200769623</td>\n",
              "      <td>WAL-MAR</td>\n",
              "      <td>2019-11-22 00:00:00</td>\n",
              "      <td>2019.0</td>\n",
              "      <td>1.930137e+09</td>\n",
              "      <td>2019-11-12</td>\n",
              "      <td>20191127.0</td>\n",
              "      <td>USD</td>\n",
              "      <td>2982.64</td>\n",
              "      <td>20191112.0</td>\n",
              "      <td>NAH4</td>\n",
              "    </tr>\n",
              "    <tr>\n",
              "      <th>3873</th>\n",
              "      <td>CA02</td>\n",
              "      <td>0140104409</td>\n",
              "      <td>LOB associates</td>\n",
              "      <td>NaN</td>\n",
              "      <td>2020.0</td>\n",
              "      <td>2.960629e+09</td>\n",
              "      <td>2020-04-14</td>\n",
              "      <td>20200425.0</td>\n",
              "      <td>CAD</td>\n",
              "      <td>82975.82</td>\n",
              "      <td>20200415.0</td>\n",
              "      <td>CA10</td>\n",
              "    </tr>\n",
              "    <tr>\n",
              "      <th>...</th>\n",
              "      <td>...</td>\n",
              "      <td>...</td>\n",
              "      <td>...</td>\n",
              "      <td>...</td>\n",
              "      <td>...</td>\n",
              "      <td>...</td>\n",
              "      <td>...</td>\n",
              "      <td>...</td>\n",
              "      <td>...</td>\n",
              "      <td>...</td>\n",
              "      <td>...</td>\n",
              "      <td>...</td>\n",
              "    </tr>\n",
              "    <tr>\n",
              "      <th>49928</th>\n",
              "      <td>U001</td>\n",
              "      <td>0200915438</td>\n",
              "      <td>GROC trust</td>\n",
              "      <td>2019-08-15 00:00:00</td>\n",
              "      <td>2019.0</td>\n",
              "      <td>1.929646e+09</td>\n",
              "      <td>2019-07-25</td>\n",
              "      <td>20190809.0</td>\n",
              "      <td>USD</td>\n",
              "      <td>6969.00</td>\n",
              "      <td>20190725.0</td>\n",
              "      <td>NAA8</td>\n",
              "    </tr>\n",
              "    <tr>\n",
              "      <th>49963</th>\n",
              "      <td>U001</td>\n",
              "      <td>0200759878</td>\n",
              "      <td>SA us</td>\n",
              "      <td>2019-01-29 00:00:00</td>\n",
              "      <td>2019.0</td>\n",
              "      <td>1.928614e+09</td>\n",
              "      <td>2019-01-13</td>\n",
              "      <td>20190128.0</td>\n",
              "      <td>USD</td>\n",
              "      <td>10968.24</td>\n",
              "      <td>20190113.0</td>\n",
              "      <td>NAH4</td>\n",
              "    </tr>\n",
              "    <tr>\n",
              "      <th>49986</th>\n",
              "      <td>U001</td>\n",
              "      <td>0200772670</td>\n",
              "      <td>ASSOCIAT foundation</td>\n",
              "      <td>2019-06-12 00:00:00</td>\n",
              "      <td>2019.0</td>\n",
              "      <td>1.929403e+09</td>\n",
              "      <td>2019-05-29</td>\n",
              "      <td>20190613.0</td>\n",
              "      <td>USD</td>\n",
              "      <td>155837.53</td>\n",
              "      <td>20190529.0</td>\n",
              "      <td>NAU5</td>\n",
              "    </tr>\n",
              "    <tr>\n",
              "      <th>49990</th>\n",
              "      <td>U001</td>\n",
              "      <td>0200765011</td>\n",
              "      <td>MAINES llc</td>\n",
              "      <td>2019-06-06 00:00:00</td>\n",
              "      <td>2019.0</td>\n",
              "      <td>1.929365e+09</td>\n",
              "      <td>2019-05-22</td>\n",
              "      <td>20190606.0</td>\n",
              "      <td>USD</td>\n",
              "      <td>4008.05</td>\n",
              "      <td>20190522.0</td>\n",
              "      <td>NAA8</td>\n",
              "    </tr>\n",
              "    <tr>\n",
              "      <th>49991</th>\n",
              "      <td>U001</td>\n",
              "      <td>0200704045</td>\n",
              "      <td>RA trust</td>\n",
              "      <td>2019-10-25 00:00:00</td>\n",
              "      <td>2019.0</td>\n",
              "      <td>1.930001e+09</td>\n",
              "      <td>2019-10-10</td>\n",
              "      <td>20191025.0</td>\n",
              "      <td>USD</td>\n",
              "      <td>73002.24</td>\n",
              "      <td>20191010.0</td>\n",
              "      <td>NAA8</td>\n",
              "    </tr>\n",
              "  </tbody>\n",
              "</table>\n",
              "<p>1161 rows × 12 columns</p>\n",
              "</div>\n",
              "      <button class=\"colab-df-convert\" onclick=\"convertToInteractive('df-895414ac-fc3a-41ca-91ed-5ae631e5b575')\"\n",
              "              title=\"Convert this dataframe to an interactive table.\"\n",
              "              style=\"display:none;\">\n",
              "        \n",
              "  <svg xmlns=\"http://www.w3.org/2000/svg\" height=\"24px\"viewBox=\"0 0 24 24\"\n",
              "       width=\"24px\">\n",
              "    <path d=\"M0 0h24v24H0V0z\" fill=\"none\"/>\n",
              "    <path d=\"M18.56 5.44l.94 2.06.94-2.06 2.06-.94-2.06-.94-.94-2.06-.94 2.06-2.06.94zm-11 1L8.5 8.5l.94-2.06 2.06-.94-2.06-.94L8.5 2.5l-.94 2.06-2.06.94zm10 10l.94 2.06.94-2.06 2.06-.94-2.06-.94-.94-2.06-.94 2.06-2.06.94z\"/><path d=\"M17.41 7.96l-1.37-1.37c-.4-.4-.92-.59-1.43-.59-.52 0-1.04.2-1.43.59L10.3 9.45l-7.72 7.72c-.78.78-.78 2.05 0 2.83L4 21.41c.39.39.9.59 1.41.59.51 0 1.02-.2 1.41-.59l7.78-7.78 2.81-2.81c.8-.78.8-2.07 0-2.86zM5.41 20L4 18.59l7.72-7.72 1.47 1.35L5.41 20z\"/>\n",
              "  </svg>\n",
              "      </button>\n",
              "      \n",
              "  <style>\n",
              "    .colab-df-container {\n",
              "      display:flex;\n",
              "      flex-wrap:wrap;\n",
              "      gap: 12px;\n",
              "    }\n",
              "\n",
              "    .colab-df-convert {\n",
              "      background-color: #E8F0FE;\n",
              "      border: none;\n",
              "      border-radius: 50%;\n",
              "      cursor: pointer;\n",
              "      display: none;\n",
              "      fill: #1967D2;\n",
              "      height: 32px;\n",
              "      padding: 0 0 0 0;\n",
              "      width: 32px;\n",
              "    }\n",
              "\n",
              "    .colab-df-convert:hover {\n",
              "      background-color: #E2EBFA;\n",
              "      box-shadow: 0px 1px 2px rgba(60, 64, 67, 0.3), 0px 1px 3px 1px rgba(60, 64, 67, 0.15);\n",
              "      fill: #174EA6;\n",
              "    }\n",
              "\n",
              "    [theme=dark] .colab-df-convert {\n",
              "      background-color: #3B4455;\n",
              "      fill: #D2E3FC;\n",
              "    }\n",
              "\n",
              "    [theme=dark] .colab-df-convert:hover {\n",
              "      background-color: #434B5C;\n",
              "      box-shadow: 0px 1px 3px 1px rgba(0, 0, 0, 0.15);\n",
              "      filter: drop-shadow(0px 1px 2px rgba(0, 0, 0, 0.3));\n",
              "      fill: #FFFFFF;\n",
              "    }\n",
              "  </style>\n",
              "\n",
              "      <script>\n",
              "        const buttonEl =\n",
              "          document.querySelector('#df-895414ac-fc3a-41ca-91ed-5ae631e5b575 button.colab-df-convert');\n",
              "        buttonEl.style.display =\n",
              "          google.colab.kernel.accessAllowed ? 'block' : 'none';\n",
              "\n",
              "        async function convertToInteractive(key) {\n",
              "          const element = document.querySelector('#df-895414ac-fc3a-41ca-91ed-5ae631e5b575');\n",
              "          const dataTable =\n",
              "            await google.colab.kernel.invokeFunction('convertToInteractive',\n",
              "                                                     [key], {});\n",
              "          if (!dataTable) return;\n",
              "\n",
              "          const docLinkHtml = 'Like what you see? Visit the ' +\n",
              "            '<a target=\"_blank\" href=https://colab.research.google.com/notebooks/data_table.ipynb>data table notebook</a>'\n",
              "            + ' to learn more about interactive tables.';\n",
              "          element.innerHTML = '';\n",
              "          dataTable['output_type'] = 'display_data';\n",
              "          await google.colab.output.renderOutput(dataTable, element);\n",
              "          const docLink = document.createElement('div');\n",
              "          docLink.innerHTML = docLinkHtml;\n",
              "          element.appendChild(docLink);\n",
              "        }\n",
              "      </script>\n",
              "    </div>\n",
              "  </div>\n",
              "  "
            ]
          },
          "metadata": {},
          "execution_count": 17
        }
      ],
      "source": [
        "df[df.duplicated(keep='first')]"
      ]
    },
    {
      "cell_type": "markdown",
      "id": "464fab09",
      "metadata": {
        "id": "464fab09"
      },
      "source": [
        "### Display the Number of Duplicate Rows"
      ]
    },
    {
      "cell_type": "code",
      "execution_count": null,
      "id": "b1ea2397",
      "metadata": {
        "id": "b1ea2397",
        "outputId": "0e164690-7f55-42e0-d596-6166b94659a4",
        "colab": {
          "base_uri": "https://localhost:8080/"
        }
      },
      "outputs": [
        {
          "output_type": "execute_result",
          "data": {
            "text/plain": [
              "1161"
            ]
          },
          "metadata": {},
          "execution_count": 18
        }
      ],
      "source": [
        "df.duplicated().sum()"
      ]
    },
    {
      "cell_type": "markdown",
      "id": "827a6718",
      "metadata": {
        "id": "827a6718"
      },
      "source": [
        "### Drop all the Duplicate Rows"
      ]
    },
    {
      "cell_type": "code",
      "execution_count": null,
      "id": "5d10151c",
      "metadata": {
        "id": "5d10151c"
      },
      "outputs": [],
      "source": [
        "df.drop_duplicates(keep='first', inplace=True)"
      ]
    },
    {
      "cell_type": "markdown",
      "id": "7e5d1f9b",
      "metadata": {
        "id": "7e5d1f9b"
      },
      "source": [
        "#### Now check for all duplicate rows now\n",
        "\n",
        "- Note - It must be 0 by now"
      ]
    },
    {
      "cell_type": "code",
      "execution_count": null,
      "id": "9accc9fc",
      "metadata": {
        "id": "9accc9fc",
        "outputId": "424dd9d9-dabc-4876-add8-e11541b08cb9",
        "colab": {
          "base_uri": "https://localhost:8080/"
        }
      },
      "outputs": [
        {
          "output_type": "execute_result",
          "data": {
            "text/plain": [
              "0"
            ]
          },
          "metadata": {},
          "execution_count": 20
        }
      ],
      "source": [
        "df.duplicated().sum()"
      ]
    },
    {
      "cell_type": "markdown",
      "id": "d0704898",
      "metadata": {
        "id": "d0704898"
      },
      "source": [
        "### Check for the number of Rows and Columns in your dataset"
      ]
    },
    {
      "cell_type": "code",
      "execution_count": null,
      "id": "582748a8",
      "metadata": {
        "id": "582748a8",
        "outputId": "058b8364-ee57-4219-85de-e56b17fda68d",
        "colab": {
          "base_uri": "https://localhost:8080/"
        }
      },
      "outputs": [
        {
          "output_type": "execute_result",
          "data": {
            "text/plain": [
              "(48839, 12)"
            ]
          },
          "metadata": {},
          "execution_count": 21
        }
      ],
      "source": [
        "df.shape"
      ]
    },
    {
      "cell_type": "markdown",
      "source": [
        "### Find out the total count of null values in each columns"
      ],
      "metadata": {
        "id": "4o9c5UodWRtl"
      },
      "id": "4o9c5UodWRtl"
    },
    {
      "cell_type": "code",
      "execution_count": null,
      "id": "b0612cb5",
      "metadata": {
        "id": "b0612cb5",
        "outputId": "0c960112-1214-423f-e633-dede83ecaf82",
        "colab": {
          "base_uri": "https://localhost:8080/"
        }
      },
      "outputs": [
        {
          "output_type": "execute_result",
          "data": {
            "text/plain": [
              "business_code              0\n",
              "cust_number                0\n",
              "name_customer              0\n",
              "clear_date              9681\n",
              "buisness_year              0\n",
              "doc_id                     0\n",
              "posting_date               0\n",
              "due_in_date                0\n",
              "invoice_currency           0\n",
              "total_open_amount          0\n",
              "baseline_create_date       0\n",
              "cust_payment_terms         0\n",
              "dtype: int64"
            ]
          },
          "metadata": {},
          "execution_count": 22
        }
      ],
      "source": [
        "df.isnull().sum()"
      ]
    },
    {
      "cell_type": "markdown",
      "id": "7abdb98b",
      "metadata": {
        "id": "7abdb98b"
      },
      "source": [
        "#Data type Conversion "
      ]
    },
    {
      "cell_type": "markdown",
      "source": [
        "### Please check the data type of each column of the dataframe"
      ],
      "metadata": {
        "id": "LPfSUSp-WpPj"
      },
      "id": "LPfSUSp-WpPj"
    },
    {
      "cell_type": "code",
      "execution_count": null,
      "id": "689c8592",
      "metadata": {
        "id": "689c8592",
        "outputId": "c82da27e-fa2a-4c4c-837a-ea0c34781287",
        "colab": {
          "base_uri": "https://localhost:8080/"
        }
      },
      "outputs": [
        {
          "output_type": "execute_result",
          "data": {
            "text/plain": [
              "business_code            object\n",
              "cust_number              object\n",
              "name_customer            object\n",
              "clear_date               object\n",
              "buisness_year           float64\n",
              "doc_id                  float64\n",
              "posting_date             object\n",
              "due_in_date             float64\n",
              "invoice_currency         object\n",
              "total_open_amount       float64\n",
              "baseline_create_date    float64\n",
              "cust_payment_terms       object\n",
              "dtype: object"
            ]
          },
          "metadata": {},
          "execution_count": 23
        }
      ],
      "source": [
        "df.dtypes"
      ]
    },
    {
      "cell_type": "markdown",
      "source": [
        "### Check the datatype format of below columns\n",
        "\n",
        "- clear_date  \n",
        "- posting_date\n",
        "- due_in_date \n",
        "- baseline_create_date"
      ],
      "metadata": {
        "id": "0nsem0_3XzOt"
      },
      "id": "0nsem0_3XzOt"
    },
    {
      "cell_type": "code",
      "source": [
        "df[[\"clear_date\", \"posting_date\", \"due_in_date\", \"baseline_create_date\"]].dtypes"
      ],
      "metadata": {
        "id": "-yyODyW3X6pL",
        "outputId": "836c5847-9343-4017-8d4e-130123486623",
        "colab": {
          "base_uri": "https://localhost:8080/"
        }
      },
      "id": "-yyODyW3X6pL",
      "execution_count": null,
      "outputs": [
        {
          "output_type": "execute_result",
          "data": {
            "text/plain": [
              "clear_date               object\n",
              "posting_date             object\n",
              "due_in_date             float64\n",
              "baseline_create_date    float64\n",
              "dtype: object"
            ]
          },
          "metadata": {},
          "execution_count": 24
        }
      ]
    },
    {
      "cell_type": "markdown",
      "id": "11cf9478",
      "metadata": {
        "id": "11cf9478"
      },
      "source": [
        "### converting date columns into date time formats\n",
        "\n",
        "- clear_date  \n",
        "- posting_date\n",
        "- due_in_date \n",
        "- baseline_create_date\n",
        "\n",
        "\n",
        "- **Note - You have to convert all these above columns into \"%Y%m%d\" format**"
      ]
    },
    {
      "cell_type": "code",
      "execution_count": null,
      "id": "9a8c6c71",
      "metadata": {
        "id": "9a8c6c71"
      },
      "outputs": [],
      "source": [
        "df['due_in_date'] = df['due_in_date'].astype(np.int64)\n",
        "df['baseline_create_date'] = df['baseline_create_date'].astype(np.int64)\n",
        "df['due_in_date'] = df['due_in_date'].astype(str)\n",
        "df['baseline_create_date'] = df['baseline_create_date'].astype(str)\n",
        "\n",
        "col_to_date = ['baseline_create_date','due_in_date','clear_date','posting_date']\n",
        "for x in col_to_date:\n",
        "    df[x] = pd.to_datetime(df[x],format='%Y-%m-%d')"
      ]
    },
    {
      "cell_type": "markdown",
      "source": [
        "### Please check the datatype of all the columns after conversion of the above 4 columns"
      ],
      "metadata": {
        "id": "7adq0wSIYSCS"
      },
      "id": "7adq0wSIYSCS"
    },
    {
      "cell_type": "code",
      "execution_count": null,
      "id": "fd028c61",
      "metadata": {
        "id": "fd028c61",
        "outputId": "8f09cdfe-5af4-468a-a9b4-3a371e8298a9",
        "colab": {
          "base_uri": "https://localhost:8080/"
        }
      },
      "outputs": [
        {
          "output_type": "execute_result",
          "data": {
            "text/plain": [
              "clear_date              datetime64[ns]\n",
              "posting_date            datetime64[ns]\n",
              "due_in_date             datetime64[ns]\n",
              "baseline_create_date    datetime64[ns]\n",
              "dtype: object"
            ]
          },
          "metadata": {},
          "execution_count": 26
        }
      ],
      "source": [
        "df[[\"clear_date\", \"posting_date\", \"due_in_date\", \"baseline_create_date\"]].dtypes"
      ]
    },
    {
      "cell_type": "markdown",
      "id": "8c9882fa",
      "metadata": {
        "id": "8c9882fa"
      },
      "source": [
        "#### the invoice_currency column contains two different categories, USD and CAD\n",
        "\n",
        "- Please do a count of each currency "
      ]
    },
    {
      "cell_type": "code",
      "execution_count": null,
      "id": "72085397",
      "metadata": {
        "id": "72085397",
        "outputId": "171dcf50-6a27-4499-ff9c-a6da00b12d16",
        "colab": {
          "base_uri": "https://localhost:8080/"
        }
      },
      "outputs": [
        {
          "output_type": "execute_result",
          "data": {
            "text/plain": [
              "USD    45011\n",
              "CAD     3828\n",
              "Name: invoice_currency, dtype: int64"
            ]
          },
          "metadata": {},
          "execution_count": 27
        }
      ],
      "source": [
        "df[\"invoice_currency\"].value_counts()"
      ]
    },
    {
      "cell_type": "markdown",
      "id": "6cbe26ee",
      "metadata": {
        "id": "6cbe26ee"
      },
      "source": [
        "#### display the \"total_open_amount\" column value"
      ]
    },
    {
      "cell_type": "code",
      "execution_count": null,
      "id": "6c49f2ab",
      "metadata": {
        "id": "6c49f2ab",
        "outputId": "fadb6dd7-f328-4171-8952-603f6cf5583f",
        "colab": {
          "base_uri": "https://localhost:8080/",
          "height": 423
        }
      },
      "outputs": [
        {
          "output_type": "execute_result",
          "data": {
            "text/plain": [
              "       total_open_amount\n",
              "0               54273.28\n",
              "1               79656.60\n",
              "2                2253.86\n",
              "3                3299.70\n",
              "4               33133.29\n",
              "...                  ...\n",
              "49995            3187.86\n",
              "49996            6766.54\n",
              "49997            6120.86\n",
              "49998              63.48\n",
              "49999            1790.30\n",
              "\n",
              "[48839 rows x 1 columns]"
            ],
            "text/html": [
              "\n",
              "  <div id=\"df-bbf3557c-10f5-4afe-a432-f71c7b28bd63\">\n",
              "    <div class=\"colab-df-container\">\n",
              "      <div>\n",
              "<style scoped>\n",
              "    .dataframe tbody tr th:only-of-type {\n",
              "        vertical-align: middle;\n",
              "    }\n",
              "\n",
              "    .dataframe tbody tr th {\n",
              "        vertical-align: top;\n",
              "    }\n",
              "\n",
              "    .dataframe thead th {\n",
              "        text-align: right;\n",
              "    }\n",
              "</style>\n",
              "<table border=\"1\" class=\"dataframe\">\n",
              "  <thead>\n",
              "    <tr style=\"text-align: right;\">\n",
              "      <th></th>\n",
              "      <th>total_open_amount</th>\n",
              "    </tr>\n",
              "  </thead>\n",
              "  <tbody>\n",
              "    <tr>\n",
              "      <th>0</th>\n",
              "      <td>54273.28</td>\n",
              "    </tr>\n",
              "    <tr>\n",
              "      <th>1</th>\n",
              "      <td>79656.60</td>\n",
              "    </tr>\n",
              "    <tr>\n",
              "      <th>2</th>\n",
              "      <td>2253.86</td>\n",
              "    </tr>\n",
              "    <tr>\n",
              "      <th>3</th>\n",
              "      <td>3299.70</td>\n",
              "    </tr>\n",
              "    <tr>\n",
              "      <th>4</th>\n",
              "      <td>33133.29</td>\n",
              "    </tr>\n",
              "    <tr>\n",
              "      <th>...</th>\n",
              "      <td>...</td>\n",
              "    </tr>\n",
              "    <tr>\n",
              "      <th>49995</th>\n",
              "      <td>3187.86</td>\n",
              "    </tr>\n",
              "    <tr>\n",
              "      <th>49996</th>\n",
              "      <td>6766.54</td>\n",
              "    </tr>\n",
              "    <tr>\n",
              "      <th>49997</th>\n",
              "      <td>6120.86</td>\n",
              "    </tr>\n",
              "    <tr>\n",
              "      <th>49998</th>\n",
              "      <td>63.48</td>\n",
              "    </tr>\n",
              "    <tr>\n",
              "      <th>49999</th>\n",
              "      <td>1790.30</td>\n",
              "    </tr>\n",
              "  </tbody>\n",
              "</table>\n",
              "<p>48839 rows × 1 columns</p>\n",
              "</div>\n",
              "      <button class=\"colab-df-convert\" onclick=\"convertToInteractive('df-bbf3557c-10f5-4afe-a432-f71c7b28bd63')\"\n",
              "              title=\"Convert this dataframe to an interactive table.\"\n",
              "              style=\"display:none;\">\n",
              "        \n",
              "  <svg xmlns=\"http://www.w3.org/2000/svg\" height=\"24px\"viewBox=\"0 0 24 24\"\n",
              "       width=\"24px\">\n",
              "    <path d=\"M0 0h24v24H0V0z\" fill=\"none\"/>\n",
              "    <path d=\"M18.56 5.44l.94 2.06.94-2.06 2.06-.94-2.06-.94-.94-2.06-.94 2.06-2.06.94zm-11 1L8.5 8.5l.94-2.06 2.06-.94-2.06-.94L8.5 2.5l-.94 2.06-2.06.94zm10 10l.94 2.06.94-2.06 2.06-.94-2.06-.94-.94-2.06-.94 2.06-2.06.94z\"/><path d=\"M17.41 7.96l-1.37-1.37c-.4-.4-.92-.59-1.43-.59-.52 0-1.04.2-1.43.59L10.3 9.45l-7.72 7.72c-.78.78-.78 2.05 0 2.83L4 21.41c.39.39.9.59 1.41.59.51 0 1.02-.2 1.41-.59l7.78-7.78 2.81-2.81c.8-.78.8-2.07 0-2.86zM5.41 20L4 18.59l7.72-7.72 1.47 1.35L5.41 20z\"/>\n",
              "  </svg>\n",
              "      </button>\n",
              "      \n",
              "  <style>\n",
              "    .colab-df-container {\n",
              "      display:flex;\n",
              "      flex-wrap:wrap;\n",
              "      gap: 12px;\n",
              "    }\n",
              "\n",
              "    .colab-df-convert {\n",
              "      background-color: #E8F0FE;\n",
              "      border: none;\n",
              "      border-radius: 50%;\n",
              "      cursor: pointer;\n",
              "      display: none;\n",
              "      fill: #1967D2;\n",
              "      height: 32px;\n",
              "      padding: 0 0 0 0;\n",
              "      width: 32px;\n",
              "    }\n",
              "\n",
              "    .colab-df-convert:hover {\n",
              "      background-color: #E2EBFA;\n",
              "      box-shadow: 0px 1px 2px rgba(60, 64, 67, 0.3), 0px 1px 3px 1px rgba(60, 64, 67, 0.15);\n",
              "      fill: #174EA6;\n",
              "    }\n",
              "\n",
              "    [theme=dark] .colab-df-convert {\n",
              "      background-color: #3B4455;\n",
              "      fill: #D2E3FC;\n",
              "    }\n",
              "\n",
              "    [theme=dark] .colab-df-convert:hover {\n",
              "      background-color: #434B5C;\n",
              "      box-shadow: 0px 1px 3px 1px rgba(0, 0, 0, 0.15);\n",
              "      filter: drop-shadow(0px 1px 2px rgba(0, 0, 0, 0.3));\n",
              "      fill: #FFFFFF;\n",
              "    }\n",
              "  </style>\n",
              "\n",
              "      <script>\n",
              "        const buttonEl =\n",
              "          document.querySelector('#df-bbf3557c-10f5-4afe-a432-f71c7b28bd63 button.colab-df-convert');\n",
              "        buttonEl.style.display =\n",
              "          google.colab.kernel.accessAllowed ? 'block' : 'none';\n",
              "\n",
              "        async function convertToInteractive(key) {\n",
              "          const element = document.querySelector('#df-bbf3557c-10f5-4afe-a432-f71c7b28bd63');\n",
              "          const dataTable =\n",
              "            await google.colab.kernel.invokeFunction('convertToInteractive',\n",
              "                                                     [key], {});\n",
              "          if (!dataTable) return;\n",
              "\n",
              "          const docLinkHtml = 'Like what you see? Visit the ' +\n",
              "            '<a target=\"_blank\" href=https://colab.research.google.com/notebooks/data_table.ipynb>data table notebook</a>'\n",
              "            + ' to learn more about interactive tables.';\n",
              "          element.innerHTML = '';\n",
              "          dataTable['output_type'] = 'display_data';\n",
              "          await google.colab.output.renderOutput(dataTable, element);\n",
              "          const docLink = document.createElement('div');\n",
              "          docLink.innerHTML = docLinkHtml;\n",
              "          element.appendChild(docLink);\n",
              "        }\n",
              "      </script>\n",
              "    </div>\n",
              "  </div>\n",
              "  "
            ]
          },
          "metadata": {},
          "execution_count": 28
        }
      ],
      "source": [
        "df[[\"total_open_amount\"]]"
      ]
    },
    {
      "cell_type": "markdown",
      "id": "df899966",
      "metadata": {
        "id": "df899966"
      },
      "source": [
        "### Convert all CAD into USD currency of \"total_open_amount\" column\n",
        "\n",
        "- 1 CAD = 0.7 USD\n",
        "- Create a new column i.e \"converted_usd\" and store USD and convered CAD to USD"
      ]
    },
    {
      "cell_type": "code",
      "execution_count": null,
      "id": "8eb2f1c5",
      "metadata": {
        "id": "8eb2f1c5"
      },
      "outputs": [],
      "source": [
        "df['converted_usd'] = np.where(df['invoice_currency'] == 'CAD', df['total_open_amount'] * 0.7, df['total_open_amount'])"
      ]
    },
    {
      "cell_type": "markdown",
      "id": "f9f6ef1d",
      "metadata": {
        "id": "f9f6ef1d"
      },
      "source": [
        "### Display the new \"converted_usd\" column values"
      ]
    },
    {
      "cell_type": "code",
      "execution_count": null,
      "id": "1fc1a178",
      "metadata": {
        "id": "1fc1a178",
        "outputId": "98a670ca-a6c6-4e55-b06f-143ca2a1b1f4",
        "colab": {
          "base_uri": "https://localhost:8080/",
          "height": 423
        }
      },
      "outputs": [
        {
          "output_type": "execute_result",
          "data": {
            "text/plain": [
              "       converted_usd\n",
              "0           54273.28\n",
              "1           79656.60\n",
              "2            2253.86\n",
              "3            2309.79\n",
              "4           33133.29\n",
              "...              ...\n",
              "49995        3187.86\n",
              "49996        6766.54\n",
              "49997        6120.86\n",
              "49998          63.48\n",
              "49999        1790.30\n",
              "\n",
              "[48839 rows x 1 columns]"
            ],
            "text/html": [
              "\n",
              "  <div id=\"df-0fd365b0-d9ea-4f0b-b957-964dfb266892\">\n",
              "    <div class=\"colab-df-container\">\n",
              "      <div>\n",
              "<style scoped>\n",
              "    .dataframe tbody tr th:only-of-type {\n",
              "        vertical-align: middle;\n",
              "    }\n",
              "\n",
              "    .dataframe tbody tr th {\n",
              "        vertical-align: top;\n",
              "    }\n",
              "\n",
              "    .dataframe thead th {\n",
              "        text-align: right;\n",
              "    }\n",
              "</style>\n",
              "<table border=\"1\" class=\"dataframe\">\n",
              "  <thead>\n",
              "    <tr style=\"text-align: right;\">\n",
              "      <th></th>\n",
              "      <th>converted_usd</th>\n",
              "    </tr>\n",
              "  </thead>\n",
              "  <tbody>\n",
              "    <tr>\n",
              "      <th>0</th>\n",
              "      <td>54273.28</td>\n",
              "    </tr>\n",
              "    <tr>\n",
              "      <th>1</th>\n",
              "      <td>79656.60</td>\n",
              "    </tr>\n",
              "    <tr>\n",
              "      <th>2</th>\n",
              "      <td>2253.86</td>\n",
              "    </tr>\n",
              "    <tr>\n",
              "      <th>3</th>\n",
              "      <td>2309.79</td>\n",
              "    </tr>\n",
              "    <tr>\n",
              "      <th>4</th>\n",
              "      <td>33133.29</td>\n",
              "    </tr>\n",
              "    <tr>\n",
              "      <th>...</th>\n",
              "      <td>...</td>\n",
              "    </tr>\n",
              "    <tr>\n",
              "      <th>49995</th>\n",
              "      <td>3187.86</td>\n",
              "    </tr>\n",
              "    <tr>\n",
              "      <th>49996</th>\n",
              "      <td>6766.54</td>\n",
              "    </tr>\n",
              "    <tr>\n",
              "      <th>49997</th>\n",
              "      <td>6120.86</td>\n",
              "    </tr>\n",
              "    <tr>\n",
              "      <th>49998</th>\n",
              "      <td>63.48</td>\n",
              "    </tr>\n",
              "    <tr>\n",
              "      <th>49999</th>\n",
              "      <td>1790.30</td>\n",
              "    </tr>\n",
              "  </tbody>\n",
              "</table>\n",
              "<p>48839 rows × 1 columns</p>\n",
              "</div>\n",
              "      <button class=\"colab-df-convert\" onclick=\"convertToInteractive('df-0fd365b0-d9ea-4f0b-b957-964dfb266892')\"\n",
              "              title=\"Convert this dataframe to an interactive table.\"\n",
              "              style=\"display:none;\">\n",
              "        \n",
              "  <svg xmlns=\"http://www.w3.org/2000/svg\" height=\"24px\"viewBox=\"0 0 24 24\"\n",
              "       width=\"24px\">\n",
              "    <path d=\"M0 0h24v24H0V0z\" fill=\"none\"/>\n",
              "    <path d=\"M18.56 5.44l.94 2.06.94-2.06 2.06-.94-2.06-.94-.94-2.06-.94 2.06-2.06.94zm-11 1L8.5 8.5l.94-2.06 2.06-.94-2.06-.94L8.5 2.5l-.94 2.06-2.06.94zm10 10l.94 2.06.94-2.06 2.06-.94-2.06-.94-.94-2.06-.94 2.06-2.06.94z\"/><path d=\"M17.41 7.96l-1.37-1.37c-.4-.4-.92-.59-1.43-.59-.52 0-1.04.2-1.43.59L10.3 9.45l-7.72 7.72c-.78.78-.78 2.05 0 2.83L4 21.41c.39.39.9.59 1.41.59.51 0 1.02-.2 1.41-.59l7.78-7.78 2.81-2.81c.8-.78.8-2.07 0-2.86zM5.41 20L4 18.59l7.72-7.72 1.47 1.35L5.41 20z\"/>\n",
              "  </svg>\n",
              "      </button>\n",
              "      \n",
              "  <style>\n",
              "    .colab-df-container {\n",
              "      display:flex;\n",
              "      flex-wrap:wrap;\n",
              "      gap: 12px;\n",
              "    }\n",
              "\n",
              "    .colab-df-convert {\n",
              "      background-color: #E8F0FE;\n",
              "      border: none;\n",
              "      border-radius: 50%;\n",
              "      cursor: pointer;\n",
              "      display: none;\n",
              "      fill: #1967D2;\n",
              "      height: 32px;\n",
              "      padding: 0 0 0 0;\n",
              "      width: 32px;\n",
              "    }\n",
              "\n",
              "    .colab-df-convert:hover {\n",
              "      background-color: #E2EBFA;\n",
              "      box-shadow: 0px 1px 2px rgba(60, 64, 67, 0.3), 0px 1px 3px 1px rgba(60, 64, 67, 0.15);\n",
              "      fill: #174EA6;\n",
              "    }\n",
              "\n",
              "    [theme=dark] .colab-df-convert {\n",
              "      background-color: #3B4455;\n",
              "      fill: #D2E3FC;\n",
              "    }\n",
              "\n",
              "    [theme=dark] .colab-df-convert:hover {\n",
              "      background-color: #434B5C;\n",
              "      box-shadow: 0px 1px 3px 1px rgba(0, 0, 0, 0.15);\n",
              "      filter: drop-shadow(0px 1px 2px rgba(0, 0, 0, 0.3));\n",
              "      fill: #FFFFFF;\n",
              "    }\n",
              "  </style>\n",
              "\n",
              "      <script>\n",
              "        const buttonEl =\n",
              "          document.querySelector('#df-0fd365b0-d9ea-4f0b-b957-964dfb266892 button.colab-df-convert');\n",
              "        buttonEl.style.display =\n",
              "          google.colab.kernel.accessAllowed ? 'block' : 'none';\n",
              "\n",
              "        async function convertToInteractive(key) {\n",
              "          const element = document.querySelector('#df-0fd365b0-d9ea-4f0b-b957-964dfb266892');\n",
              "          const dataTable =\n",
              "            await google.colab.kernel.invokeFunction('convertToInteractive',\n",
              "                                                     [key], {});\n",
              "          if (!dataTable) return;\n",
              "\n",
              "          const docLinkHtml = 'Like what you see? Visit the ' +\n",
              "            '<a target=\"_blank\" href=https://colab.research.google.com/notebooks/data_table.ipynb>data table notebook</a>'\n",
              "            + ' to learn more about interactive tables.';\n",
              "          element.innerHTML = '';\n",
              "          dataTable['output_type'] = 'display_data';\n",
              "          await google.colab.output.renderOutput(dataTable, element);\n",
              "          const docLink = document.createElement('div');\n",
              "          docLink.innerHTML = docLinkHtml;\n",
              "          element.appendChild(docLink);\n",
              "        }\n",
              "      </script>\n",
              "    </div>\n",
              "  </div>\n",
              "  "
            ]
          },
          "metadata": {},
          "execution_count": 30
        }
      ],
      "source": [
        "df[['converted_usd']]"
      ]
    },
    {
      "cell_type": "markdown",
      "source": [
        "### Display year wise total number of record \n",
        "\n",
        "- Note -  use \"buisness_year\" column for this "
      ],
      "metadata": {
        "id": "6XLXX17kayuy"
      },
      "id": "6XLXX17kayuy"
    },
    {
      "cell_type": "code",
      "execution_count": null,
      "id": "00c9f6ee",
      "metadata": {
        "id": "00c9f6ee",
        "outputId": "6283db4d-d802-47c6-a90d-c308109371a1",
        "colab": {
          "base_uri": "https://localhost:8080/"
        }
      },
      "outputs": [
        {
          "output_type": "execute_result",
          "data": {
            "text/plain": [
              "2019.0    33975\n",
              "2020.0    14864\n",
              "Name: buisness_year, dtype: int64"
            ]
          },
          "metadata": {},
          "execution_count": 31
        }
      ],
      "source": [
        "df[\"buisness_year\"].value_counts()"
      ]
    },
    {
      "cell_type": "markdown",
      "id": "05c35904",
      "metadata": {
        "id": "05c35904"
      },
      "source": [
        "### Write the code to delete the following columns \n",
        "\n",
        "- 'invoice_currency'\n",
        "- 'total_open_amount', "
      ]
    },
    {
      "cell_type": "code",
      "execution_count": null,
      "id": "4ac28aa5",
      "metadata": {
        "id": "4ac28aa5"
      },
      "outputs": [],
      "source": [
        "df.drop(['invoice_currency', 'total_open_amount'], axis=1, inplace=True)"
      ]
    },
    {
      "cell_type": "markdown",
      "source": [
        "### Write a code to check the number of columns in dataframe"
      ],
      "metadata": {
        "id": "bDBJ_Kvwc086"
      },
      "id": "bDBJ_Kvwc086"
    },
    {
      "cell_type": "code",
      "execution_count": null,
      "id": "ea360a8c",
      "metadata": {
        "id": "ea360a8c",
        "outputId": "a3fae3b1-e1bd-4e12-f68d-6922b61c1a21",
        "colab": {
          "base_uri": "https://localhost:8080/"
        }
      },
      "outputs": [
        {
          "output_type": "execute_result",
          "data": {
            "text/plain": [
              "Index(['business_code', 'cust_number', 'name_customer', 'clear_date',\n",
              "       'buisness_year', 'doc_id', 'posting_date', 'due_in_date',\n",
              "       'baseline_create_date', 'cust_payment_terms', 'converted_usd'],\n",
              "      dtype='object')"
            ]
          },
          "metadata": {},
          "execution_count": 33
        }
      ],
      "source": [
        "df.columns"
      ]
    },
    {
      "cell_type": "markdown",
      "id": "b8f63655",
      "metadata": {
        "id": "b8f63655"
      },
      "source": [
        "# Splitting the Dataset "
      ]
    },
    {
      "cell_type": "markdown",
      "id": "a00f749d",
      "metadata": {
        "id": "a00f749d"
      },
      "source": [
        "### Look for all columns containing null value\n",
        "\n",
        "- Note - Output expected is only one column "
      ]
    },
    {
      "cell_type": "code",
      "execution_count": null,
      "id": "148c801e",
      "metadata": {
        "id": "148c801e",
        "outputId": "0121f785-d128-4bf8-ef21-6e753aef076a",
        "colab": {
          "base_uri": "https://localhost:8080/"
        }
      },
      "outputs": [
        {
          "output_type": "execute_result",
          "data": {
            "text/plain": [
              "business_code              0\n",
              "cust_number                0\n",
              "name_customer              0\n",
              "clear_date              9681\n",
              "buisness_year              0\n",
              "doc_id                     0\n",
              "posting_date               0\n",
              "due_in_date                0\n",
              "baseline_create_date       0\n",
              "cust_payment_terms         0\n",
              "converted_usd              0\n",
              "dtype: int64"
            ]
          },
          "metadata": {},
          "execution_count": 34
        }
      ],
      "source": [
        "df.isnull().sum()"
      ]
    },
    {
      "cell_type": "markdown",
      "id": "a094a290",
      "metadata": {
        "id": "a094a290"
      },
      "source": [
        "#### Find out the number of null values from the column that you got from the above code"
      ]
    },
    {
      "cell_type": "code",
      "execution_count": null,
      "id": "30bfb113",
      "metadata": {
        "id": "30bfb113",
        "outputId": "e7ae8545-7ba4-4337-ce62-9c301d548067",
        "colab": {
          "base_uri": "https://localhost:8080/"
        }
      },
      "outputs": [
        {
          "output_type": "execute_result",
          "data": {
            "text/plain": [
              "9681"
            ]
          },
          "metadata": {},
          "execution_count": 35
        }
      ],
      "source": [
        "df['clear_date'].isna().sum()"
      ]
    },
    {
      "cell_type": "markdown",
      "id": "7f6d939b",
      "metadata": {
        "id": "7f6d939b"
      },
      "source": [
        "### On basis of the above column we are spliting data into dataset\n",
        "\n",
        "- First dataframe (refer that as maindata) only containing the rows, that have NO NULL data in that column ( This is going to be our train dataset ) \n",
        "- Second dataframe (refer that as nulldata) that contains the columns, that have Null data in that column ( This is going to be our test dataset ) "
      ]
    },
    {
      "cell_type": "code",
      "execution_count": null,
      "id": "c8764c33",
      "metadata": {
        "id": "c8764c33"
      },
      "outputs": [],
      "source": [
        "nulldata = df.loc[df['clear_date'].isnull()]\n",
        "maindata = df.loc[df['clear_date'].isnull()==False]\n",
        "maindata = maindata.reset_index(drop=True)"
      ]
    },
    {
      "cell_type": "markdown",
      "source": [
        "### Check the number of Rows and Columns for both the dataframes "
      ],
      "metadata": {
        "id": "3P8riRBHd_r6"
      },
      "id": "3P8riRBHd_r6"
    },
    {
      "cell_type": "code",
      "execution_count": null,
      "id": "0693a464",
      "metadata": {
        "id": "0693a464",
        "outputId": "c0ab1abb-3421-4b6f-bb9a-96bcb9eb7040",
        "colab": {
          "base_uri": "https://localhost:8080/"
        }
      },
      "outputs": [
        {
          "output_type": "execute_result",
          "data": {
            "text/plain": [
              "(39158, 11)"
            ]
          },
          "metadata": {},
          "execution_count": 37
        }
      ],
      "source": [
        "maindata.shape"
      ]
    },
    {
      "cell_type": "code",
      "execution_count": null,
      "id": "7f86bc74",
      "metadata": {
        "id": "7f86bc74",
        "outputId": "a11f5476-73a7-4687-e818-9fc1770ae1c7",
        "colab": {
          "base_uri": "https://localhost:8080/"
        }
      },
      "outputs": [
        {
          "output_type": "execute_result",
          "data": {
            "text/plain": [
              "(9681, 11)"
            ]
          },
          "metadata": {},
          "execution_count": 38
        }
      ],
      "source": [
        "nulldata.shape"
      ]
    },
    {
      "cell_type": "markdown",
      "id": "0747165d",
      "metadata": {
        "id": "0747165d"
      },
      "source": [
        "### Display the 5 records from maindata and nulldata dataframes"
      ]
    },
    {
      "cell_type": "code",
      "execution_count": null,
      "id": "dec2ec36",
      "metadata": {
        "id": "dec2ec36",
        "outputId": "018f3fb3-1514-4064-9112-d0d5628a8a2a",
        "colab": {
          "base_uri": "https://localhost:8080/",
          "height": 305
        }
      },
      "outputs": [
        {
          "output_type": "execute_result",
          "data": {
            "text/plain": [
              "  business_code cust_number       name_customer clear_date  buisness_year  \\\n",
              "0          U001  0200769623        WAL-MAR corp 2020-02-11         2020.0   \n",
              "1          U001  0200980828              BEN E  2019-08-08         2019.0   \n",
              "2          U001  0200792734          MDV/ trust 2019-12-30         2019.0   \n",
              "3          U001  0200769623  WAL-MAR foundation 2019-11-25         2019.0   \n",
              "4          CA02  0140106181    THE  corporation 2019-12-04         2019.0   \n",
              "\n",
              "         doc_id posting_date due_in_date baseline_create_date  \\\n",
              "0  1.930438e+09   2020-01-26  2020-02-10           2020-01-26   \n",
              "1  1.929646e+09   2019-07-22  2019-08-11           2019-07-22   \n",
              "2  1.929874e+09   2019-09-14  2019-09-29           2019-09-14   \n",
              "3  1.930148e+09   2019-11-13  2019-11-28           2019-11-13   \n",
              "4  2.960581e+09   2019-09-20  2019-10-04           2019-09-24   \n",
              "\n",
              "  cust_payment_terms  converted_usd  \n",
              "0               NAH4      54273.280  \n",
              "1               NAD1      79656.600  \n",
              "2               NAA8       2253.860  \n",
              "3               NAH4      33133.290  \n",
              "4               CA10      15558.088  "
            ],
            "text/html": [
              "\n",
              "  <div id=\"df-25d36c44-6e99-4b12-90b4-21e0d69e9b6d\">\n",
              "    <div class=\"colab-df-container\">\n",
              "      <div>\n",
              "<style scoped>\n",
              "    .dataframe tbody tr th:only-of-type {\n",
              "        vertical-align: middle;\n",
              "    }\n",
              "\n",
              "    .dataframe tbody tr th {\n",
              "        vertical-align: top;\n",
              "    }\n",
              "\n",
              "    .dataframe thead th {\n",
              "        text-align: right;\n",
              "    }\n",
              "</style>\n",
              "<table border=\"1\" class=\"dataframe\">\n",
              "  <thead>\n",
              "    <tr style=\"text-align: right;\">\n",
              "      <th></th>\n",
              "      <th>business_code</th>\n",
              "      <th>cust_number</th>\n",
              "      <th>name_customer</th>\n",
              "      <th>clear_date</th>\n",
              "      <th>buisness_year</th>\n",
              "      <th>doc_id</th>\n",
              "      <th>posting_date</th>\n",
              "      <th>due_in_date</th>\n",
              "      <th>baseline_create_date</th>\n",
              "      <th>cust_payment_terms</th>\n",
              "      <th>converted_usd</th>\n",
              "    </tr>\n",
              "  </thead>\n",
              "  <tbody>\n",
              "    <tr>\n",
              "      <th>0</th>\n",
              "      <td>U001</td>\n",
              "      <td>0200769623</td>\n",
              "      <td>WAL-MAR corp</td>\n",
              "      <td>2020-02-11</td>\n",
              "      <td>2020.0</td>\n",
              "      <td>1.930438e+09</td>\n",
              "      <td>2020-01-26</td>\n",
              "      <td>2020-02-10</td>\n",
              "      <td>2020-01-26</td>\n",
              "      <td>NAH4</td>\n",
              "      <td>54273.280</td>\n",
              "    </tr>\n",
              "    <tr>\n",
              "      <th>1</th>\n",
              "      <td>U001</td>\n",
              "      <td>0200980828</td>\n",
              "      <td>BEN E</td>\n",
              "      <td>2019-08-08</td>\n",
              "      <td>2019.0</td>\n",
              "      <td>1.929646e+09</td>\n",
              "      <td>2019-07-22</td>\n",
              "      <td>2019-08-11</td>\n",
              "      <td>2019-07-22</td>\n",
              "      <td>NAD1</td>\n",
              "      <td>79656.600</td>\n",
              "    </tr>\n",
              "    <tr>\n",
              "      <th>2</th>\n",
              "      <td>U001</td>\n",
              "      <td>0200792734</td>\n",
              "      <td>MDV/ trust</td>\n",
              "      <td>2019-12-30</td>\n",
              "      <td>2019.0</td>\n",
              "      <td>1.929874e+09</td>\n",
              "      <td>2019-09-14</td>\n",
              "      <td>2019-09-29</td>\n",
              "      <td>2019-09-14</td>\n",
              "      <td>NAA8</td>\n",
              "      <td>2253.860</td>\n",
              "    </tr>\n",
              "    <tr>\n",
              "      <th>3</th>\n",
              "      <td>U001</td>\n",
              "      <td>0200769623</td>\n",
              "      <td>WAL-MAR foundation</td>\n",
              "      <td>2019-11-25</td>\n",
              "      <td>2019.0</td>\n",
              "      <td>1.930148e+09</td>\n",
              "      <td>2019-11-13</td>\n",
              "      <td>2019-11-28</td>\n",
              "      <td>2019-11-13</td>\n",
              "      <td>NAH4</td>\n",
              "      <td>33133.290</td>\n",
              "    </tr>\n",
              "    <tr>\n",
              "      <th>4</th>\n",
              "      <td>CA02</td>\n",
              "      <td>0140106181</td>\n",
              "      <td>THE  corporation</td>\n",
              "      <td>2019-12-04</td>\n",
              "      <td>2019.0</td>\n",
              "      <td>2.960581e+09</td>\n",
              "      <td>2019-09-20</td>\n",
              "      <td>2019-10-04</td>\n",
              "      <td>2019-09-24</td>\n",
              "      <td>CA10</td>\n",
              "      <td>15558.088</td>\n",
              "    </tr>\n",
              "  </tbody>\n",
              "</table>\n",
              "</div>\n",
              "      <button class=\"colab-df-convert\" onclick=\"convertToInteractive('df-25d36c44-6e99-4b12-90b4-21e0d69e9b6d')\"\n",
              "              title=\"Convert this dataframe to an interactive table.\"\n",
              "              style=\"display:none;\">\n",
              "        \n",
              "  <svg xmlns=\"http://www.w3.org/2000/svg\" height=\"24px\"viewBox=\"0 0 24 24\"\n",
              "       width=\"24px\">\n",
              "    <path d=\"M0 0h24v24H0V0z\" fill=\"none\"/>\n",
              "    <path d=\"M18.56 5.44l.94 2.06.94-2.06 2.06-.94-2.06-.94-.94-2.06-.94 2.06-2.06.94zm-11 1L8.5 8.5l.94-2.06 2.06-.94-2.06-.94L8.5 2.5l-.94 2.06-2.06.94zm10 10l.94 2.06.94-2.06 2.06-.94-2.06-.94-.94-2.06-.94 2.06-2.06.94z\"/><path d=\"M17.41 7.96l-1.37-1.37c-.4-.4-.92-.59-1.43-.59-.52 0-1.04.2-1.43.59L10.3 9.45l-7.72 7.72c-.78.78-.78 2.05 0 2.83L4 21.41c.39.39.9.59 1.41.59.51 0 1.02-.2 1.41-.59l7.78-7.78 2.81-2.81c.8-.78.8-2.07 0-2.86zM5.41 20L4 18.59l7.72-7.72 1.47 1.35L5.41 20z\"/>\n",
              "  </svg>\n",
              "      </button>\n",
              "      \n",
              "  <style>\n",
              "    .colab-df-container {\n",
              "      display:flex;\n",
              "      flex-wrap:wrap;\n",
              "      gap: 12px;\n",
              "    }\n",
              "\n",
              "    .colab-df-convert {\n",
              "      background-color: #E8F0FE;\n",
              "      border: none;\n",
              "      border-radius: 50%;\n",
              "      cursor: pointer;\n",
              "      display: none;\n",
              "      fill: #1967D2;\n",
              "      height: 32px;\n",
              "      padding: 0 0 0 0;\n",
              "      width: 32px;\n",
              "    }\n",
              "\n",
              "    .colab-df-convert:hover {\n",
              "      background-color: #E2EBFA;\n",
              "      box-shadow: 0px 1px 2px rgba(60, 64, 67, 0.3), 0px 1px 3px 1px rgba(60, 64, 67, 0.15);\n",
              "      fill: #174EA6;\n",
              "    }\n",
              "\n",
              "    [theme=dark] .colab-df-convert {\n",
              "      background-color: #3B4455;\n",
              "      fill: #D2E3FC;\n",
              "    }\n",
              "\n",
              "    [theme=dark] .colab-df-convert:hover {\n",
              "      background-color: #434B5C;\n",
              "      box-shadow: 0px 1px 3px 1px rgba(0, 0, 0, 0.15);\n",
              "      filter: drop-shadow(0px 1px 2px rgba(0, 0, 0, 0.3));\n",
              "      fill: #FFFFFF;\n",
              "    }\n",
              "  </style>\n",
              "\n",
              "      <script>\n",
              "        const buttonEl =\n",
              "          document.querySelector('#df-25d36c44-6e99-4b12-90b4-21e0d69e9b6d button.colab-df-convert');\n",
              "        buttonEl.style.display =\n",
              "          google.colab.kernel.accessAllowed ? 'block' : 'none';\n",
              "\n",
              "        async function convertToInteractive(key) {\n",
              "          const element = document.querySelector('#df-25d36c44-6e99-4b12-90b4-21e0d69e9b6d');\n",
              "          const dataTable =\n",
              "            await google.colab.kernel.invokeFunction('convertToInteractive',\n",
              "                                                     [key], {});\n",
              "          if (!dataTable) return;\n",
              "\n",
              "          const docLinkHtml = 'Like what you see? Visit the ' +\n",
              "            '<a target=\"_blank\" href=https://colab.research.google.com/notebooks/data_table.ipynb>data table notebook</a>'\n",
              "            + ' to learn more about interactive tables.';\n",
              "          element.innerHTML = '';\n",
              "          dataTable['output_type'] = 'display_data';\n",
              "          await google.colab.output.renderOutput(dataTable, element);\n",
              "          const docLink = document.createElement('div');\n",
              "          docLink.innerHTML = docLinkHtml;\n",
              "          element.appendChild(docLink);\n",
              "        }\n",
              "      </script>\n",
              "    </div>\n",
              "  </div>\n",
              "  "
            ]
          },
          "metadata": {},
          "execution_count": 39
        }
      ],
      "source": [
        "maindata.head()"
      ]
    },
    {
      "cell_type": "code",
      "execution_count": null,
      "id": "eee2d68a",
      "metadata": {
        "id": "eee2d68a",
        "outputId": "301e919c-d1f3-4e41-b625-5ad6c7967a69",
        "colab": {
          "base_uri": "https://localhost:8080/",
          "height": 287
        }
      },
      "outputs": [
        {
          "output_type": "execute_result",
          "data": {
            "text/plain": [
              "   business_code cust_number     name_customer clear_date  buisness_year  \\\n",
              "3           CA02  0140105686          SYSC llc        NaT         2020.0   \n",
              "7           U001  0200744019           TARG us        NaT         2020.0   \n",
              "10          U001  0200418007               AM         NaT         2020.0   \n",
              "14          U001  0200739534        OK systems        NaT         2020.0   \n",
              "15          U001  0200353024  DECA corporation        NaT         2020.0   \n",
              "\n",
              "          doc_id posting_date due_in_date baseline_create_date  \\\n",
              "3   2.960623e+09   2020-03-30  2020-04-10           2020-03-31   \n",
              "7   1.930659e+09   2020-03-19  2020-04-03           2020-03-19   \n",
              "10  1.930611e+09   2020-03-11  2020-03-26           2020-03-11   \n",
              "14  1.930788e+09   2020-04-15  2020-04-30           2020-04-15   \n",
              "15  1.930817e+09   2020-04-23  2020-04-26           2020-04-16   \n",
              "\n",
              "   cust_payment_terms  converted_usd  \n",
              "3                CA10        2309.79  \n",
              "7                NAA8       11173.02  \n",
              "10               NAA8        3525.59  \n",
              "14               NAA8      121105.65  \n",
              "15               NAM2        3726.06  "
            ],
            "text/html": [
              "\n",
              "  <div id=\"df-34dafcc0-7ee7-4c9c-8419-038fd40a3261\">\n",
              "    <div class=\"colab-df-container\">\n",
              "      <div>\n",
              "<style scoped>\n",
              "    .dataframe tbody tr th:only-of-type {\n",
              "        vertical-align: middle;\n",
              "    }\n",
              "\n",
              "    .dataframe tbody tr th {\n",
              "        vertical-align: top;\n",
              "    }\n",
              "\n",
              "    .dataframe thead th {\n",
              "        text-align: right;\n",
              "    }\n",
              "</style>\n",
              "<table border=\"1\" class=\"dataframe\">\n",
              "  <thead>\n",
              "    <tr style=\"text-align: right;\">\n",
              "      <th></th>\n",
              "      <th>business_code</th>\n",
              "      <th>cust_number</th>\n",
              "      <th>name_customer</th>\n",
              "      <th>clear_date</th>\n",
              "      <th>buisness_year</th>\n",
              "      <th>doc_id</th>\n",
              "      <th>posting_date</th>\n",
              "      <th>due_in_date</th>\n",
              "      <th>baseline_create_date</th>\n",
              "      <th>cust_payment_terms</th>\n",
              "      <th>converted_usd</th>\n",
              "    </tr>\n",
              "  </thead>\n",
              "  <tbody>\n",
              "    <tr>\n",
              "      <th>3</th>\n",
              "      <td>CA02</td>\n",
              "      <td>0140105686</td>\n",
              "      <td>SYSC llc</td>\n",
              "      <td>NaT</td>\n",
              "      <td>2020.0</td>\n",
              "      <td>2.960623e+09</td>\n",
              "      <td>2020-03-30</td>\n",
              "      <td>2020-04-10</td>\n",
              "      <td>2020-03-31</td>\n",
              "      <td>CA10</td>\n",
              "      <td>2309.79</td>\n",
              "    </tr>\n",
              "    <tr>\n",
              "      <th>7</th>\n",
              "      <td>U001</td>\n",
              "      <td>0200744019</td>\n",
              "      <td>TARG us</td>\n",
              "      <td>NaT</td>\n",
              "      <td>2020.0</td>\n",
              "      <td>1.930659e+09</td>\n",
              "      <td>2020-03-19</td>\n",
              "      <td>2020-04-03</td>\n",
              "      <td>2020-03-19</td>\n",
              "      <td>NAA8</td>\n",
              "      <td>11173.02</td>\n",
              "    </tr>\n",
              "    <tr>\n",
              "      <th>10</th>\n",
              "      <td>U001</td>\n",
              "      <td>0200418007</td>\n",
              "      <td>AM</td>\n",
              "      <td>NaT</td>\n",
              "      <td>2020.0</td>\n",
              "      <td>1.930611e+09</td>\n",
              "      <td>2020-03-11</td>\n",
              "      <td>2020-03-26</td>\n",
              "      <td>2020-03-11</td>\n",
              "      <td>NAA8</td>\n",
              "      <td>3525.59</td>\n",
              "    </tr>\n",
              "    <tr>\n",
              "      <th>14</th>\n",
              "      <td>U001</td>\n",
              "      <td>0200739534</td>\n",
              "      <td>OK systems</td>\n",
              "      <td>NaT</td>\n",
              "      <td>2020.0</td>\n",
              "      <td>1.930788e+09</td>\n",
              "      <td>2020-04-15</td>\n",
              "      <td>2020-04-30</td>\n",
              "      <td>2020-04-15</td>\n",
              "      <td>NAA8</td>\n",
              "      <td>121105.65</td>\n",
              "    </tr>\n",
              "    <tr>\n",
              "      <th>15</th>\n",
              "      <td>U001</td>\n",
              "      <td>0200353024</td>\n",
              "      <td>DECA corporation</td>\n",
              "      <td>NaT</td>\n",
              "      <td>2020.0</td>\n",
              "      <td>1.930817e+09</td>\n",
              "      <td>2020-04-23</td>\n",
              "      <td>2020-04-26</td>\n",
              "      <td>2020-04-16</td>\n",
              "      <td>NAM2</td>\n",
              "      <td>3726.06</td>\n",
              "    </tr>\n",
              "  </tbody>\n",
              "</table>\n",
              "</div>\n",
              "      <button class=\"colab-df-convert\" onclick=\"convertToInteractive('df-34dafcc0-7ee7-4c9c-8419-038fd40a3261')\"\n",
              "              title=\"Convert this dataframe to an interactive table.\"\n",
              "              style=\"display:none;\">\n",
              "        \n",
              "  <svg xmlns=\"http://www.w3.org/2000/svg\" height=\"24px\"viewBox=\"0 0 24 24\"\n",
              "       width=\"24px\">\n",
              "    <path d=\"M0 0h24v24H0V0z\" fill=\"none\"/>\n",
              "    <path d=\"M18.56 5.44l.94 2.06.94-2.06 2.06-.94-2.06-.94-.94-2.06-.94 2.06-2.06.94zm-11 1L8.5 8.5l.94-2.06 2.06-.94-2.06-.94L8.5 2.5l-.94 2.06-2.06.94zm10 10l.94 2.06.94-2.06 2.06-.94-2.06-.94-.94-2.06-.94 2.06-2.06.94z\"/><path d=\"M17.41 7.96l-1.37-1.37c-.4-.4-.92-.59-1.43-.59-.52 0-1.04.2-1.43.59L10.3 9.45l-7.72 7.72c-.78.78-.78 2.05 0 2.83L4 21.41c.39.39.9.59 1.41.59.51 0 1.02-.2 1.41-.59l7.78-7.78 2.81-2.81c.8-.78.8-2.07 0-2.86zM5.41 20L4 18.59l7.72-7.72 1.47 1.35L5.41 20z\"/>\n",
              "  </svg>\n",
              "      </button>\n",
              "      \n",
              "  <style>\n",
              "    .colab-df-container {\n",
              "      display:flex;\n",
              "      flex-wrap:wrap;\n",
              "      gap: 12px;\n",
              "    }\n",
              "\n",
              "    .colab-df-convert {\n",
              "      background-color: #E8F0FE;\n",
              "      border: none;\n",
              "      border-radius: 50%;\n",
              "      cursor: pointer;\n",
              "      display: none;\n",
              "      fill: #1967D2;\n",
              "      height: 32px;\n",
              "      padding: 0 0 0 0;\n",
              "      width: 32px;\n",
              "    }\n",
              "\n",
              "    .colab-df-convert:hover {\n",
              "      background-color: #E2EBFA;\n",
              "      box-shadow: 0px 1px 2px rgba(60, 64, 67, 0.3), 0px 1px 3px 1px rgba(60, 64, 67, 0.15);\n",
              "      fill: #174EA6;\n",
              "    }\n",
              "\n",
              "    [theme=dark] .colab-df-convert {\n",
              "      background-color: #3B4455;\n",
              "      fill: #D2E3FC;\n",
              "    }\n",
              "\n",
              "    [theme=dark] .colab-df-convert:hover {\n",
              "      background-color: #434B5C;\n",
              "      box-shadow: 0px 1px 3px 1px rgba(0, 0, 0, 0.15);\n",
              "      filter: drop-shadow(0px 1px 2px rgba(0, 0, 0, 0.3));\n",
              "      fill: #FFFFFF;\n",
              "    }\n",
              "  </style>\n",
              "\n",
              "      <script>\n",
              "        const buttonEl =\n",
              "          document.querySelector('#df-34dafcc0-7ee7-4c9c-8419-038fd40a3261 button.colab-df-convert');\n",
              "        buttonEl.style.display =\n",
              "          google.colab.kernel.accessAllowed ? 'block' : 'none';\n",
              "\n",
              "        async function convertToInteractive(key) {\n",
              "          const element = document.querySelector('#df-34dafcc0-7ee7-4c9c-8419-038fd40a3261');\n",
              "          const dataTable =\n",
              "            await google.colab.kernel.invokeFunction('convertToInteractive',\n",
              "                                                     [key], {});\n",
              "          if (!dataTable) return;\n",
              "\n",
              "          const docLinkHtml = 'Like what you see? Visit the ' +\n",
              "            '<a target=\"_blank\" href=https://colab.research.google.com/notebooks/data_table.ipynb>data table notebook</a>'\n",
              "            + ' to learn more about interactive tables.';\n",
              "          element.innerHTML = '';\n",
              "          dataTable['output_type'] = 'display_data';\n",
              "          await google.colab.output.renderOutput(dataTable, element);\n",
              "          const docLink = document.createElement('div');\n",
              "          docLink.innerHTML = docLinkHtml;\n",
              "          element.appendChild(docLink);\n",
              "        }\n",
              "      </script>\n",
              "    </div>\n",
              "  </div>\n",
              "  "
            ]
          },
          "metadata": {},
          "execution_count": 40
        }
      ],
      "source": [
        "nulldata.head()"
      ]
    },
    {
      "cell_type": "markdown",
      "id": "24aa6746",
      "metadata": {
        "id": "24aa6746"
      },
      "source": [
        "## Considering the **maindata**"
      ]
    },
    {
      "cell_type": "markdown",
      "id": "f92c4aa7",
      "metadata": {
        "id": "f92c4aa7"
      },
      "source": [
        "#### Generate a new column \"Delay\" from the existing columns\n",
        "\n",
        "- Note - You are expected to create a new column 'Delay' from two existing columns, \"clear_date\" and \"due_in_date\" \n",
        "- Formula - Delay = clear_date - due_in_date"
      ]
    },
    {
      "cell_type": "code",
      "execution_count": null,
      "id": "8eeceb9c",
      "metadata": {
        "id": "8eeceb9c"
      },
      "outputs": [],
      "source": [
        "maindata[\"Delay\"] = maindata[\"clear_date\"] - maindata[\"due_in_date\"]"
      ]
    },
    {
      "cell_type": "markdown",
      "id": "f482144e",
      "metadata": {
        "id": "f482144e"
      },
      "source": [
        "### Generate a new column \"avgdelay\" from the existing columns\n",
        "\n",
        "- Note - You are expected to make a new column \"avgdelay\" by grouping \"name_customer\" column with reapect to mean of the \"Delay\" column.\n",
        "- This new column \"avg_delay\" is meant to store \"customer_name\" wise delay\n",
        "- groupby('name_customer')['Delay'].mean(numeric_only=False)\n",
        "- Display the new \"avg_delay\" column"
      ]
    },
    {
      "cell_type": "code",
      "execution_count": null,
      "id": "d18d2f8d",
      "metadata": {
        "id": "d18d2f8d"
      },
      "outputs": [],
      "source": [
        "groupdf= pd.DataFrame(maindata.groupby('name_customer')['Delay'].mean(numeric_only=False))\n",
        "\n",
        "groupdf.rename(columns={'Delay': 'avg_Delay'}, inplace=True)"
      ]
    },
    {
      "cell_type": "markdown",
      "id": "64b995e8",
      "metadata": {
        "id": "64b995e8"
      },
      "source": [
        "You need to add the \"avg_delay\" column with the maindata, mapped with \"name_customer\" column\n",
        "\n",
        " - Note - You need to use map function to map the avgdelay with respect to \"name_customer\" column"
      ]
    },
    {
      "cell_type": "code",
      "execution_count": null,
      "id": "e1e1f3d9",
      "metadata": {
        "id": "e1e1f3d9"
      },
      "outputs": [],
      "source": [
        "maindata[\"avg_delay\"] = maindata[\"name_customer\"].map(groupdf['avg_Delay'])"
      ]
    },
    {
      "cell_type": "markdown",
      "id": "1d332525",
      "metadata": {
        "id": "1d332525"
      },
      "source": [
        "### Observe that the \"avg_delay\" column is in days format. You need to change the format into seconds\n",
        "\n",
        "- Days_format :  17 days 00:00:00\n",
        "- Format in seconds : 1641600.0"
      ]
    },
    {
      "cell_type": "code",
      "execution_count": null,
      "id": "d5f1041e",
      "metadata": {
        "id": "d5f1041e",
        "outputId": "c2a77beb-019e-44d9-f596-c9e17d2d8136",
        "colab": {
          "base_uri": "https://localhost:8080/"
        }
      },
      "outputs": [
        {
          "output_type": "execute_result",
          "data": {
            "text/plain": [
              "0   -2.334702e+05\n",
              "1    1.641600e+06\n",
              "2    6.990545e+05\n",
              "3   -1.887923e+05\n",
              "4    6.172800e+06\n",
              "Name: avg_delay, dtype: float64"
            ]
          },
          "metadata": {},
          "execution_count": 44
        }
      ],
      "source": [
        "maindata[\"avg_delay\"] = maindata[\"avg_delay\"] / np.timedelta64(1, 's')\n",
        "maindata[\"avg_delay\"].head()"
      ]
    },
    {
      "cell_type": "markdown",
      "source": [
        "### Display the maindata dataframe "
      ],
      "metadata": {
        "id": "OvgtHSsx_O-n"
      },
      "id": "OvgtHSsx_O-n"
    },
    {
      "cell_type": "code",
      "execution_count": null,
      "id": "97ca9c45",
      "metadata": {
        "id": "97ca9c45",
        "outputId": "00ec91f9-23c3-4aac-a4e6-cf5b095696f4",
        "colab": {
          "base_uri": "https://localhost:8080/",
          "height": 357
        }
      },
      "outputs": [
        {
          "output_type": "execute_result",
          "data": {
            "text/plain": [
              "  business_code cust_number       name_customer clear_date  buisness_year  \\\n",
              "0          U001  0200769623        WAL-MAR corp 2020-02-11         2020.0   \n",
              "1          U001  0200980828              BEN E  2019-08-08         2019.0   \n",
              "2          U001  0200792734          MDV/ trust 2019-12-30         2019.0   \n",
              "3          U001  0200769623  WAL-MAR foundation 2019-11-25         2019.0   \n",
              "4          CA02  0140106181    THE  corporation 2019-12-04         2019.0   \n",
              "\n",
              "         doc_id posting_date due_in_date baseline_create_date  \\\n",
              "0  1.930438e+09   2020-01-26  2020-02-10           2020-01-26   \n",
              "1  1.929646e+09   2019-07-22  2019-08-11           2019-07-22   \n",
              "2  1.929874e+09   2019-09-14  2019-09-29           2019-09-14   \n",
              "3  1.930148e+09   2019-11-13  2019-11-28           2019-11-13   \n",
              "4  2.960581e+09   2019-09-20  2019-10-04           2019-09-24   \n",
              "\n",
              "  cust_payment_terms  converted_usd   Delay     avg_delay  \n",
              "0               NAH4      54273.280  1 days -2.334702e+05  \n",
              "1               NAD1      79656.600 -3 days  1.641600e+06  \n",
              "2               NAA8       2253.860 92 days  6.990545e+05  \n",
              "3               NAH4      33133.290 -3 days -1.887923e+05  \n",
              "4               CA10      15558.088 61 days  6.172800e+06  "
            ],
            "text/html": [
              "\n",
              "  <div id=\"df-ad56eff7-fc4b-47be-b2c3-a4caf425434f\">\n",
              "    <div class=\"colab-df-container\">\n",
              "      <div>\n",
              "<style scoped>\n",
              "    .dataframe tbody tr th:only-of-type {\n",
              "        vertical-align: middle;\n",
              "    }\n",
              "\n",
              "    .dataframe tbody tr th {\n",
              "        vertical-align: top;\n",
              "    }\n",
              "\n",
              "    .dataframe thead th {\n",
              "        text-align: right;\n",
              "    }\n",
              "</style>\n",
              "<table border=\"1\" class=\"dataframe\">\n",
              "  <thead>\n",
              "    <tr style=\"text-align: right;\">\n",
              "      <th></th>\n",
              "      <th>business_code</th>\n",
              "      <th>cust_number</th>\n",
              "      <th>name_customer</th>\n",
              "      <th>clear_date</th>\n",
              "      <th>buisness_year</th>\n",
              "      <th>doc_id</th>\n",
              "      <th>posting_date</th>\n",
              "      <th>due_in_date</th>\n",
              "      <th>baseline_create_date</th>\n",
              "      <th>cust_payment_terms</th>\n",
              "      <th>converted_usd</th>\n",
              "      <th>Delay</th>\n",
              "      <th>avg_delay</th>\n",
              "    </tr>\n",
              "  </thead>\n",
              "  <tbody>\n",
              "    <tr>\n",
              "      <th>0</th>\n",
              "      <td>U001</td>\n",
              "      <td>0200769623</td>\n",
              "      <td>WAL-MAR corp</td>\n",
              "      <td>2020-02-11</td>\n",
              "      <td>2020.0</td>\n",
              "      <td>1.930438e+09</td>\n",
              "      <td>2020-01-26</td>\n",
              "      <td>2020-02-10</td>\n",
              "      <td>2020-01-26</td>\n",
              "      <td>NAH4</td>\n",
              "      <td>54273.280</td>\n",
              "      <td>1 days</td>\n",
              "      <td>-2.334702e+05</td>\n",
              "    </tr>\n",
              "    <tr>\n",
              "      <th>1</th>\n",
              "      <td>U001</td>\n",
              "      <td>0200980828</td>\n",
              "      <td>BEN E</td>\n",
              "      <td>2019-08-08</td>\n",
              "      <td>2019.0</td>\n",
              "      <td>1.929646e+09</td>\n",
              "      <td>2019-07-22</td>\n",
              "      <td>2019-08-11</td>\n",
              "      <td>2019-07-22</td>\n",
              "      <td>NAD1</td>\n",
              "      <td>79656.600</td>\n",
              "      <td>-3 days</td>\n",
              "      <td>1.641600e+06</td>\n",
              "    </tr>\n",
              "    <tr>\n",
              "      <th>2</th>\n",
              "      <td>U001</td>\n",
              "      <td>0200792734</td>\n",
              "      <td>MDV/ trust</td>\n",
              "      <td>2019-12-30</td>\n",
              "      <td>2019.0</td>\n",
              "      <td>1.929874e+09</td>\n",
              "      <td>2019-09-14</td>\n",
              "      <td>2019-09-29</td>\n",
              "      <td>2019-09-14</td>\n",
              "      <td>NAA8</td>\n",
              "      <td>2253.860</td>\n",
              "      <td>92 days</td>\n",
              "      <td>6.990545e+05</td>\n",
              "    </tr>\n",
              "    <tr>\n",
              "      <th>3</th>\n",
              "      <td>U001</td>\n",
              "      <td>0200769623</td>\n",
              "      <td>WAL-MAR foundation</td>\n",
              "      <td>2019-11-25</td>\n",
              "      <td>2019.0</td>\n",
              "      <td>1.930148e+09</td>\n",
              "      <td>2019-11-13</td>\n",
              "      <td>2019-11-28</td>\n",
              "      <td>2019-11-13</td>\n",
              "      <td>NAH4</td>\n",
              "      <td>33133.290</td>\n",
              "      <td>-3 days</td>\n",
              "      <td>-1.887923e+05</td>\n",
              "    </tr>\n",
              "    <tr>\n",
              "      <th>4</th>\n",
              "      <td>CA02</td>\n",
              "      <td>0140106181</td>\n",
              "      <td>THE  corporation</td>\n",
              "      <td>2019-12-04</td>\n",
              "      <td>2019.0</td>\n",
              "      <td>2.960581e+09</td>\n",
              "      <td>2019-09-20</td>\n",
              "      <td>2019-10-04</td>\n",
              "      <td>2019-09-24</td>\n",
              "      <td>CA10</td>\n",
              "      <td>15558.088</td>\n",
              "      <td>61 days</td>\n",
              "      <td>6.172800e+06</td>\n",
              "    </tr>\n",
              "  </tbody>\n",
              "</table>\n",
              "</div>\n",
              "      <button class=\"colab-df-convert\" onclick=\"convertToInteractive('df-ad56eff7-fc4b-47be-b2c3-a4caf425434f')\"\n",
              "              title=\"Convert this dataframe to an interactive table.\"\n",
              "              style=\"display:none;\">\n",
              "        \n",
              "  <svg xmlns=\"http://www.w3.org/2000/svg\" height=\"24px\"viewBox=\"0 0 24 24\"\n",
              "       width=\"24px\">\n",
              "    <path d=\"M0 0h24v24H0V0z\" fill=\"none\"/>\n",
              "    <path d=\"M18.56 5.44l.94 2.06.94-2.06 2.06-.94-2.06-.94-.94-2.06-.94 2.06-2.06.94zm-11 1L8.5 8.5l.94-2.06 2.06-.94-2.06-.94L8.5 2.5l-.94 2.06-2.06.94zm10 10l.94 2.06.94-2.06 2.06-.94-2.06-.94-.94-2.06-.94 2.06-2.06.94z\"/><path d=\"M17.41 7.96l-1.37-1.37c-.4-.4-.92-.59-1.43-.59-.52 0-1.04.2-1.43.59L10.3 9.45l-7.72 7.72c-.78.78-.78 2.05 0 2.83L4 21.41c.39.39.9.59 1.41.59.51 0 1.02-.2 1.41-.59l7.78-7.78 2.81-2.81c.8-.78.8-2.07 0-2.86zM5.41 20L4 18.59l7.72-7.72 1.47 1.35L5.41 20z\"/>\n",
              "  </svg>\n",
              "      </button>\n",
              "      \n",
              "  <style>\n",
              "    .colab-df-container {\n",
              "      display:flex;\n",
              "      flex-wrap:wrap;\n",
              "      gap: 12px;\n",
              "    }\n",
              "\n",
              "    .colab-df-convert {\n",
              "      background-color: #E8F0FE;\n",
              "      border: none;\n",
              "      border-radius: 50%;\n",
              "      cursor: pointer;\n",
              "      display: none;\n",
              "      fill: #1967D2;\n",
              "      height: 32px;\n",
              "      padding: 0 0 0 0;\n",
              "      width: 32px;\n",
              "    }\n",
              "\n",
              "    .colab-df-convert:hover {\n",
              "      background-color: #E2EBFA;\n",
              "      box-shadow: 0px 1px 2px rgba(60, 64, 67, 0.3), 0px 1px 3px 1px rgba(60, 64, 67, 0.15);\n",
              "      fill: #174EA6;\n",
              "    }\n",
              "\n",
              "    [theme=dark] .colab-df-convert {\n",
              "      background-color: #3B4455;\n",
              "      fill: #D2E3FC;\n",
              "    }\n",
              "\n",
              "    [theme=dark] .colab-df-convert:hover {\n",
              "      background-color: #434B5C;\n",
              "      box-shadow: 0px 1px 3px 1px rgba(0, 0, 0, 0.15);\n",
              "      filter: drop-shadow(0px 1px 2px rgba(0, 0, 0, 0.3));\n",
              "      fill: #FFFFFF;\n",
              "    }\n",
              "  </style>\n",
              "\n",
              "      <script>\n",
              "        const buttonEl =\n",
              "          document.querySelector('#df-ad56eff7-fc4b-47be-b2c3-a4caf425434f button.colab-df-convert');\n",
              "        buttonEl.style.display =\n",
              "          google.colab.kernel.accessAllowed ? 'block' : 'none';\n",
              "\n",
              "        async function convertToInteractive(key) {\n",
              "          const element = document.querySelector('#df-ad56eff7-fc4b-47be-b2c3-a4caf425434f');\n",
              "          const dataTable =\n",
              "            await google.colab.kernel.invokeFunction('convertToInteractive',\n",
              "                                                     [key], {});\n",
              "          if (!dataTable) return;\n",
              "\n",
              "          const docLinkHtml = 'Like what you see? Visit the ' +\n",
              "            '<a target=\"_blank\" href=https://colab.research.google.com/notebooks/data_table.ipynb>data table notebook</a>'\n",
              "            + ' to learn more about interactive tables.';\n",
              "          element.innerHTML = '';\n",
              "          dataTable['output_type'] = 'display_data';\n",
              "          await google.colab.output.renderOutput(dataTable, element);\n",
              "          const docLink = document.createElement('div');\n",
              "          docLink.innerHTML = docLinkHtml;\n",
              "          element.appendChild(docLink);\n",
              "        }\n",
              "      </script>\n",
              "    </div>\n",
              "  </div>\n",
              "  "
            ]
          },
          "metadata": {},
          "execution_count": 45
        }
      ],
      "source": [
        "maindata.head()"
      ]
    },
    {
      "cell_type": "markdown",
      "id": "ae24c7bb",
      "metadata": {
        "id": "ae24c7bb"
      },
      "source": [
        "### Since you have created the \"avg_delay\" column from \"Delay\" and \"clear_date\" column, there is no need of these two columns anymore \n",
        "\n",
        "- You are expected to drop \"Delay\" and \"clear_date\" columns from maindata dataframe "
      ]
    },
    {
      "cell_type": "code",
      "execution_count": null,
      "id": "78a61ab9",
      "metadata": {
        "id": "78a61ab9",
        "outputId": "dfb95044-dd81-43f8-a805-f4e05c497569",
        "colab": {
          "base_uri": "https://localhost:8080/",
          "height": 305
        }
      },
      "outputs": [
        {
          "output_type": "execute_result",
          "data": {
            "text/plain": [
              "  business_code cust_number       name_customer  buisness_year        doc_id  \\\n",
              "0          U001  0200769623        WAL-MAR corp         2020.0  1.930438e+09   \n",
              "1          U001  0200980828              BEN E          2019.0  1.929646e+09   \n",
              "2          U001  0200792734          MDV/ trust         2019.0  1.929874e+09   \n",
              "3          U001  0200769623  WAL-MAR foundation         2019.0  1.930148e+09   \n",
              "4          CA02  0140106181    THE  corporation         2019.0  2.960581e+09   \n",
              "\n",
              "  posting_date due_in_date baseline_create_date cust_payment_terms  \\\n",
              "0   2020-01-26  2020-02-10           2020-01-26               NAH4   \n",
              "1   2019-07-22  2019-08-11           2019-07-22               NAD1   \n",
              "2   2019-09-14  2019-09-29           2019-09-14               NAA8   \n",
              "3   2019-11-13  2019-11-28           2019-11-13               NAH4   \n",
              "4   2019-09-20  2019-10-04           2019-09-24               CA10   \n",
              "\n",
              "   converted_usd     avg_delay  \n",
              "0      54273.280 -2.334702e+05  \n",
              "1      79656.600  1.641600e+06  \n",
              "2       2253.860  6.990545e+05  \n",
              "3      33133.290 -1.887923e+05  \n",
              "4      15558.088  6.172800e+06  "
            ],
            "text/html": [
              "\n",
              "  <div id=\"df-455c598a-5b13-4e53-aed1-10cdddf383f9\">\n",
              "    <div class=\"colab-df-container\">\n",
              "      <div>\n",
              "<style scoped>\n",
              "    .dataframe tbody tr th:only-of-type {\n",
              "        vertical-align: middle;\n",
              "    }\n",
              "\n",
              "    .dataframe tbody tr th {\n",
              "        vertical-align: top;\n",
              "    }\n",
              "\n",
              "    .dataframe thead th {\n",
              "        text-align: right;\n",
              "    }\n",
              "</style>\n",
              "<table border=\"1\" class=\"dataframe\">\n",
              "  <thead>\n",
              "    <tr style=\"text-align: right;\">\n",
              "      <th></th>\n",
              "      <th>business_code</th>\n",
              "      <th>cust_number</th>\n",
              "      <th>name_customer</th>\n",
              "      <th>buisness_year</th>\n",
              "      <th>doc_id</th>\n",
              "      <th>posting_date</th>\n",
              "      <th>due_in_date</th>\n",
              "      <th>baseline_create_date</th>\n",
              "      <th>cust_payment_terms</th>\n",
              "      <th>converted_usd</th>\n",
              "      <th>avg_delay</th>\n",
              "    </tr>\n",
              "  </thead>\n",
              "  <tbody>\n",
              "    <tr>\n",
              "      <th>0</th>\n",
              "      <td>U001</td>\n",
              "      <td>0200769623</td>\n",
              "      <td>WAL-MAR corp</td>\n",
              "      <td>2020.0</td>\n",
              "      <td>1.930438e+09</td>\n",
              "      <td>2020-01-26</td>\n",
              "      <td>2020-02-10</td>\n",
              "      <td>2020-01-26</td>\n",
              "      <td>NAH4</td>\n",
              "      <td>54273.280</td>\n",
              "      <td>-2.334702e+05</td>\n",
              "    </tr>\n",
              "    <tr>\n",
              "      <th>1</th>\n",
              "      <td>U001</td>\n",
              "      <td>0200980828</td>\n",
              "      <td>BEN E</td>\n",
              "      <td>2019.0</td>\n",
              "      <td>1.929646e+09</td>\n",
              "      <td>2019-07-22</td>\n",
              "      <td>2019-08-11</td>\n",
              "      <td>2019-07-22</td>\n",
              "      <td>NAD1</td>\n",
              "      <td>79656.600</td>\n",
              "      <td>1.641600e+06</td>\n",
              "    </tr>\n",
              "    <tr>\n",
              "      <th>2</th>\n",
              "      <td>U001</td>\n",
              "      <td>0200792734</td>\n",
              "      <td>MDV/ trust</td>\n",
              "      <td>2019.0</td>\n",
              "      <td>1.929874e+09</td>\n",
              "      <td>2019-09-14</td>\n",
              "      <td>2019-09-29</td>\n",
              "      <td>2019-09-14</td>\n",
              "      <td>NAA8</td>\n",
              "      <td>2253.860</td>\n",
              "      <td>6.990545e+05</td>\n",
              "    </tr>\n",
              "    <tr>\n",
              "      <th>3</th>\n",
              "      <td>U001</td>\n",
              "      <td>0200769623</td>\n",
              "      <td>WAL-MAR foundation</td>\n",
              "      <td>2019.0</td>\n",
              "      <td>1.930148e+09</td>\n",
              "      <td>2019-11-13</td>\n",
              "      <td>2019-11-28</td>\n",
              "      <td>2019-11-13</td>\n",
              "      <td>NAH4</td>\n",
              "      <td>33133.290</td>\n",
              "      <td>-1.887923e+05</td>\n",
              "    </tr>\n",
              "    <tr>\n",
              "      <th>4</th>\n",
              "      <td>CA02</td>\n",
              "      <td>0140106181</td>\n",
              "      <td>THE  corporation</td>\n",
              "      <td>2019.0</td>\n",
              "      <td>2.960581e+09</td>\n",
              "      <td>2019-09-20</td>\n",
              "      <td>2019-10-04</td>\n",
              "      <td>2019-09-24</td>\n",
              "      <td>CA10</td>\n",
              "      <td>15558.088</td>\n",
              "      <td>6.172800e+06</td>\n",
              "    </tr>\n",
              "  </tbody>\n",
              "</table>\n",
              "</div>\n",
              "      <button class=\"colab-df-convert\" onclick=\"convertToInteractive('df-455c598a-5b13-4e53-aed1-10cdddf383f9')\"\n",
              "              title=\"Convert this dataframe to an interactive table.\"\n",
              "              style=\"display:none;\">\n",
              "        \n",
              "  <svg xmlns=\"http://www.w3.org/2000/svg\" height=\"24px\"viewBox=\"0 0 24 24\"\n",
              "       width=\"24px\">\n",
              "    <path d=\"M0 0h24v24H0V0z\" fill=\"none\"/>\n",
              "    <path d=\"M18.56 5.44l.94 2.06.94-2.06 2.06-.94-2.06-.94-.94-2.06-.94 2.06-2.06.94zm-11 1L8.5 8.5l.94-2.06 2.06-.94-2.06-.94L8.5 2.5l-.94 2.06-2.06.94zm10 10l.94 2.06.94-2.06 2.06-.94-2.06-.94-.94-2.06-.94 2.06-2.06.94z\"/><path d=\"M17.41 7.96l-1.37-1.37c-.4-.4-.92-.59-1.43-.59-.52 0-1.04.2-1.43.59L10.3 9.45l-7.72 7.72c-.78.78-.78 2.05 0 2.83L4 21.41c.39.39.9.59 1.41.59.51 0 1.02-.2 1.41-.59l7.78-7.78 2.81-2.81c.8-.78.8-2.07 0-2.86zM5.41 20L4 18.59l7.72-7.72 1.47 1.35L5.41 20z\"/>\n",
              "  </svg>\n",
              "      </button>\n",
              "      \n",
              "  <style>\n",
              "    .colab-df-container {\n",
              "      display:flex;\n",
              "      flex-wrap:wrap;\n",
              "      gap: 12px;\n",
              "    }\n",
              "\n",
              "    .colab-df-convert {\n",
              "      background-color: #E8F0FE;\n",
              "      border: none;\n",
              "      border-radius: 50%;\n",
              "      cursor: pointer;\n",
              "      display: none;\n",
              "      fill: #1967D2;\n",
              "      height: 32px;\n",
              "      padding: 0 0 0 0;\n",
              "      width: 32px;\n",
              "    }\n",
              "\n",
              "    .colab-df-convert:hover {\n",
              "      background-color: #E2EBFA;\n",
              "      box-shadow: 0px 1px 2px rgba(60, 64, 67, 0.3), 0px 1px 3px 1px rgba(60, 64, 67, 0.15);\n",
              "      fill: #174EA6;\n",
              "    }\n",
              "\n",
              "    [theme=dark] .colab-df-convert {\n",
              "      background-color: #3B4455;\n",
              "      fill: #D2E3FC;\n",
              "    }\n",
              "\n",
              "    [theme=dark] .colab-df-convert:hover {\n",
              "      background-color: #434B5C;\n",
              "      box-shadow: 0px 1px 3px 1px rgba(0, 0, 0, 0.15);\n",
              "      filter: drop-shadow(0px 1px 2px rgba(0, 0, 0, 0.3));\n",
              "      fill: #FFFFFF;\n",
              "    }\n",
              "  </style>\n",
              "\n",
              "      <script>\n",
              "        const buttonEl =\n",
              "          document.querySelector('#df-455c598a-5b13-4e53-aed1-10cdddf383f9 button.colab-df-convert');\n",
              "        buttonEl.style.display =\n",
              "          google.colab.kernel.accessAllowed ? 'block' : 'none';\n",
              "\n",
              "        async function convertToInteractive(key) {\n",
              "          const element = document.querySelector('#df-455c598a-5b13-4e53-aed1-10cdddf383f9');\n",
              "          const dataTable =\n",
              "            await google.colab.kernel.invokeFunction('convertToInteractive',\n",
              "                                                     [key], {});\n",
              "          if (!dataTable) return;\n",
              "\n",
              "          const docLinkHtml = 'Like what you see? Visit the ' +\n",
              "            '<a target=\"_blank\" href=https://colab.research.google.com/notebooks/data_table.ipynb>data table notebook</a>'\n",
              "            + ' to learn more about interactive tables.';\n",
              "          element.innerHTML = '';\n",
              "          dataTable['output_type'] = 'display_data';\n",
              "          await google.colab.output.renderOutput(dataTable, element);\n",
              "          const docLink = document.createElement('div');\n",
              "          docLink.innerHTML = docLinkHtml;\n",
              "          element.appendChild(docLink);\n",
              "        }\n",
              "      </script>\n",
              "    </div>\n",
              "  </div>\n",
              "  "
            ]
          },
          "metadata": {},
          "execution_count": 46
        }
      ],
      "source": [
        "maindata.drop(['Delay', 'clear_date'], axis=1, inplace=True)\n",
        "maindata.head()"
      ]
    },
    {
      "cell_type": "markdown",
      "id": "ae724bfc",
      "metadata": {
        "id": "ae724bfc"
      },
      "source": [
        "# Splitting of Train and the Test Data"
      ]
    },
    {
      "cell_type": "markdown",
      "id": "cb6f0264",
      "metadata": {
        "id": "cb6f0264"
      },
      "source": [
        "### You need to split the \"maindata\" columns into X and y dataframe\n",
        "\n",
        "- Note - y should have the target column i.e. \"avg_delay\" and the other column should be in X\n",
        "\n",
        "- X is going to hold the source fields and y will be going to hold the target fields"
      ]
    },
    {
      "cell_type": "code",
      "execution_count": null,
      "id": "75ab29ab",
      "metadata": {
        "id": "75ab29ab"
      },
      "outputs": [],
      "source": [
        "X = maindata.drop(['avg_delay'], axis=1)"
      ]
    },
    {
      "cell_type": "code",
      "execution_count": null,
      "id": "6412c62b",
      "metadata": {
        "id": "6412c62b"
      },
      "outputs": [],
      "source": [
        "y = maindata['avg_delay']"
      ]
    },
    {
      "cell_type": "markdown",
      "id": "1c2942bf",
      "metadata": {
        "id": "1c2942bf"
      },
      "source": [
        "#### You are expected to split both the dataframes into train and test format in 60:40 ratio \n",
        "\n",
        "- Note - The expected output should be in \"X_train\", \"X_loc_test\", \"y_train\", \"y_loc_test\" format "
      ]
    },
    {
      "cell_type": "code",
      "execution_count": null,
      "id": "d92160a5",
      "metadata": {
        "id": "d92160a5"
      },
      "outputs": [],
      "source": [
        "X_train, X_loc_test, y_train, y_loc_test = train_test_split(X, y, test_size=0.4)"
      ]
    },
    {
      "cell_type": "markdown",
      "source": [
        "### Please check for the number of rows and columns of all the new dataframes (all 4)"
      ],
      "metadata": {
        "id": "p4OME62pDufR"
      },
      "id": "p4OME62pDufR"
    },
    {
      "cell_type": "code",
      "execution_count": null,
      "id": "48328d0a",
      "metadata": {
        "id": "48328d0a",
        "outputId": "c1e2fe72-12e2-4efd-e093-a59b10d4e98a",
        "colab": {
          "base_uri": "https://localhost:8080/"
        }
      },
      "outputs": [
        {
          "output_type": "stream",
          "name": "stdout",
          "text": [
            "(23494, 10)\n",
            "(15664, 10)\n",
            "(23494,)\n",
            "(15664,)\n"
          ]
        }
      ],
      "source": [
        "print(X_train.shape)\n",
        "print(X_loc_test.shape)\n",
        "print(y_train.shape)\n",
        "print(y_loc_test.shape)"
      ]
    },
    {
      "cell_type": "markdown",
      "id": "4a68ed71",
      "metadata": {
        "id": "4a68ed71"
      },
      "source": [
        "### Now you are expected to split the \"X_loc_test\" and \"y_loc_test\" dataset into \"Test\" and \"Validation\" (as the names given below) dataframe with 50:50 format \n",
        "\n",
        "- Note - The expected output should be in \"X_val\", \"X_test\", \"y_val\", \"y_test\" format"
      ]
    },
    {
      "cell_type": "code",
      "execution_count": null,
      "id": "b56c62f2",
      "metadata": {
        "id": "b56c62f2"
      },
      "outputs": [],
      "source": [
        "X_val, X_test, y_val, y_test = train_test_split(X_loc_test, y_loc_test, test_size=0.5)"
      ]
    },
    {
      "cell_type": "markdown",
      "source": [
        "### Please check for the number of rows and columns of all the 4 dataframes "
      ],
      "metadata": {
        "id": "bJTSAskvERH1"
      },
      "id": "bJTSAskvERH1"
    },
    {
      "cell_type": "code",
      "execution_count": null,
      "id": "845d7564",
      "metadata": {
        "id": "845d7564",
        "outputId": "aba1c1c7-23dd-4319-8c59-330210ca88d9",
        "colab": {
          "base_uri": "https://localhost:8080/"
        }
      },
      "outputs": [
        {
          "output_type": "stream",
          "name": "stdout",
          "text": [
            "(7832, 10)\n",
            "(7832, 10)\n",
            "(7832,)\n",
            "(7832,)\n"
          ]
        }
      ],
      "source": [
        "print(X_val.shape)\n",
        "print(X_test.shape)\n",
        "print(y_val.shape)\n",
        "print(y_test.shape)"
      ]
    },
    {
      "cell_type": "markdown",
      "id": "110fa872",
      "metadata": {
        "id": "110fa872"
      },
      "source": [
        "# Exploratory Data Analysis (EDA) "
      ]
    },
    {
      "cell_type": "markdown",
      "id": "ffc8fe0f",
      "metadata": {
        "id": "ffc8fe0f"
      },
      "source": [
        "### Distribution Plot of the target variable (use the dataframe which contains the target field)\n",
        "\n",
        "- Note - You are expected to make a distribution plot for the target variable "
      ]
    },
    {
      "cell_type": "code",
      "execution_count": null,
      "id": "ba2bf8ed",
      "metadata": {
        "id": "ba2bf8ed",
        "outputId": "0255d760-fefa-4e5e-aee7-634e3ae75acd",
        "colab": {
          "base_uri": "https://localhost:8080/",
          "height": 387
        }
      },
      "outputs": [
        {
          "output_type": "execute_result",
          "data": {
            "text/plain": [
              "<seaborn.axisgrid.FacetGrid at 0x7f38e2947a90>"
            ]
          },
          "metadata": {},
          "execution_count": 53
        },
        {
          "output_type": "display_data",
          "data": {
            "text/plain": [
              "<Figure size 360x360 with 1 Axes>"
            ],
            "image/png": "[encoded data removed]"
          },
          "metadata": {
            "needs_background": "light"
          }
        }
      ],
      "source": [
        "sns.displot(data=y_train, kde=True, color='red', bins=5)"
      ]
    },
    {
      "cell_type": "markdown",
      "id": "d0e323a3",
      "metadata": {
        "id": "d0e323a3"
      },
      "source": [
        "### You are expected to group the X_train dataset on 'name_customer' column with 'doc_id' in the x_train set\n",
        "\n",
        "### Need to store the outcome into a new dataframe \n",
        "\n",
        "- Note code given for groupby statement- X_train.groupby(by=['name_customer'], as_index=False)['doc_id'].count()"
      ]
    },
    {
      "cell_type": "code",
      "execution_count": null,
      "id": "f7acf0ee",
      "metadata": {
        "id": "f7acf0ee",
        "outputId": "7d0639ca-a496-4c47-a696-a3b6efa85ce7",
        "colab": {
          "base_uri": "https://localhost:8080/",
          "height": 206
        }
      },
      "outputs": [
        {
          "output_type": "execute_result",
          "data": {
            "text/plain": [
              "       name_customer  doc_id\n",
              "0          17135 llc       1\n",
              "1  236008 associates       1\n",
              "2             99 CE        2\n",
              "3   99 CE associates       2\n",
              "4  99 CE corporation       2"
            ],
            "text/html": [
              "\n",
              "  <div id=\"df-9b612476-ea45-4e8d-b015-5a98264935bc\">\n",
              "    <div class=\"colab-df-container\">\n",
              "      <div>\n",
              "<style scoped>\n",
              "    .dataframe tbody tr th:only-of-type {\n",
              "        vertical-align: middle;\n",
              "    }\n",
              "\n",
              "    .dataframe tbody tr th {\n",
              "        vertical-align: top;\n",
              "    }\n",
              "\n",
              "    .dataframe thead th {\n",
              "        text-align: right;\n",
              "    }\n",
              "</style>\n",
              "<table border=\"1\" class=\"dataframe\">\n",
              "  <thead>\n",
              "    <tr style=\"text-align: right;\">\n",
              "      <th></th>\n",
              "      <th>name_customer</th>\n",
              "      <th>doc_id</th>\n",
              "    </tr>\n",
              "  </thead>\n",
              "  <tbody>\n",
              "    <tr>\n",
              "      <th>0</th>\n",
              "      <td>17135 llc</td>\n",
              "      <td>1</td>\n",
              "    </tr>\n",
              "    <tr>\n",
              "      <th>1</th>\n",
              "      <td>236008 associates</td>\n",
              "      <td>1</td>\n",
              "    </tr>\n",
              "    <tr>\n",
              "      <th>2</th>\n",
              "      <td>99 CE</td>\n",
              "      <td>2</td>\n",
              "    </tr>\n",
              "    <tr>\n",
              "      <th>3</th>\n",
              "      <td>99 CE associates</td>\n",
              "      <td>2</td>\n",
              "    </tr>\n",
              "    <tr>\n",
              "      <th>4</th>\n",
              "      <td>99 CE corporation</td>\n",
              "      <td>2</td>\n",
              "    </tr>\n",
              "  </tbody>\n",
              "</table>\n",
              "</div>\n",
              "      <button class=\"colab-df-convert\" onclick=\"convertToInteractive('df-9b612476-ea45-4e8d-b015-5a98264935bc')\"\n",
              "              title=\"Convert this dataframe to an interactive table.\"\n",
              "              style=\"display:none;\">\n",
              "        \n",
              "  <svg xmlns=\"http://www.w3.org/2000/svg\" height=\"24px\"viewBox=\"0 0 24 24\"\n",
              "       width=\"24px\">\n",
              "    <path d=\"M0 0h24v24H0V0z\" fill=\"none\"/>\n",
              "    <path d=\"M18.56 5.44l.94 2.06.94-2.06 2.06-.94-2.06-.94-.94-2.06-.94 2.06-2.06.94zm-11 1L8.5 8.5l.94-2.06 2.06-.94-2.06-.94L8.5 2.5l-.94 2.06-2.06.94zm10 10l.94 2.06.94-2.06 2.06-.94-2.06-.94-.94-2.06-.94 2.06-2.06.94z\"/><path d=\"M17.41 7.96l-1.37-1.37c-.4-.4-.92-.59-1.43-.59-.52 0-1.04.2-1.43.59L10.3 9.45l-7.72 7.72c-.78.78-.78 2.05 0 2.83L4 21.41c.39.39.9.59 1.41.59.51 0 1.02-.2 1.41-.59l7.78-7.78 2.81-2.81c.8-.78.8-2.07 0-2.86zM5.41 20L4 18.59l7.72-7.72 1.47 1.35L5.41 20z\"/>\n",
              "  </svg>\n",
              "      </button>\n",
              "      \n",
              "  <style>\n",
              "    .colab-df-container {\n",
              "      display:flex;\n",
              "      flex-wrap:wrap;\n",
              "      gap: 12px;\n",
              "    }\n",
              "\n",
              "    .colab-df-convert {\n",
              "      background-color: #E8F0FE;\n",
              "      border: none;\n",
              "      border-radius: 50%;\n",
              "      cursor: pointer;\n",
              "      display: none;\n",
              "      fill: #1967D2;\n",
              "      height: 32px;\n",
              "      padding: 0 0 0 0;\n",
              "      width: 32px;\n",
              "    }\n",
              "\n",
              "    .colab-df-convert:hover {\n",
              "      background-color: #E2EBFA;\n",
              "      box-shadow: 0px 1px 2px rgba(60, 64, 67, 0.3), 0px 1px 3px 1px rgba(60, 64, 67, 0.15);\n",
              "      fill: #174EA6;\n",
              "    }\n",
              "\n",
              "    [theme=dark] .colab-df-convert {\n",
              "      background-color: #3B4455;\n",
              "      fill: #D2E3FC;\n",
              "    }\n",
              "\n",
              "    [theme=dark] .colab-df-convert:hover {\n",
              "      background-color: #434B5C;\n",
              "      box-shadow: 0px 1px 3px 1px rgba(0, 0, 0, 0.15);\n",
              "      filter: drop-shadow(0px 1px 2px rgba(0, 0, 0, 0.3));\n",
              "      fill: #FFFFFF;\n",
              "    }\n",
              "  </style>\n",
              "\n",
              "      <script>\n",
              "        const buttonEl =\n",
              "          document.querySelector('#df-9b612476-ea45-4e8d-b015-5a98264935bc button.colab-df-convert');\n",
              "        buttonEl.style.display =\n",
              "          google.colab.kernel.accessAllowed ? 'block' : 'none';\n",
              "\n",
              "        async function convertToInteractive(key) {\n",
              "          const element = document.querySelector('#df-9b612476-ea45-4e8d-b015-5a98264935bc');\n",
              "          const dataTable =\n",
              "            await google.colab.kernel.invokeFunction('convertToInteractive',\n",
              "                                                     [key], {});\n",
              "          if (!dataTable) return;\n",
              "\n",
              "          const docLinkHtml = 'Like what you see? Visit the ' +\n",
              "            '<a target=\"_blank\" href=https://colab.research.google.com/notebooks/data_table.ipynb>data table notebook</a>'\n",
              "            + ' to learn more about interactive tables.';\n",
              "          element.innerHTML = '';\n",
              "          dataTable['output_type'] = 'display_data';\n",
              "          await google.colab.output.renderOutput(dataTable, element);\n",
              "          const docLink = document.createElement('div');\n",
              "          docLink.innerHTML = docLinkHtml;\n",
              "          element.appendChild(docLink);\n",
              "        }\n",
              "      </script>\n",
              "    </div>\n",
              "  </div>\n",
              "  "
            ]
          },
          "metadata": {},
          "execution_count": 54
        }
      ],
      "source": [
        "x_train = X_train.groupby(by=[\"name_customer\"], as_index=False)[\"doc_id\"].count()\n",
        "x_train.head()"
      ]
    },
    {
      "cell_type": "markdown",
      "source": [
        "### You can make another distribution plot of the \"doc_id\" column from x_train"
      ],
      "metadata": {
        "id": "cA43bFffFt6i"
      },
      "id": "cA43bFffFt6i"
    },
    {
      "cell_type": "code",
      "execution_count": null,
      "id": "9576bf33",
      "metadata": {
        "id": "9576bf33",
        "outputId": "c09b7efd-714e-413a-c9ea-45729acdab54",
        "colab": {
          "base_uri": "https://localhost:8080/",
          "height": 387
        }
      },
      "outputs": [
        {
          "output_type": "execute_result",
          "data": {
            "text/plain": [
              "<seaborn.axisgrid.FacetGrid at 0x7f38e22f4cd0>"
            ]
          },
          "metadata": {},
          "execution_count": 55
        },
        {
          "output_type": "display_data",
          "data": {
            "text/plain": [
              "<Figure size 360x360 with 1 Axes>"
            ],
            "image/png": "[encoded data removed]"
          },
          "metadata": {
            "needs_background": "light"
          }
        }
      ],
      "source": [
        "sns.displot(data=x_train, x=\"doc_id\", kde=True, color='blue', bins=10)"
      ]
    },
    {
      "cell_type": "markdown",
      "id": "fba2c44f",
      "metadata": {
        "id": "fba2c44f"
      },
      "source": [
        "#### Create a Distribution plot only for business_year and a seperate distribution plot of \"business_year\" column along with the doc_id\" column\n"
      ]
    },
    {
      "cell_type": "code",
      "execution_count": null,
      "id": "4fecec77",
      "metadata": {
        "id": "4fecec77",
        "outputId": "f3c03081-9d85-4213-80f7-f27353ce375d",
        "colab": {
          "base_uri": "https://localhost:8080/",
          "height": 387
        }
      },
      "outputs": [
        {
          "output_type": "execute_result",
          "data": {
            "text/plain": [
              "<seaborn.axisgrid.FacetGrid at 0x7f38e2613b10>"
            ]
          },
          "metadata": {},
          "execution_count": 56
        },
        {
          "output_type": "display_data",
          "data": {
            "text/plain": [
              "<Figure size 360x360 with 1 Axes>"
            ],
            "image/png": "[encoded data removed]"
          },
          "metadata": {
            "needs_background": "light"
          }
        }
      ],
      "source": [
        "sns.displot(data=X_train, x=\"buisness_year\", kde=False, color='yellow', bins=10)"
      ]
    },
    {
      "cell_type": "code",
      "source": [
        "sns.displot(data=X_train, x=\"doc_id\", y=\"buisness_year\", kind='kde', bins=5)"
      ],
      "metadata": {
        "id": "qr1jGhfOKjnw",
        "outputId": "e84a537d-36eb-4478-cdb5-8194e7041552",
        "colab": {
          "base_uri": "https://localhost:8080/",
          "height": 421
        }
      },
      "id": "qr1jGhfOKjnw",
      "execution_count": null,
      "outputs": [
        {
          "output_type": "stream",
          "name": "stderr",
          "text": [
            "/usr/local/lib/python3.7/dist-packages/seaborn/distributions.py:1213: UserWarning: The following kwargs were not used by contour: 'bins'\n",
            "  **contour_kws,\n"
          ]
        },
        {
          "output_type": "execute_result",
          "data": {
            "text/plain": [
              "<seaborn.axisgrid.FacetGrid at 0x7f38e255e0d0>"
            ]
          },
          "metadata": {},
          "execution_count": 57
        },
        {
          "output_type": "display_data",
          "data": {
            "text/plain": [
              "<Figure size 360x360 with 1 Axes>"
            ],
            "image/png": "[encoded data removed]"
          },
          "metadata": {
            "needs_background": "light"
          }
        }
      ]
    },
    {
      "cell_type": "markdown",
      "id": "968fbcc9",
      "metadata": {
        "id": "968fbcc9"
      },
      "source": [
        "# Feature Engineering "
      ]
    },
    {
      "cell_type": "markdown",
      "source": [
        "### Display and describe the X_train dataframe "
      ],
      "metadata": {
        "id": "jbh6CyGqH3XE"
      },
      "id": "jbh6CyGqH3XE"
    },
    {
      "cell_type": "code",
      "execution_count": null,
      "id": "e6bcf307",
      "metadata": {
        "id": "e6bcf307",
        "outputId": "be0d69ed-b612-486b-b7e0-9569234ce7f5",
        "colab": {
          "base_uri": "https://localhost:8080/",
          "height": 540
        }
      },
      "outputs": [
        {
          "output_type": "execute_result",
          "data": {
            "text/plain": [
              "      business_code cust_number     name_customer  buisness_year  \\\n",
              "8547           U001  0200764795      SYSCO  trust         2019.0   \n",
              "12198          CA02  0140104409              LOB          2019.0   \n",
              "20831          U001  0200769623        WAL-MAR co         2019.0   \n",
              "25608          U001   200592182             DECA          2019.0   \n",
              "31293          U001  0200755701        ASSOCI llc         2019.0   \n",
              "...             ...         ...               ...            ...   \n",
              "37134          U001  0200230690           DECA co         2019.0   \n",
              "27488          U001  0200915438  GROC corporation         2019.0   \n",
              "26913          U001      CCCA02      KRAFT  trust         2019.0   \n",
              "22130          U001  0200779906     BOZZU systems         2019.0   \n",
              "3980           U001  0200704858   WAKE foundation         2019.0   \n",
              "\n",
              "             doc_id posting_date due_in_date baseline_create_date  \\\n",
              "8547   1.930207e+09   2019-12-03  2019-12-18           2019-12-03   \n",
              "12198  2.960568e+09   2019-08-20  2019-09-01           2019-08-22   \n",
              "20831  1.929411e+09   2019-06-02  2019-06-17           2019-06-02   \n",
              "25608  1.929112e+09   2019-04-10  2019-04-24           2019-04-01   \n",
              "31293  1.929101e+09   2019-04-09  2019-04-24           2019-04-09   \n",
              "...             ...          ...         ...                  ...   \n",
              "37134  1.929901e+09   2019-09-20  2019-09-23           2019-09-16   \n",
              "27488  1.929726e+09   2019-08-12  2019-08-27           2019-08-12   \n",
              "26913  1.929203e+09   2019-04-26  2019-05-31           2019-04-26   \n",
              "22130  1.928597e+09   2019-01-11  2019-01-26           2019-01-11   \n",
              "3980   1.928653e+09   2019-01-22  2019-02-06           2019-01-22   \n",
              "\n",
              "      cust_payment_terms  converted_usd  \n",
              "8547                NAA8       4358.940  \n",
              "12198               CA10      56256.179  \n",
              "20831               NAH4       1651.980  \n",
              "25608               NAM4       3927.670  \n",
              "31293               NAA8      20509.330  \n",
              "...                  ...            ...  \n",
              "37134               NAM1      10530.910  \n",
              "27488               NAA8       5481.000  \n",
              "26913               NAG2       9954.330  \n",
              "22130               NAA8      57388.380  \n",
              "3980                NAA8      17275.000  \n",
              "\n",
              "[23494 rows x 10 columns]"
            ],
            "text/html": [
              "\n",
              "  <div id=\"df-5b8d3c32-2fd0-49bb-b4c3-a00852a495b9\">\n",
              "    <div class=\"colab-df-container\">\n",
              "      <div>\n",
              "<style scoped>\n",
              "    .dataframe tbody tr th:only-of-type {\n",
              "        vertical-align: middle;\n",
              "    }\n",
              "\n",
              "    .dataframe tbody tr th {\n",
              "        vertical-align: top;\n",
              "    }\n",
              "\n",
              "    .dataframe thead th {\n",
              "        text-align: right;\n",
              "    }\n",
              "</style>\n",
              "<table border=\"1\" class=\"dataframe\">\n",
              "  <thead>\n",
              "    <tr style=\"text-align: right;\">\n",
              "      <th></th>\n",
              "      <th>business_code</th>\n",
              "      <th>cust_number</th>\n",
              "      <th>name_customer</th>\n",
              "      <th>buisness_year</th>\n",
              "      <th>doc_id</th>\n",
              "      <th>posting_date</th>\n",
              "      <th>due_in_date</th>\n",
              "      <th>baseline_create_date</th>\n",
              "      <th>cust_payment_terms</th>\n",
              "      <th>converted_usd</th>\n",
              "    </tr>\n",
              "  </thead>\n",
              "  <tbody>\n",
              "    <tr>\n",
              "      <th>8547</th>\n",
              "      <td>U001</td>\n",
              "      <td>0200764795</td>\n",
              "      <td>SYSCO  trust</td>\n",
              "      <td>2019.0</td>\n",
              "      <td>1.930207e+09</td>\n",
              "      <td>2019-12-03</td>\n",
              "      <td>2019-12-18</td>\n",
              "      <td>2019-12-03</td>\n",
              "      <td>NAA8</td>\n",
              "      <td>4358.940</td>\n",
              "    </tr>\n",
              "    <tr>\n",
              "      <th>12198</th>\n",
              "      <td>CA02</td>\n",
              "      <td>0140104409</td>\n",
              "      <td>LOB</td>\n",
              "      <td>2019.0</td>\n",
              "      <td>2.960568e+09</td>\n",
              "      <td>2019-08-20</td>\n",
              "      <td>2019-09-01</td>\n",
              "      <td>2019-08-22</td>\n",
              "      <td>CA10</td>\n",
              "      <td>56256.179</td>\n",
              "    </tr>\n",
              "    <tr>\n",
              "      <th>20831</th>\n",
              "      <td>U001</td>\n",
              "      <td>0200769623</td>\n",
              "      <td>WAL-MAR co</td>\n",
              "      <td>2019.0</td>\n",
              "      <td>1.929411e+09</td>\n",
              "      <td>2019-06-02</td>\n",
              "      <td>2019-06-17</td>\n",
              "      <td>2019-06-02</td>\n",
              "      <td>NAH4</td>\n",
              "      <td>1651.980</td>\n",
              "    </tr>\n",
              "    <tr>\n",
              "      <th>25608</th>\n",
              "      <td>U001</td>\n",
              "      <td>200592182</td>\n",
              "      <td>DECA</td>\n",
              "      <td>2019.0</td>\n",
              "      <td>1.929112e+09</td>\n",
              "      <td>2019-04-10</td>\n",
              "      <td>2019-04-24</td>\n",
              "      <td>2019-04-01</td>\n",
              "      <td>NAM4</td>\n",
              "      <td>3927.670</td>\n",
              "    </tr>\n",
              "    <tr>\n",
              "      <th>31293</th>\n",
              "      <td>U001</td>\n",
              "      <td>0200755701</td>\n",
              "      <td>ASSOCI llc</td>\n",
              "      <td>2019.0</td>\n",
              "      <td>1.929101e+09</td>\n",
              "      <td>2019-04-09</td>\n",
              "      <td>2019-04-24</td>\n",
              "      <td>2019-04-09</td>\n",
              "      <td>NAA8</td>\n",
              "      <td>20509.330</td>\n",
              "    </tr>\n",
              "    <tr>\n",
              "      <th>...</th>\n",
              "      <td>...</td>\n",
              "      <td>...</td>\n",
              "      <td>...</td>\n",
              "      <td>...</td>\n",
              "      <td>...</td>\n",
              "      <td>...</td>\n",
              "      <td>...</td>\n",
              "      <td>...</td>\n",
              "      <td>...</td>\n",
              "      <td>...</td>\n",
              "    </tr>\n",
              "    <tr>\n",
              "      <th>37134</th>\n",
              "      <td>U001</td>\n",
              "      <td>0200230690</td>\n",
              "      <td>DECA co</td>\n",
              "      <td>2019.0</td>\n",
              "      <td>1.929901e+09</td>\n",
              "      <td>2019-09-20</td>\n",
              "      <td>2019-09-23</td>\n",
              "      <td>2019-09-16</td>\n",
              "      <td>NAM1</td>\n",
              "      <td>10530.910</td>\n",
              "    </tr>\n",
              "    <tr>\n",
              "      <th>27488</th>\n",
              "      <td>U001</td>\n",
              "      <td>0200915438</td>\n",
              "      <td>GROC corporation</td>\n",
              "      <td>2019.0</td>\n",
              "      <td>1.929726e+09</td>\n",
              "      <td>2019-08-12</td>\n",
              "      <td>2019-08-27</td>\n",
              "      <td>2019-08-12</td>\n",
              "      <td>NAA8</td>\n",
              "      <td>5481.000</td>\n",
              "    </tr>\n",
              "    <tr>\n",
              "      <th>26913</th>\n",
              "      <td>U001</td>\n",
              "      <td>CCCA02</td>\n",
              "      <td>KRAFT  trust</td>\n",
              "      <td>2019.0</td>\n",
              "      <td>1.929203e+09</td>\n",
              "      <td>2019-04-26</td>\n",
              "      <td>2019-05-31</td>\n",
              "      <td>2019-04-26</td>\n",
              "      <td>NAG2</td>\n",
              "      <td>9954.330</td>\n",
              "    </tr>\n",
              "    <tr>\n",
              "      <th>22130</th>\n",
              "      <td>U001</td>\n",
              "      <td>0200779906</td>\n",
              "      <td>BOZZU systems</td>\n",
              "      <td>2019.0</td>\n",
              "      <td>1.928597e+09</td>\n",
              "      <td>2019-01-11</td>\n",
              "      <td>2019-01-26</td>\n",
              "      <td>2019-01-11</td>\n",
              "      <td>NAA8</td>\n",
              "      <td>57388.380</td>\n",
              "    </tr>\n",
              "    <tr>\n",
              "      <th>3980</th>\n",
              "      <td>U001</td>\n",
              "      <td>0200704858</td>\n",
              "      <td>WAKE foundation</td>\n",
              "      <td>2019.0</td>\n",
              "      <td>1.928653e+09</td>\n",
              "      <td>2019-01-22</td>\n",
              "      <td>2019-02-06</td>\n",
              "      <td>2019-01-22</td>\n",
              "      <td>NAA8</td>\n",
              "      <td>17275.000</td>\n",
              "    </tr>\n",
              "  </tbody>\n",
              "</table>\n",
              "<p>23494 rows × 10 columns</p>\n",
              "</div>\n",
              "      <button class=\"colab-df-convert\" onclick=\"convertToInteractive('df-5b8d3c32-2fd0-49bb-b4c3-a00852a495b9')\"\n",
              "              title=\"Convert this dataframe to an interactive table.\"\n",
              "              style=\"display:none;\">\n",
              "        \n",
              "  <svg xmlns=\"http://www.w3.org/2000/svg\" height=\"24px\"viewBox=\"0 0 24 24\"\n",
              "       width=\"24px\">\n",
              "    <path d=\"M0 0h24v24H0V0z\" fill=\"none\"/>\n",
              "    <path d=\"M18.56 5.44l.94 2.06.94-2.06 2.06-.94-2.06-.94-.94-2.06-.94 2.06-2.06.94zm-11 1L8.5 8.5l.94-2.06 2.06-.94-2.06-.94L8.5 2.5l-.94 2.06-2.06.94zm10 10l.94 2.06.94-2.06 2.06-.94-2.06-.94-.94-2.06-.94 2.06-2.06.94z\"/><path d=\"M17.41 7.96l-1.37-1.37c-.4-.4-.92-.59-1.43-.59-.52 0-1.04.2-1.43.59L10.3 9.45l-7.72 7.72c-.78.78-.78 2.05 0 2.83L4 21.41c.39.39.9.59 1.41.59.51 0 1.02-.2 1.41-.59l7.78-7.78 2.81-2.81c.8-.78.8-2.07 0-2.86zM5.41 20L4 18.59l7.72-7.72 1.47 1.35L5.41 20z\"/>\n",
              "  </svg>\n",
              "      </button>\n",
              "      \n",
              "  <style>\n",
              "    .colab-df-container {\n",
              "      display:flex;\n",
              "      flex-wrap:wrap;\n",
              "      gap: 12px;\n",
              "    }\n",
              "\n",
              "    .colab-df-convert {\n",
              "      background-color: #E8F0FE;\n",
              "      border: none;\n",
              "      border-radius: 50%;\n",
              "      cursor: pointer;\n",
              "      display: none;\n",
              "      fill: #1967D2;\n",
              "      height: 32px;\n",
              "      padding: 0 0 0 0;\n",
              "      width: 32px;\n",
              "    }\n",
              "\n",
              "    .colab-df-convert:hover {\n",
              "      background-color: #E2EBFA;\n",
              "      box-shadow: 0px 1px 2px rgba(60, 64, 67, 0.3), 0px 1px 3px 1px rgba(60, 64, 67, 0.15);\n",
              "      fill: #174EA6;\n",
              "    }\n",
              "\n",
              "    [theme=dark] .colab-df-convert {\n",
              "      background-color: #3B4455;\n",
              "      fill: #D2E3FC;\n",
              "    }\n",
              "\n",
              "    [theme=dark] .colab-df-convert:hover {\n",
              "      background-color: #434B5C;\n",
              "      box-shadow: 0px 1px 3px 1px rgba(0, 0, 0, 0.15);\n",
              "      filter: drop-shadow(0px 1px 2px rgba(0, 0, 0, 0.3));\n",
              "      fill: #FFFFFF;\n",
              "    }\n",
              "  </style>\n",
              "\n",
              "      <script>\n",
              "        const buttonEl =\n",
              "          document.querySelector('#df-5b8d3c32-2fd0-49bb-b4c3-a00852a495b9 button.colab-df-convert');\n",
              "        buttonEl.style.display =\n",
              "          google.colab.kernel.accessAllowed ? 'block' : 'none';\n",
              "\n",
              "        async function convertToInteractive(key) {\n",
              "          const element = document.querySelector('#df-5b8d3c32-2fd0-49bb-b4c3-a00852a495b9');\n",
              "          const dataTable =\n",
              "            await google.colab.kernel.invokeFunction('convertToInteractive',\n",
              "                                                     [key], {});\n",
              "          if (!dataTable) return;\n",
              "\n",
              "          const docLinkHtml = 'Like what you see? Visit the ' +\n",
              "            '<a target=\"_blank\" href=https://colab.research.google.com/notebooks/data_table.ipynb>data table notebook</a>'\n",
              "            + ' to learn more about interactive tables.';\n",
              "          element.innerHTML = '';\n",
              "          dataTable['output_type'] = 'display_data';\n",
              "          await google.colab.output.renderOutput(dataTable, element);\n",
              "          const docLink = document.createElement('div');\n",
              "          docLink.innerHTML = docLinkHtml;\n",
              "          element.appendChild(docLink);\n",
              "        }\n",
              "      </script>\n",
              "    </div>\n",
              "  </div>\n",
              "  "
            ]
          },
          "metadata": {},
          "execution_count": 58
        }
      ],
      "source": [
        "X_train"
      ]
    },
    {
      "cell_type": "code",
      "execution_count": null,
      "id": "08ccc819",
      "metadata": {
        "id": "08ccc819",
        "outputId": "ff330d1a-7bdf-428c-d4f8-10ad41e47904",
        "colab": {
          "base_uri": "https://localhost:8080/",
          "height": 300
        }
      },
      "outputs": [
        {
          "output_type": "execute_result",
          "data": {
            "text/plain": [
              "       buisness_year        doc_id  converted_usd\n",
              "count   23494.000000  2.349400e+04   23494.000000\n",
              "mean     2019.134034  2.012873e+09   30730.926987\n",
              "std         0.340696  2.903104e+08   36834.585868\n",
              "min      2019.000000  1.928502e+09       0.790000\n",
              "25%      2019.000000  1.929188e+09    4568.255750\n",
              "50%      2019.000000  1.929739e+09   16797.605000\n",
              "75%      2019.000000  1.930212e+09   45338.197500\n",
              "max      2020.000000  9.500000e+09  668593.360000"
            ],
            "text/html": [
              "\n",
              "  <div id=\"df-9b37c28c-3b17-4c4b-aea5-bb1ab416c76a\">\n",
              "    <div class=\"colab-df-container\">\n",
              "      <div>\n",
              "<style scoped>\n",
              "    .dataframe tbody tr th:only-of-type {\n",
              "        vertical-align: middle;\n",
              "    }\n",
              "\n",
              "    .dataframe tbody tr th {\n",
              "        vertical-align: top;\n",
              "    }\n",
              "\n",
              "    .dataframe thead th {\n",
              "        text-align: right;\n",
              "    }\n",
              "</style>\n",
              "<table border=\"1\" class=\"dataframe\">\n",
              "  <thead>\n",
              "    <tr style=\"text-align: right;\">\n",
              "      <th></th>\n",
              "      <th>buisness_year</th>\n",
              "      <th>doc_id</th>\n",
              "      <th>converted_usd</th>\n",
              "    </tr>\n",
              "  </thead>\n",
              "  <tbody>\n",
              "    <tr>\n",
              "      <th>count</th>\n",
              "      <td>23494.000000</td>\n",
              "      <td>2.349400e+04</td>\n",
              "      <td>23494.000000</td>\n",
              "    </tr>\n",
              "    <tr>\n",
              "      <th>mean</th>\n",
              "      <td>2019.134034</td>\n",
              "      <td>2.012873e+09</td>\n",
              "      <td>30730.926987</td>\n",
              "    </tr>\n",
              "    <tr>\n",
              "      <th>std</th>\n",
              "      <td>0.340696</td>\n",
              "      <td>2.903104e+08</td>\n",
              "      <td>36834.585868</td>\n",
              "    </tr>\n",
              "    <tr>\n",
              "      <th>min</th>\n",
              "      <td>2019.000000</td>\n",
              "      <td>1.928502e+09</td>\n",
              "      <td>0.790000</td>\n",
              "    </tr>\n",
              "    <tr>\n",
              "      <th>25%</th>\n",
              "      <td>2019.000000</td>\n",
              "      <td>1.929188e+09</td>\n",
              "      <td>4568.255750</td>\n",
              "    </tr>\n",
              "    <tr>\n",
              "      <th>50%</th>\n",
              "      <td>2019.000000</td>\n",
              "      <td>1.929739e+09</td>\n",
              "      <td>16797.605000</td>\n",
              "    </tr>\n",
              "    <tr>\n",
              "      <th>75%</th>\n",
              "      <td>2019.000000</td>\n",
              "      <td>1.930212e+09</td>\n",
              "      <td>45338.197500</td>\n",
              "    </tr>\n",
              "    <tr>\n",
              "      <th>max</th>\n",
              "      <td>2020.000000</td>\n",
              "      <td>9.500000e+09</td>\n",
              "      <td>668593.360000</td>\n",
              "    </tr>\n",
              "  </tbody>\n",
              "</table>\n",
              "</div>\n",
              "      <button class=\"colab-df-convert\" onclick=\"convertToInteractive('df-9b37c28c-3b17-4c4b-aea5-bb1ab416c76a')\"\n",
              "              title=\"Convert this dataframe to an interactive table.\"\n",
              "              style=\"display:none;\">\n",
              "        \n",
              "  <svg xmlns=\"http://www.w3.org/2000/svg\" height=\"24px\"viewBox=\"0 0 24 24\"\n",
              "       width=\"24px\">\n",
              "    <path d=\"M0 0h24v24H0V0z\" fill=\"none\"/>\n",
              "    <path d=\"M18.56 5.44l.94 2.06.94-2.06 2.06-.94-2.06-.94-.94-2.06-.94 2.06-2.06.94zm-11 1L8.5 8.5l.94-2.06 2.06-.94-2.06-.94L8.5 2.5l-.94 2.06-2.06.94zm10 10l.94 2.06.94-2.06 2.06-.94-2.06-.94-.94-2.06-.94 2.06-2.06.94z\"/><path d=\"M17.41 7.96l-1.37-1.37c-.4-.4-.92-.59-1.43-.59-.52 0-1.04.2-1.43.59L10.3 9.45l-7.72 7.72c-.78.78-.78 2.05 0 2.83L4 21.41c.39.39.9.59 1.41.59.51 0 1.02-.2 1.41-.59l7.78-7.78 2.81-2.81c.8-.78.8-2.07 0-2.86zM5.41 20L4 18.59l7.72-7.72 1.47 1.35L5.41 20z\"/>\n",
              "  </svg>\n",
              "      </button>\n",
              "      \n",
              "  <style>\n",
              "    .colab-df-container {\n",
              "      display:flex;\n",
              "      flex-wrap:wrap;\n",
              "      gap: 12px;\n",
              "    }\n",
              "\n",
              "    .colab-df-convert {\n",
              "      background-color: #E8F0FE;\n",
              "      border: none;\n",
              "      border-radius: 50%;\n",
              "      cursor: pointer;\n",
              "      display: none;\n",
              "      fill: #1967D2;\n",
              "      height: 32px;\n",
              "      padding: 0 0 0 0;\n",
              "      width: 32px;\n",
              "    }\n",
              "\n",
              "    .colab-df-convert:hover {\n",
              "      background-color: #E2EBFA;\n",
              "      box-shadow: 0px 1px 2px rgba(60, 64, 67, 0.3), 0px 1px 3px 1px rgba(60, 64, 67, 0.15);\n",
              "      fill: #174EA6;\n",
              "    }\n",
              "\n",
              "    [theme=dark] .colab-df-convert {\n",
              "      background-color: #3B4455;\n",
              "      fill: #D2E3FC;\n",
              "    }\n",
              "\n",
              "    [theme=dark] .colab-df-convert:hover {\n",
              "      background-color: #434B5C;\n",
              "      box-shadow: 0px 1px 3px 1px rgba(0, 0, 0, 0.15);\n",
              "      filter: drop-shadow(0px 1px 2px rgba(0, 0, 0, 0.3));\n",
              "      fill: #FFFFFF;\n",
              "    }\n",
              "  </style>\n",
              "\n",
              "      <script>\n",
              "        const buttonEl =\n",
              "          document.querySelector('#df-9b37c28c-3b17-4c4b-aea5-bb1ab416c76a button.colab-df-convert');\n",
              "        buttonEl.style.display =\n",
              "          google.colab.kernel.accessAllowed ? 'block' : 'none';\n",
              "\n",
              "        async function convertToInteractive(key) {\n",
              "          const element = document.querySelector('#df-9b37c28c-3b17-4c4b-aea5-bb1ab416c76a');\n",
              "          const dataTable =\n",
              "            await google.colab.kernel.invokeFunction('convertToInteractive',\n",
              "                                                     [key], {});\n",
              "          if (!dataTable) return;\n",
              "\n",
              "          const docLinkHtml = 'Like what you see? Visit the ' +\n",
              "            '<a target=\"_blank\" href=https://colab.research.google.com/notebooks/data_table.ipynb>data table notebook</a>'\n",
              "            + ' to learn more about interactive tables.';\n",
              "          element.innerHTML = '';\n",
              "          dataTable['output_type'] = 'display_data';\n",
              "          await google.colab.output.renderOutput(dataTable, element);\n",
              "          const docLink = document.createElement('div');\n",
              "          docLink.innerHTML = docLinkHtml;\n",
              "          element.appendChild(docLink);\n",
              "        }\n",
              "      </script>\n",
              "    </div>\n",
              "  </div>\n",
              "  "
            ]
          },
          "metadata": {},
          "execution_count": 59
        }
      ],
      "source": [
        "X_train.describe()"
      ]
    },
    {
      "cell_type": "markdown",
      "id": "abd7ac8b",
      "metadata": {
        "id": "abd7ac8b"
      },
      "source": [
        "#### The \"business_code\" column inside X_train, is a categorical column, so you need to perform Labelencoder on that particular column\n",
        "\n",
        "- Note - call the Label Encoder from sklearn library and use the fit() function on \"business_code\" column\n",
        "- Note - Please fill in the blanks (two) to complete this code"
      ]
    },
    {
      "cell_type": "code",
      "execution_count": null,
      "id": "7c223545",
      "metadata": {
        "id": "7c223545",
        "outputId": "30171cb5-5178-40ee-d6e0-3964f74460da",
        "colab": {
          "base_uri": "https://localhost:8080/"
        }
      },
      "outputs": [
        {
          "output_type": "execute_result",
          "data": {
            "text/plain": [
              "LabelEncoder()"
            ]
          },
          "metadata": {},
          "execution_count": 60
        }
      ],
      "source": [
        "from sklearn.preprocessing import LabelEncoder\n",
        "business_coder = LabelEncoder()\n",
        "business_coder.fit(X_train[\"business_code\"])"
      ]
    },
    {
      "cell_type": "markdown",
      "id": "f86f7d9c",
      "metadata": {
        "id": "f86f7d9c"
      },
      "source": [
        "#### You are expected to store the value into a new column i.e. \"business_code_enc\"\n",
        "\n",
        "- Note - For Training set you are expected to use fit_trainsform()\n",
        "- Note - For Test set you are expected to use the trainsform()\n",
        "- Note - For Validation set you are expected to use the trainsform()\n",
        "\n",
        "\n",
        "- Partial code is provided, please fill in the blanks "
      ]
    },
    {
      "cell_type": "code",
      "execution_count": null,
      "id": "4269c307",
      "metadata": {
        "id": "4269c307"
      },
      "outputs": [],
      "source": [
        "X_train['business_code_enc'] = business_coder.fit_transform(X_train['business_code'])"
      ]
    },
    {
      "cell_type": "code",
      "execution_count": null,
      "id": "70a53712",
      "metadata": {
        "id": "70a53712"
      },
      "outputs": [],
      "source": [
        "X_val['business_code_enc'] = business_coder.transform(X_val['business_code'])\n",
        "X_test['business_code_enc'] = business_coder.transform(X_test['business_code'])"
      ]
    },
    {
      "cell_type": "markdown",
      "source": [
        "### Display \"business_code\" and \"business_code_enc\" together from X_train dataframe "
      ],
      "metadata": {
        "id": "gdNYxTkqNfmz"
      },
      "id": "gdNYxTkqNfmz"
    },
    {
      "cell_type": "code",
      "execution_count": null,
      "id": "1196a002",
      "metadata": {
        "id": "1196a002",
        "outputId": "a16d1f1f-9d20-4727-abc9-7d49649ced19",
        "colab": {
          "base_uri": "https://localhost:8080/",
          "height": 423
        }
      },
      "outputs": [
        {
          "output_type": "execute_result",
          "data": {
            "text/plain": [
              "      business_code  business_code_enc\n",
              "8547           U001                  1\n",
              "12198          CA02                  0\n",
              "20831          U001                  1\n",
              "25608          U001                  1\n",
              "31293          U001                  1\n",
              "...             ...                ...\n",
              "37134          U001                  1\n",
              "27488          U001                  1\n",
              "26913          U001                  1\n",
              "22130          U001                  1\n",
              "3980           U001                  1\n",
              "\n",
              "[23494 rows x 2 columns]"
            ],
            "text/html": [
              "\n",
              "  <div id=\"df-fd8f35dd-34d2-4cd3-8b90-2ed038eabe92\">\n",
              "    <div class=\"colab-df-container\">\n",
              "      <div>\n",
              "<style scoped>\n",
              "    .dataframe tbody tr th:only-of-type {\n",
              "        vertical-align: middle;\n",
              "    }\n",
              "\n",
              "    .dataframe tbody tr th {\n",
              "        vertical-align: top;\n",
              "    }\n",
              "\n",
              "    .dataframe thead th {\n",
              "        text-align: right;\n",
              "    }\n",
              "</style>\n",
              "<table border=\"1\" class=\"dataframe\">\n",
              "  <thead>\n",
              "    <tr style=\"text-align: right;\">\n",
              "      <th></th>\n",
              "      <th>business_code</th>\n",
              "      <th>business_code_enc</th>\n",
              "    </tr>\n",
              "  </thead>\n",
              "  <tbody>\n",
              "    <tr>\n",
              "      <th>8547</th>\n",
              "      <td>U001</td>\n",
              "      <td>1</td>\n",
              "    </tr>\n",
              "    <tr>\n",
              "      <th>12198</th>\n",
              "      <td>CA02</td>\n",
              "      <td>0</td>\n",
              "    </tr>\n",
              "    <tr>\n",
              "      <th>20831</th>\n",
              "      <td>U001</td>\n",
              "      <td>1</td>\n",
              "    </tr>\n",
              "    <tr>\n",
              "      <th>25608</th>\n",
              "      <td>U001</td>\n",
              "      <td>1</td>\n",
              "    </tr>\n",
              "    <tr>\n",
              "      <th>31293</th>\n",
              "      <td>U001</td>\n",
              "      <td>1</td>\n",
              "    </tr>\n",
              "    <tr>\n",
              "      <th>...</th>\n",
              "      <td>...</td>\n",
              "      <td>...</td>\n",
              "    </tr>\n",
              "    <tr>\n",
              "      <th>37134</th>\n",
              "      <td>U001</td>\n",
              "      <td>1</td>\n",
              "    </tr>\n",
              "    <tr>\n",
              "      <th>27488</th>\n",
              "      <td>U001</td>\n",
              "      <td>1</td>\n",
              "    </tr>\n",
              "    <tr>\n",
              "      <th>26913</th>\n",
              "      <td>U001</td>\n",
              "      <td>1</td>\n",
              "    </tr>\n",
              "    <tr>\n",
              "      <th>22130</th>\n",
              "      <td>U001</td>\n",
              "      <td>1</td>\n",
              "    </tr>\n",
              "    <tr>\n",
              "      <th>3980</th>\n",
              "      <td>U001</td>\n",
              "      <td>1</td>\n",
              "    </tr>\n",
              "  </tbody>\n",
              "</table>\n",
              "<p>23494 rows × 2 columns</p>\n",
              "</div>\n",
              "      <button class=\"colab-df-convert\" onclick=\"convertToInteractive('df-fd8f35dd-34d2-4cd3-8b90-2ed038eabe92')\"\n",
              "              title=\"Convert this dataframe to an interactive table.\"\n",
              "              style=\"display:none;\">\n",
              "        \n",
              "  <svg xmlns=\"http://www.w3.org/2000/svg\" height=\"24px\"viewBox=\"0 0 24 24\"\n",
              "       width=\"24px\">\n",
              "    <path d=\"M0 0h24v24H0V0z\" fill=\"none\"/>\n",
              "    <path d=\"M18.56 5.44l.94 2.06.94-2.06 2.06-.94-2.06-.94-.94-2.06-.94 2.06-2.06.94zm-11 1L8.5 8.5l.94-2.06 2.06-.94-2.06-.94L8.5 2.5l-.94 2.06-2.06.94zm10 10l.94 2.06.94-2.06 2.06-.94-2.06-.94-.94-2.06-.94 2.06-2.06.94z\"/><path d=\"M17.41 7.96l-1.37-1.37c-.4-.4-.92-.59-1.43-.59-.52 0-1.04.2-1.43.59L10.3 9.45l-7.72 7.72c-.78.78-.78 2.05 0 2.83L4 21.41c.39.39.9.59 1.41.59.51 0 1.02-.2 1.41-.59l7.78-7.78 2.81-2.81c.8-.78.8-2.07 0-2.86zM5.41 20L4 18.59l7.72-7.72 1.47 1.35L5.41 20z\"/>\n",
              "  </svg>\n",
              "      </button>\n",
              "      \n",
              "  <style>\n",
              "    .colab-df-container {\n",
              "      display:flex;\n",
              "      flex-wrap:wrap;\n",
              "      gap: 12px;\n",
              "    }\n",
              "\n",
              "    .colab-df-convert {\n",
              "      background-color: #E8F0FE;\n",
              "      border: none;\n",
              "      border-radius: 50%;\n",
              "      cursor: pointer;\n",
              "      display: none;\n",
              "      fill: #1967D2;\n",
              "      height: 32px;\n",
              "      padding: 0 0 0 0;\n",
              "      width: 32px;\n",
              "    }\n",
              "\n",
              "    .colab-df-convert:hover {\n",
              "      background-color: #E2EBFA;\n",
              "      box-shadow: 0px 1px 2px rgba(60, 64, 67, 0.3), 0px 1px 3px 1px rgba(60, 64, 67, 0.15);\n",
              "      fill: #174EA6;\n",
              "    }\n",
              "\n",
              "    [theme=dark] .colab-df-convert {\n",
              "      background-color: #3B4455;\n",
              "      fill: #D2E3FC;\n",
              "    }\n",
              "\n",
              "    [theme=dark] .colab-df-convert:hover {\n",
              "      background-color: #434B5C;\n",
              "      box-shadow: 0px 1px 3px 1px rgba(0, 0, 0, 0.15);\n",
              "      filter: drop-shadow(0px 1px 2px rgba(0, 0, 0, 0.3));\n",
              "      fill: #FFFFFF;\n",
              "    }\n",
              "  </style>\n",
              "\n",
              "      <script>\n",
              "        const buttonEl =\n",
              "          document.querySelector('#df-fd8f35dd-34d2-4cd3-8b90-2ed038eabe92 button.colab-df-convert');\n",
              "        buttonEl.style.display =\n",
              "          google.colab.kernel.accessAllowed ? 'block' : 'none';\n",
              "\n",
              "        async function convertToInteractive(key) {\n",
              "          const element = document.querySelector('#df-fd8f35dd-34d2-4cd3-8b90-2ed038eabe92');\n",
              "          const dataTable =\n",
              "            await google.colab.kernel.invokeFunction('convertToInteractive',\n",
              "                                                     [key], {});\n",
              "          if (!dataTable) return;\n",
              "\n",
              "          const docLinkHtml = 'Like what you see? Visit the ' +\n",
              "            '<a target=\"_blank\" href=https://colab.research.google.com/notebooks/data_table.ipynb>data table notebook</a>'\n",
              "            + ' to learn more about interactive tables.';\n",
              "          element.innerHTML = '';\n",
              "          dataTable['output_type'] = 'display_data';\n",
              "          await google.colab.output.renderOutput(dataTable, element);\n",
              "          const docLink = document.createElement('div');\n",
              "          docLink.innerHTML = docLinkHtml;\n",
              "          element.appendChild(docLink);\n",
              "        }\n",
              "      </script>\n",
              "    </div>\n",
              "  </div>\n",
              "  "
            ]
          },
          "metadata": {},
          "execution_count": 63
        }
      ],
      "source": [
        "X_train[[\"business_code\", \"business_code_enc\"]]"
      ]
    },
    {
      "cell_type": "markdown",
      "id": "11477224",
      "metadata": {
        "id": "11477224"
      },
      "source": [
        "#### Create a function called \"custom\" for dropping the columns 'business_code' from train, test and validation dataframe\n",
        "\n",
        "- Note - Fill in the blank to complete the code"
      ]
    },
    {
      "cell_type": "code",
      "execution_count": null,
      "id": "1052868a",
      "metadata": {
        "id": "1052868a"
      },
      "outputs": [],
      "source": [
        "def custom(col, traindf=X_train, valdf=X_val, testdf=X_test):\n",
        "    traindf.drop(col, axis=1, inplace=True)\n",
        "    valdf.drop(col, axis=1, inplace=True)\n",
        "    testdf.drop(col, axis=1, inplace=True)\n",
        "\n",
        "    return traindf, valdf, testdf"
      ]
    },
    {
      "cell_type": "markdown",
      "source": [
        "### Call the function by passing the column name which needed to be dropped from train, test and validation dataframes. Return updated dataframes to be stored in X_train ,X_val, X_test  \n",
        "\n",
        "- Note = Fill in the blank to complete the code "
      ],
      "metadata": {
        "id": "rI--ZuMbNLne"
      },
      "id": "rI--ZuMbNLne"
    },
    {
      "cell_type": "code",
      "execution_count": null,
      "id": "1a0f955c",
      "metadata": {
        "id": "1a0f955c"
      },
      "outputs": [],
      "source": [
        "X_train, X_val, X_test = custom(['business_code'])"
      ]
    },
    {
      "cell_type": "markdown",
      "id": "28b5b27e",
      "metadata": {
        "id": "28b5b27e"
      },
      "source": [
        "### Manually replacing str values with numbers, Here we are trying manually replace the customer numbers with some specific values like, 'CCCA' as 1, 'CCU' as 2 and so on. Also we are converting the datatype \"cust_number\" field to int type.\n",
        "\n",
        "- We are doing it for all the three dataframes as shown below. This is fully completed code. No need to modify anything here \n",
        "\n"
      ]
    },
    {
      "cell_type": "code",
      "execution_count": null,
      "id": "85dd129e",
      "metadata": {
        "id": "85dd129e"
      },
      "outputs": [],
      "source": [
        "X_train['cust_number'] = X_train['cust_number'].str.replace('CCCA',\"1\").str.replace('CCU',\"2\").str.replace('CC',\"3\").astype(int)\n",
        "X_test['cust_number'] = X_test['cust_number'].str.replace('CCCA',\"1\").str.replace('CCU',\"2\").str.replace('CC',\"3\").astype(int)\n",
        "X_val['cust_number'] = X_val['cust_number'].str.replace('CCCA',\"1\").str.replace('CCU',\"2\").str.replace('CC',\"3\").astype(int)\n"
      ]
    },
    {
      "cell_type": "markdown",
      "source": [
        "#### It differs from LabelEncoder by handling new classes and providing a value for it [Unknown]. Unknown will be added in fit and transform will take care of new item. It gives unknown class id.\n",
        "\n",
        "#### This will fit the encoder for all the unique values and introduce unknown value\n",
        "\n",
        "- Note - Keep this code as it is, we will be using this later on.  "
      ],
      "metadata": {
        "id": "U8vA-zmdPnJ8"
      },
      "id": "U8vA-zmdPnJ8"
    },
    {
      "cell_type": "code",
      "execution_count": null,
      "id": "151f48ba",
      "metadata": {
        "id": "151f48ba"
      },
      "outputs": [],
      "source": [
        "#For encoding unseen labels\n",
        "class EncoderExt(object):\n",
        "    def __init__(self):\n",
        "        self.label_encoder = LabelEncoder()\n",
        "    def fit(self, data_list):\n",
        "        self.label_encoder = self.label_encoder.fit(list(data_list) + ['Unknown'])\n",
        "        self.classes_ = self.label_encoder.classes_\n",
        "        return self\n",
        "    def transform(self, data_list):\n",
        "        new_data_list = list(data_list)\n",
        "        for unique_item in np.unique(data_list):\n",
        "            if unique_item not in self.label_encoder.classes_:\n",
        "                new_data_list = ['Unknown' if x==unique_item else x for x in new_data_list]\n",
        "        return self.label_encoder.transform(new_data_list)"
      ]
    },
    {
      "cell_type": "markdown",
      "id": "254c64e6",
      "metadata": {
        "id": "254c64e6"
      },
      "source": [
        "### Use the user define Label Encoder function called \"EncoderExt\" for the \"name_customer\" column\n",
        "\n",
        "- Note - Keep the code as it is, no need to change"
      ]
    },
    {
      "cell_type": "code",
      "execution_count": null,
      "id": "62b17eff",
      "metadata": {
        "id": "62b17eff"
      },
      "outputs": [],
      "source": [
        "label_encoder = EncoderExt()\n",
        "label_encoder.fit(X_train['name_customer'])\n",
        "X_train['name_customer_enc']=label_encoder.transform(X_train['name_customer'])\n",
        "X_val['name_customer_enc']=label_encoder.transform(X_val['name_customer'])\n",
        "X_test['name_customer_enc']=label_encoder.transform(X_test['name_customer'])"
      ]
    },
    {
      "cell_type": "markdown",
      "source": [
        "### As we have created the a new column \"name_customer_enc\", so now drop \"name_customer\" column from all three dataframes\n",
        "\n",
        "- Note - Keep the code as it is, no need to change"
      ],
      "metadata": {
        "id": "mK7LMoy2QZhy"
      },
      "id": "mK7LMoy2QZhy"
    },
    {
      "cell_type": "code",
      "execution_count": null,
      "id": "ef85f1c0",
      "metadata": {
        "id": "ef85f1c0"
      },
      "outputs": [],
      "source": [
        "X_train ,X_val, X_test = custom(['name_customer'])"
      ]
    },
    {
      "cell_type": "markdown",
      "id": "3aa09d22",
      "metadata": {
        "id": "3aa09d22"
      },
      "source": [
        "### Using Label Encoder for the \"cust_payment_terms\" column\n",
        "\n",
        "- Note - Keep the code as it is, no need to change"
      ]
    },
    {
      "cell_type": "code",
      "execution_count": null,
      "id": "6f9ab642",
      "metadata": {
        "id": "6f9ab642"
      },
      "outputs": [],
      "source": [
        "label_encoder1 = EncoderExt()\n",
        "label_encoder1.fit(X_train['cust_payment_terms'])\n",
        "X_train['cust_payment_terms_enc']=label_encoder1.transform(X_train['cust_payment_terms'])\n",
        "X_val['cust_payment_terms_enc']=label_encoder1.transform(X_val['cust_payment_terms'])\n",
        "X_test['cust_payment_terms_enc']=label_encoder1.transform(X_test['cust_payment_terms'])"
      ]
    },
    {
      "cell_type": "code",
      "execution_count": null,
      "id": "55f9a7c2",
      "metadata": {
        "id": "55f9a7c2"
      },
      "outputs": [],
      "source": [
        "X_train ,X_val, X_test = custom(['cust_payment_terms'])"
      ]
    },
    {
      "cell_type": "markdown",
      "id": "0788f42b",
      "metadata": {
        "id": "0788f42b"
      },
      "source": [
        "## Check the datatype of all the columns of Train, Test and Validation dataframes realted to X\n",
        "\n",
        "- Note - You are expected yo use dtype"
      ]
    },
    {
      "cell_type": "code",
      "execution_count": null,
      "id": "bc79a316",
      "metadata": {
        "id": "bc79a316",
        "outputId": "018f5794-8a8f-4eca-a831-d65d7c75e2d4",
        "colab": {
          "base_uri": "https://localhost:8080/"
        }
      },
      "outputs": [
        {
          "output_type": "execute_result",
          "data": {
            "text/plain": [
              "cust_number                        int64\n",
              "buisness_year                    float64\n",
              "doc_id                           float64\n",
              "posting_date              datetime64[ns]\n",
              "due_in_date               datetime64[ns]\n",
              "baseline_create_date      datetime64[ns]\n",
              "converted_usd                    float64\n",
              "business_code_enc                  int64\n",
              "name_customer_enc                  int64\n",
              "cust_payment_terms_enc             int64\n",
              "dtype: object"
            ]
          },
          "metadata": {},
          "execution_count": 72
        }
      ],
      "source": [
        "X_train.dtypes"
      ]
    },
    {
      "cell_type": "code",
      "execution_count": null,
      "id": "b33242d8",
      "metadata": {
        "id": "b33242d8",
        "outputId": "8580a2ac-cf68-480f-baa2-8ffb5f1a5347",
        "colab": {
          "base_uri": "https://localhost:8080/"
        }
      },
      "outputs": [
        {
          "output_type": "execute_result",
          "data": {
            "text/plain": [
              "cust_number                        int64\n",
              "buisness_year                    float64\n",
              "doc_id                           float64\n",
              "posting_date              datetime64[ns]\n",
              "due_in_date               datetime64[ns]\n",
              "baseline_create_date      datetime64[ns]\n",
              "converted_usd                    float64\n",
              "business_code_enc                  int64\n",
              "name_customer_enc                  int64\n",
              "cust_payment_terms_enc             int64\n",
              "dtype: object"
            ]
          },
          "metadata": {},
          "execution_count": 73
        }
      ],
      "source": [
        "X_test.dtypes"
      ]
    },
    {
      "cell_type": "code",
      "execution_count": null,
      "id": "6bd4da71",
      "metadata": {
        "id": "6bd4da71",
        "outputId": "ffbda85d-fa00-480d-d411-94fa16f7ccf7",
        "colab": {
          "base_uri": "https://localhost:8080/"
        }
      },
      "outputs": [
        {
          "output_type": "execute_result",
          "data": {
            "text/plain": [
              "cust_number                        int64\n",
              "buisness_year                    float64\n",
              "doc_id                           float64\n",
              "posting_date              datetime64[ns]\n",
              "due_in_date               datetime64[ns]\n",
              "baseline_create_date      datetime64[ns]\n",
              "converted_usd                    float64\n",
              "business_code_enc                  int64\n",
              "name_customer_enc                  int64\n",
              "cust_payment_terms_enc             int64\n",
              "dtype: object"
            ]
          },
          "metadata": {},
          "execution_count": 74
        }
      ],
      "source": [
        "X_val.dtypes"
      ]
    },
    {
      "cell_type": "markdown",
      "source": [
        "### From the above output you can notice their are multiple date columns with datetime format\n",
        "\n",
        "### In order to pass it into our model, we need to convert it into float format"
      ],
      "metadata": {
        "id": "LVfvuPiWPeMB"
      },
      "id": "LVfvuPiWPeMB"
    },
    {
      "cell_type": "markdown",
      "id": "9d344db9",
      "metadata": {
        "id": "9d344db9"
      },
      "source": [
        "### You need to extract day, month and year from the \"posting_date\" column \n",
        "\n",
        "1.   Extract days from \"posting_date\" column and store it into a new column \"day_of_postingdate\" for train, test and validation dataset \n",
        "2.   Extract months from \"posting_date\" column and store it into a new column \"month_of_postingdate\" for train, test and validation dataset\n",
        "3.   Extract year from \"posting_date\" column and store it into a new column \"year_of_postingdate\" for train, test and validation dataset \n",
        "\n",
        "\n",
        "\n",
        "- Note - You are supposed yo use \n",
        "\n",
        "*   dt.day\n",
        "*   dt.month\n",
        "*   dt.year\n",
        "\n",
        "\n",
        "\n",
        "\n"
      ]
    },
    {
      "cell_type": "code",
      "execution_count": null,
      "id": "6e3cdfd6",
      "metadata": {
        "id": "6e3cdfd6"
      },
      "outputs": [],
      "source": [
        "X_train['day_of_postingdate'] = X_train['posting_date'].dt.day\n",
        "X_train['month_of_postingdate'] = X_train['posting_date'].dt.month\n",
        "X_train['year_of_postingdate'] = X_train['posting_date'].dt.year\n",
        "\n",
        "X_val['day_of_postingdate'] = X_val['posting_date'].dt.day\n",
        "X_val['month_of_postingdate'] = X_val['posting_date'].dt.month\n",
        "X_val['year_of_postingdate'] = X_val['posting_date'].dt.year\n",
        "\n",
        "\n",
        "X_test['day_of_postingdate'] = X_test['posting_date'].dt.day\n",
        "X_test['month_of_postingdate'] = X_test['posting_date'].dt.month\n",
        "X_test['year_of_postingdate'] = X_test['posting_date'].dt.year\n",
        "\n"
      ]
    },
    {
      "cell_type": "markdown",
      "source": [
        "### pass the \"posting_date\" column into the Custom function for train, test and validation dataset"
      ],
      "metadata": {
        "id": "GyI-F853Rxa7"
      },
      "id": "GyI-F853Rxa7"
    },
    {
      "cell_type": "code",
      "source": [
        "X_train ,X_val, X_test = custom(['posting_date'])"
      ],
      "metadata": {
        "id": "FQHtQkrnRx_V"
      },
      "id": "FQHtQkrnRx_V",
      "execution_count": null,
      "outputs": []
    },
    {
      "cell_type": "markdown",
      "source": [
        "### You need to extract day, month and year from the \"baseline_create_date\" column \n",
        "\n",
        "1.   Extract days from \"baseline_create_date\" column and store it into a new column \"day_of_createdate\" for train, test and validation dataset \n",
        "2.   Extract months from \"baseline_create_date\" column and store it into a new column \"month_of_createdate\" for train, test and validation dataset\n",
        "3.   Extract year from \"baseline_create_date\" column and store it into a new column \"year_of_createdate\" for train, test and validation dataset \n",
        "\n",
        "\n",
        "\n",
        "- Note - You are supposed yo use \n",
        "\n",
        "*   dt.day\n",
        "*   dt.month\n",
        "*   dt.year\n",
        "\n",
        "\n",
        "- Note - Do as it is been shown in the previous two code boxes"
      ],
      "metadata": {
        "id": "GMnCaEcKReSw"
      },
      "id": "GMnCaEcKReSw"
    },
    {
      "cell_type": "markdown",
      "id": "ee4d83d0",
      "metadata": {
        "id": "ee4d83d0"
      },
      "source": [
        "### Extracting Day, Month, Year for 'baseline_create_date' column"
      ]
    },
    {
      "cell_type": "code",
      "execution_count": null,
      "id": "32b240e1",
      "metadata": {
        "id": "32b240e1"
      },
      "outputs": [],
      "source": [
        "X_train['day_of_createdate'] = X_train['baseline_create_date'].dt.day\n",
        "X_train['month_of_createdate'] = X_train['baseline_create_date'].dt.month\n",
        "X_train['year_of_createdate'] = X_train['baseline_create_date'].dt.year\n",
        "\n",
        "X_test['day_of_createdate'] = X_test['baseline_create_date'].dt.day\n",
        "X_test['month_of_createdate'] = X_test['baseline_create_date'].dt.month\n",
        "X_test['year_of_createdate'] = X_test['baseline_create_date'].dt.year\n",
        "\n",
        "X_val['day_of_createdate'] = X_val['baseline_create_date'].dt.day\n",
        "X_val['month_of_createdate'] = X_val['baseline_create_date'].dt.month\n",
        "X_val['year_of_createdate'] = X_val['baseline_create_date'].dt.year"
      ]
    },
    {
      "cell_type": "markdown",
      "source": [
        "### pass the \"baseline_create_date\" column into the Custom function for train, test and validation dataset"
      ],
      "metadata": {
        "id": "cFgwkS5rSDDs"
      },
      "id": "cFgwkS5rSDDs"
    },
    {
      "cell_type": "code",
      "source": [
        "X_train, X_val, X_test = custom(['baseline_create_date'])"
      ],
      "metadata": {
        "id": "RGYa2BEQSDg3"
      },
      "id": "RGYa2BEQSDg3",
      "execution_count": null,
      "outputs": []
    },
    {
      "cell_type": "markdown",
      "id": "77c7a0df",
      "metadata": {
        "id": "77c7a0df"
      },
      "source": [
        "### You need to extract day, month and year from the \"due_in_date\" column \n",
        "\n",
        "1.   Extract days from \"due_in_date\" column and store it into a new column \"day_of_due\" for train, test and validation dataset \n",
        "2.   Extract months from \"due_in_date\" column and store it into a new column \"month_of_due\" for train, test and validation dataset\n",
        "3.   Extract year from \"due_in_date\" column and store it into a new column \"year_of_due\" for train, test and validation dataset \n",
        "\n",
        "\n",
        "\n",
        "- Note - You are supposed yo use \n",
        "\n",
        "*   dt.day\n",
        "*   dt.month\n",
        "*   dt.year\n",
        "\n",
        "- Note - Do as it is been shown in the previous code"
      ]
    },
    {
      "cell_type": "code",
      "execution_count": null,
      "id": "5c745547",
      "metadata": {
        "id": "5c745547"
      },
      "outputs": [],
      "source": [
        "X_val['day_of_due'] = X_val['due_in_date'].dt.day\n",
        "X_val['month_of_due'] = X_val['due_in_date'].dt.month\n",
        "X_val['year_of_due'] = X_val['due_in_date'].dt.year\n",
        "\n",
        "X_train['day_of_due'] = X_train['due_in_date'].dt.day\n",
        "X_train['month_of_due'] = X_train['due_in_date'].dt.month\n",
        "X_train['year_of_due'] = X_train['due_in_date'].dt.year\n",
        "\n",
        "X_test['day_of_due'] = X_test['due_in_date'].dt.day\n",
        "X_test['month_of_due'] = X_test['due_in_date'].dt.month\n",
        "X_test['year_of_due'] = X_test['due_in_date'].dt.year"
      ]
    },
    {
      "cell_type": "markdown",
      "source": [
        "pass the \"due_in_date\" column into the Custom function for train, test and validation dataset"
      ],
      "metadata": {
        "id": "FYLLzulGSvRd"
      },
      "id": "FYLLzulGSvRd"
    },
    {
      "cell_type": "code",
      "source": [
        "X_train, X_val, X_test = custom(['due_in_date'])"
      ],
      "metadata": {
        "id": "1-s6QuY9Svrh"
      },
      "id": "1-s6QuY9Svrh",
      "execution_count": null,
      "outputs": []
    },
    {
      "cell_type": "markdown",
      "id": "1ae5d052",
      "metadata": {
        "id": "1ae5d052"
      },
      "source": [
        "### Check for the datatypes for train, test and validation set again\n",
        "\n",
        "- Note - all the data type should be in either int64 or float64 format \n"
      ]
    },
    {
      "cell_type": "code",
      "execution_count": null,
      "id": "aee9d828",
      "metadata": {
        "id": "aee9d828",
        "outputId": "320079fa-1d2d-4b4b-e1b9-090c1f68a3c6",
        "colab": {
          "base_uri": "https://localhost:8080/"
        }
      },
      "outputs": [
        {
          "output_type": "execute_result",
          "data": {
            "text/plain": [
              "cust_number                 int64\n",
              "buisness_year             float64\n",
              "doc_id                    float64\n",
              "converted_usd             float64\n",
              "business_code_enc           int64\n",
              "name_customer_enc           int64\n",
              "cust_payment_terms_enc      int64\n",
              "day_of_postingdate          int64\n",
              "month_of_postingdate        int64\n",
              "year_of_postingdate         int64\n",
              "day_of_createdate           int64\n",
              "month_of_createdate         int64\n",
              "year_of_createdate          int64\n",
              "day_of_due                  int64\n",
              "month_of_due                int64\n",
              "year_of_due                 int64\n",
              "dtype: object"
            ]
          },
          "metadata": {},
          "execution_count": 81
        }
      ],
      "source": [
        "X_train.dtypes"
      ]
    },
    {
      "cell_type": "code",
      "source": [
        "X_test.dtypes"
      ],
      "metadata": {
        "id": "nfEURIax7L4p",
        "outputId": "06db1577-9d7c-4b7e-b92b-587cef5b3b77",
        "colab": {
          "base_uri": "https://localhost:8080/"
        }
      },
      "id": "nfEURIax7L4p",
      "execution_count": null,
      "outputs": [
        {
          "output_type": "execute_result",
          "data": {
            "text/plain": [
              "cust_number                 int64\n",
              "buisness_year             float64\n",
              "doc_id                    float64\n",
              "converted_usd             float64\n",
              "business_code_enc           int64\n",
              "name_customer_enc           int64\n",
              "cust_payment_terms_enc      int64\n",
              "day_of_postingdate          int64\n",
              "month_of_postingdate        int64\n",
              "year_of_postingdate         int64\n",
              "day_of_createdate           int64\n",
              "month_of_createdate         int64\n",
              "year_of_createdate          int64\n",
              "day_of_due                  int64\n",
              "month_of_due                int64\n",
              "year_of_due                 int64\n",
              "dtype: object"
            ]
          },
          "metadata": {},
          "execution_count": 82
        }
      ]
    },
    {
      "cell_type": "code",
      "source": [
        "X_val.dtypes"
      ],
      "metadata": {
        "id": "u_YSG56n7NLy",
        "outputId": "ca584933-4332-4635-d4c5-c44eb21240da",
        "colab": {
          "base_uri": "https://localhost:8080/"
        }
      },
      "id": "u_YSG56n7NLy",
      "execution_count": null,
      "outputs": [
        {
          "output_type": "execute_result",
          "data": {
            "text/plain": [
              "cust_number                 int64\n",
              "buisness_year             float64\n",
              "doc_id                    float64\n",
              "converted_usd             float64\n",
              "business_code_enc           int64\n",
              "name_customer_enc           int64\n",
              "cust_payment_terms_enc      int64\n",
              "day_of_postingdate          int64\n",
              "month_of_postingdate        int64\n",
              "year_of_postingdate         int64\n",
              "day_of_createdate           int64\n",
              "month_of_createdate         int64\n",
              "year_of_createdate          int64\n",
              "day_of_due                  int64\n",
              "month_of_due                int64\n",
              "year_of_due                 int64\n",
              "dtype: object"
            ]
          },
          "metadata": {},
          "execution_count": 83
        }
      ]
    },
    {
      "cell_type": "markdown",
      "id": "65810f55",
      "metadata": {
        "id": "65810f55"
      },
      "source": [
        "# Feature Selection"
      ]
    },
    {
      "cell_type": "markdown",
      "id": "4bb1ad9f",
      "metadata": {
        "id": "4bb1ad9f"
      },
      "source": [
        "### Filter Method\n",
        "\n",
        "- Calling the VarianceThreshold Function \n",
        "- Note - Keep the code as it is, no need to change "
      ]
    },
    {
      "cell_type": "code",
      "execution_count": null,
      "id": "e882509f",
      "metadata": {
        "id": "e882509f",
        "outputId": "ea76cf47-e69b-4622-ea28-ce28e31e8de0",
        "colab": {
          "base_uri": "https://localhost:8080/"
        }
      },
      "outputs": [
        {
          "output_type": "execute_result",
          "data": {
            "text/plain": [
              "16"
            ]
          },
          "metadata": {},
          "execution_count": 84
        }
      ],
      "source": [
        "from sklearn.feature_selection import VarianceThreshold\n",
        "constant_filter = VarianceThreshold(threshold=0)\n",
        "constant_filter.fit(X_train)\n",
        "len(X_train.columns[constant_filter.get_support()])"
      ]
    },
    {
      "cell_type": "markdown",
      "source": [
        "- Note - Keep the code as it is, no need to change \n"
      ],
      "metadata": {
        "id": "V9531H3jR-W2"
      },
      "id": "V9531H3jR-W2"
    },
    {
      "cell_type": "code",
      "execution_count": null,
      "id": "c77c12e1",
      "metadata": {
        "id": "c77c12e1",
        "outputId": "e0d8e1b2-991a-48c1-a950-40ed793bce8b",
        "colab": {
          "base_uri": "https://localhost:8080/"
        }
      },
      "outputs": [
        {
          "output_type": "stream",
          "name": "stdout",
          "text": [
            "0\n"
          ]
        }
      ],
      "source": [
        "constant_columns = [column for column in X_train.columns\n",
        "                    if column not in X_train.columns[constant_filter.get_support()]]\n",
        "print(len(constant_columns))"
      ]
    },
    {
      "cell_type": "markdown",
      "id": "6d9b8610",
      "metadata": {
        "id": "6d9b8610"
      },
      "source": [
        "- transpose the feature matrice\n",
        "- print the number of duplicated features\n",
        "- select the duplicated features columns names\n",
        "\n",
        "- Note - Keep the code as it is, no need to change \n"
      ]
    },
    {
      "cell_type": "code",
      "execution_count": null,
      "id": "0fb7db95",
      "metadata": {
        "id": "0fb7db95",
        "outputId": "6922c738-3795-4474-baf6-98503edf24f8",
        "colab": {
          "base_uri": "https://localhost:8080/"
        }
      },
      "outputs": [
        {
          "output_type": "stream",
          "name": "stdout",
          "text": [
            "0\n"
          ]
        }
      ],
      "source": [
        "x_train_T = X_train.T\n",
        "print(x_train_T.duplicated().sum())\n",
        "duplicated_columns = x_train_T[x_train_T.duplicated()].index.values"
      ]
    },
    {
      "cell_type": "markdown",
      "id": "510fa831",
      "metadata": {
        "id": "510fa831"
      },
      "source": [
        "### Filtering depending upon correlation matrix value\n",
        "- We have created a function called handling correlation which is going to return fields based on the correlation matrix value with a threshold of 0.8\n",
        "\n",
        "- Note - Keep the code as it is, no need to change "
      ]
    },
    {
      "cell_type": "code",
      "execution_count": null,
      "id": "67731abc",
      "metadata": {
        "id": "67731abc"
      },
      "outputs": [],
      "source": [
        "def handling_correlation(X_train,threshold=0.8):\n",
        "    corr_features = set()\n",
        "    corr_matrix = X_train.corr()\n",
        "    for i in range(len(corr_matrix .columns)):\n",
        "        for j in range(i):\n",
        "            if abs(corr_matrix.iloc[i, j]) >threshold:\n",
        "                colname = corr_matrix.columns[i]\n",
        "                corr_features.add(colname)\n",
        "    return list(corr_features)"
      ]
    },
    {
      "cell_type": "markdown",
      "source": [
        "- Note : Here we are trying to find out the relevant fields, from X_train\n",
        "- Please fill in the blanks to call handling_correlation() function with a threshold value of 0.85"
      ],
      "metadata": {
        "id": "JaE_6qVgSXl3"
      },
      "id": "JaE_6qVgSXl3"
    },
    {
      "cell_type": "code",
      "execution_count": null,
      "id": "dd91d1a2",
      "metadata": {
        "id": "dd91d1a2",
        "outputId": "627b9a07-bd6b-47c8-bf3f-ebf6768920df",
        "colab": {
          "base_uri": "https://localhost:8080/"
        }
      },
      "outputs": [
        {
          "output_type": "execute_result",
          "data": {
            "text/plain": [
              "['year_of_postingdate',\n",
              " 'year_of_due',\n",
              " 'month_of_due',\n",
              " 'year_of_createdate',\n",
              " 'day_of_createdate',\n",
              " 'month_of_createdate']"
            ]
          },
          "metadata": {},
          "execution_count": 88
        }
      ],
      "source": [
        "train = X_train.copy()\n",
        "handling_correlation(train.copy(), threshold=0.85)"
      ]
    },
    {
      "cell_type": "markdown",
      "id": "154da511",
      "metadata": {
        "id": "154da511"
      },
      "source": [
        "### Heatmap for X_train\n",
        "\n",
        "- Note - Keep the code as it is, no need to change"
      ]
    },
    {
      "cell_type": "code",
      "execution_count": null,
      "id": "2e8f2fe4",
      "metadata": {
        "id": "2e8f2fe4",
        "outputId": "aa8206d9-789c-475a-b801-d52ec9abccad",
        "colab": {
          "base_uri": "https://localhost:8080/",
          "height": 859
        }
      },
      "outputs": [
        {
          "output_type": "execute_result",
          "data": {
            "text/plain": [
              "<matplotlib.axes._subplots.AxesSubplot at 0x7f38dd1af310>"
            ]
          },
          "metadata": {},
          "execution_count": 89
        },
        {
          "output_type": "display_data",
          "data": {
            "text/plain": [
              "<Figure size 1008x864 with 2 Axes>"
            ],
            "image/png": "[encoded data removed]"
          },
          "metadata": {
            "needs_background": "light"
          }
        }
      ],
      "source": [
        "colormap = plt.cm.RdBu\n",
        "plt.figure(figsize=(14,12))\n",
        "plt.title('Pearson Correlation of Features', y=1.05, size=20)\n",
        "sns.heatmap(X_train.merge(y_train , on = X_train.index ).corr(),linewidths=0.1,vmax=1.0, \n",
        "            square=True, cmap='gist_rainbow_r', linecolor='white', annot=True)"
      ]
    },
    {
      "cell_type": "markdown",
      "id": "e3b0d745",
      "metadata": {
        "id": "e3b0d745"
      },
      "source": [
        "#### Calling variance threshold for threshold value = 0.8\n",
        "\n",
        "- Note -  Fill in the blanks to call the appropriate method"
      ]
    },
    {
      "cell_type": "code",
      "execution_count": null,
      "id": "a9b2080f",
      "metadata": {
        "id": "a9b2080f",
        "outputId": "233dff19-267a-4c96-b732-da4776289284",
        "colab": {
          "base_uri": "https://localhost:8080/"
        }
      },
      "outputs": [
        {
          "output_type": "execute_result",
          "data": {
            "text/plain": [
              "VarianceThreshold(threshold=0.8)"
            ]
          },
          "metadata": {},
          "execution_count": 90
        }
      ],
      "source": [
        "from sklearn.feature_selection import VarianceThreshold\n",
        "sel = VarianceThreshold(0.8)\n",
        "sel.fit(X_train)"
      ]
    },
    {
      "cell_type": "code",
      "execution_count": null,
      "id": "6cb8c3dc",
      "metadata": {
        "id": "6cb8c3dc",
        "outputId": "02760b99-8db0-4a49-cd28-294a5c036de8",
        "colab": {
          "base_uri": "https://localhost:8080/"
        }
      },
      "outputs": [
        {
          "output_type": "execute_result",
          "data": {
            "text/plain": [
              "array([1.76914736e+15, 1.16069049e-01, 8.42765462e+16, 1.35672897e+09,\n",
              "       2.88441811e-01, 1.05772011e+06, 1.27575278e+02, 7.56659393e+01,\n",
              "       1.23592987e+01, 1.16958905e-01, 7.72181243e+01, 1.23640509e+01,\n",
              "       1.17096737e-01, 7.58710353e+01, 1.21707172e+01, 1.19305793e-01])"
            ]
          },
          "metadata": {},
          "execution_count": 91
        }
      ],
      "source": [
        "sel.variances_"
      ]
    },
    {
      "cell_type": "markdown",
      "id": "62633a84",
      "metadata": {
        "id": "62633a84"
      },
      "source": [
        "### Features columns are \n",
        "- 'year_of_createdate' \n",
        "- 'year_of_due'\n",
        "- 'day_of_createdate'\n",
        "- 'year_of_postingdate'\n",
        "- 'month_of_due'\n",
        "- 'month_of_createdate'"
      ]
    },
    {
      "cell_type": "markdown",
      "id": "651f1ad0",
      "metadata": {
        "id": "651f1ad0"
      },
      "source": [
        "# Modelling \n",
        "\n",
        "#### Now you need to compare with different machine learning models, and needs to find out the best predicted model\n",
        "\n",
        "- Linear Regression\n",
        "- Decision Tree Regression\n",
        "- Random Forest Regression\n",
        "- Support Vector Regression\n",
        "- Extreme Gradient Boost Regression "
      ]
    },
    {
      "cell_type": "markdown",
      "source": [
        "### You need to make different blank list for different evaluation matrix \n",
        "\n",
        "- MSE\n",
        "- R2\n",
        "- Algorithm"
      ],
      "metadata": {
        "id": "PicEhSuUUOkt"
      },
      "id": "PicEhSuUUOkt"
    },
    {
      "cell_type": "code",
      "execution_count": null,
      "id": "701e12b0",
      "metadata": {
        "id": "701e12b0"
      },
      "outputs": [],
      "source": [
        "MSE_Score = []\n",
        "R2_Score = []\n",
        "Algorithm = []\n",
        "from sklearn.metrics import mean_squared_error\n",
        "from sklearn.metrics import r2_score"
      ]
    },
    {
      "cell_type": "markdown",
      "id": "29310119",
      "metadata": {
        "id": "29310119"
      },
      "source": [
        "### You need to start with the baseline model Linear Regression\n",
        "\n",
        "- Step 1 : Call the Linear Regression from sklearn library\n",
        "- Step 2 : make an object of Linear Regression \n",
        "- Step 3 : fit the X_train and y_train dataframe into the object \n",
        "- Step 4 : Predict the output by passing the X_test Dataset into predict function\n",
        "\n",
        "\n",
        "\n",
        "\n",
        "- Note - Append the Algorithm name into the algorithm list for tracking purpose"
      ]
    },
    {
      "cell_type": "code",
      "execution_count": null,
      "id": "6bdea395",
      "metadata": {
        "id": "6bdea395"
      },
      "outputs": [],
      "source": [
        "from sklearn.linear_model import LinearRegression\n",
        "Algorithm.append('LinearRegression')\n",
        "regressor = LinearRegression()\n",
        "regressor.fit(X_train, y_train)\n",
        "predicted= regressor.predict(X_test)"
      ]
    },
    {
      "cell_type": "markdown",
      "source": [
        "### Check for the \n",
        "\n",
        "- Mean Square Error\n",
        "- R Square Error \n",
        "\n",
        "for y_test and predicted dataset and store those data inside respective list for comparison "
      ],
      "metadata": {
        "id": "G02cpnBhXJ14"
      },
      "id": "G02cpnBhXJ14"
    },
    {
      "cell_type": "code",
      "execution_count": null,
      "id": "0f69ca19",
      "metadata": {
        "id": "0f69ca19"
      },
      "outputs": [],
      "source": [
        "MSE_Score.append(mean_squared_error(y_test, predicted))\n",
        "R2_Score.append(r2_score(y_test, predicted))"
      ]
    },
    {
      "cell_type": "markdown",
      "source": [
        "### Check the same for the Validation set also "
      ],
      "metadata": {
        "id": "CsmScbHjYMv1"
      },
      "id": "CsmScbHjYMv1"
    },
    {
      "cell_type": "code",
      "execution_count": null,
      "id": "fe653295",
      "metadata": {
        "colab": {
          "base_uri": "https://localhost:8080/"
        },
        "id": "fe653295",
        "outputId": "4d65c34d-d482-4b6f-e107-6c41573b8b94"
      },
      "outputs": [
        {
          "output_type": "execute_result",
          "data": {
            "text/plain": [
              "554679.9986502103"
            ]
          },
          "metadata": {},
          "execution_count": 95
        }
      ],
      "source": [
        "predict_test= regressor.predict(X_val)\n",
        "mean_squared_error(y_val, predict_test, squared=False)"
      ]
    },
    {
      "cell_type": "markdown",
      "source": [
        "### Display The Comparison Lists"
      ],
      "metadata": {
        "id": "LokxV2LGYUVh"
      },
      "id": "LokxV2LGYUVh"
    },
    {
      "cell_type": "code",
      "execution_count": null,
      "id": "9c405bd3",
      "metadata": {
        "colab": {
          "base_uri": "https://localhost:8080/"
        },
        "id": "9c405bd3",
        "outputId": "ff5c78a0-3dfe-41d7-c6f1-b506d038ba39"
      },
      "outputs": [
        {
          "output_type": "stream",
          "name": "stdout",
          "text": [
            "['LinearRegression'],[319092246121.9388],[0.36237372880056506],"
          ]
        }
      ],
      "source": [
        "for i in Algorithm, MSE_Score, R2_Score:\n",
        "    print(i,end=',')"
      ]
    },
    {
      "cell_type": "markdown",
      "id": "b0e65c86",
      "metadata": {
        "id": "b0e65c86"
      },
      "source": [
        "### You need to start with the baseline model Support Vector Regression\n",
        "\n",
        "- Step 1 : Call the Support Vector Regressor from sklearn library\n",
        "- Step 2 : make an object of SVR\n",
        "- Step 3 : fit the X_train and y_train dataframe into the object \n",
        "- Step 4 : Predict the output by passing the X_test Dataset into predict function\n",
        "\n",
        "\n",
        "\n",
        "\n",
        "- Note - Append the Algorithm name into the algorithm list for tracking purpose"
      ]
    },
    {
      "cell_type": "code",
      "execution_count": null,
      "id": "ccb5de08",
      "metadata": {
        "id": "ccb5de08"
      },
      "outputs": [],
      "source": [
        "from sklearn.svm import SVR\n",
        "Algorithm.append('SVR')\n",
        "regressor = SVR()\n",
        "regressor.fit(X_train, y_train)\n",
        "predicted = regressor.predict(X_test)"
      ]
    },
    {
      "cell_type": "markdown",
      "source": [
        "### Check for the \n",
        "\n",
        "- Mean Square Error\n",
        "- R Square Error \n",
        "\n",
        "for \"y_test\" and \"predicted\" dataset and store those data inside respective list for comparison "
      ],
      "metadata": {
        "id": "zz9kcrViYt7e"
      },
      "id": "zz9kcrViYt7e"
    },
    {
      "cell_type": "code",
      "execution_count": null,
      "id": "5bb9db76",
      "metadata": {
        "id": "5bb9db76"
      },
      "outputs": [],
      "source": [
        "MSE_Score.append(mean_squared_error(y_test, predicted))\n",
        "R2_Score.append(r2_score(y_test, predicted))"
      ]
    },
    {
      "cell_type": "markdown",
      "source": [
        "### Check the same for the Validation set also "
      ],
      "metadata": {
        "id": "0YAxd8N9Y0hJ"
      },
      "id": "0YAxd8N9Y0hJ"
    },
    {
      "cell_type": "code",
      "execution_count": null,
      "id": "d6ee71b1",
      "metadata": {
        "id": "d6ee71b1",
        "outputId": "26ac1cf1-f70e-4098-d2e6-abd96db0216e",
        "colab": {
          "base_uri": "https://localhost:8080/"
        }
      },
      "outputs": [
        {
          "output_type": "execute_result",
          "data": {
            "text/plain": [
              "670758.772992891"
            ]
          },
          "metadata": {},
          "execution_count": 99
        }
      ],
      "source": [
        "predict_test = regressor.predict(X_val)\n",
        "mean_squared_error(y_val, predict_test, squared=False)"
      ]
    },
    {
      "cell_type": "markdown",
      "source": [
        "### Display The Comparison Lists"
      ],
      "metadata": {
        "id": "eGcqS5EcY4BI"
      },
      "id": "eGcqS5EcY4BI"
    },
    {
      "cell_type": "code",
      "execution_count": null,
      "id": "aa72c1ec",
      "metadata": {
        "id": "aa72c1ec",
        "outputId": "2c456ed1-f4fa-40dc-a378-841d08fe375b",
        "colab": {
          "base_uri": "https://localhost:8080/"
        }
      },
      "outputs": [
        {
          "output_type": "stream",
          "name": "stdout",
          "text": [
            "['LinearRegression', 'SVR'],[319092246121.9388, 505872592526.23035],[0.36237372880056506, -0.010860209844235191],"
          ]
        }
      ],
      "source": [
        "for i in Algorithm, MSE_Score, R2_Score:\n",
        "     print(i, end=',')"
      ]
    },
    {
      "cell_type": "markdown",
      "id": "dad18bb3",
      "metadata": {
        "id": "dad18bb3"
      },
      "source": [
        "### Your next model would be Decision Tree Regression\n",
        "\n",
        "- Step 1 : Call the Decision Tree Regressor from sklearn library\n",
        "- Step 2 : make an object of Decision Tree\n",
        "- Step 3 : fit the X_train and y_train dataframe into the object \n",
        "- Step 4 : Predict the output by passing the X_test Dataset into predict function\n",
        "\n",
        "\n",
        "\n",
        "\n",
        "- Note - Append the Algorithm name into the algorithm list for tracking purpose"
      ]
    },
    {
      "cell_type": "code",
      "execution_count": null,
      "id": "1b6a51eb",
      "metadata": {
        "id": "1b6a51eb"
      },
      "outputs": [],
      "source": [
        "from sklearn.tree import DecisionTreeRegressor\n",
        "Algorithm.append('DecisionTreRegressor')\n",
        "regressor = DecisionTreeRegressor()\n",
        "regressor.fit(X_train, y_train)\n",
        "predicted = regressor.predict(X_test)"
      ]
    },
    {
      "cell_type": "markdown",
      "source": [
        "### Check for the \n",
        "\n",
        "- Mean Square Error\n",
        "- R Square Error \n",
        "\n",
        "for y_test and predicted dataset and store those data inside respective list for comparison "
      ],
      "metadata": {
        "id": "AOzfgfeOZo3F"
      },
      "id": "AOzfgfeOZo3F"
    },
    {
      "cell_type": "code",
      "execution_count": null,
      "id": "776e6983",
      "metadata": {
        "id": "776e6983"
      },
      "outputs": [],
      "source": [
        "MSE_Score.append(mean_squared_error(y_test, predicted))\n",
        "R2_Score.append(r2_score(y_test, predicted))"
      ]
    },
    {
      "cell_type": "markdown",
      "source": [
        "### Check the same for the Validation set also "
      ],
      "metadata": {
        "id": "eI6d49DQZrhW"
      },
      "id": "eI6d49DQZrhW"
    },
    {
      "cell_type": "code",
      "execution_count": null,
      "id": "155fb55c",
      "metadata": {
        "id": "155fb55c",
        "outputId": "c5ea40cc-e870-480d-f6e8-9883c2000bb2",
        "colab": {
          "base_uri": "https://localhost:8080/"
        }
      },
      "outputs": [
        {
          "output_type": "execute_result",
          "data": {
            "text/plain": [
              "477123.1326819453"
            ]
          },
          "metadata": {},
          "execution_count": 103
        }
      ],
      "source": [
        "predict_test = regressor.predict(X_val)\n",
        "mean_squared_error(y_val, predict_test, squared=False)"
      ]
    },
    {
      "cell_type": "markdown",
      "source": [
        "### Display The Comparison Lists"
      ],
      "metadata": {
        "id": "sbGXvBLQZw5E"
      },
      "id": "sbGXvBLQZw5E"
    },
    {
      "cell_type": "code",
      "execution_count": null,
      "id": "1d74d515",
      "metadata": {
        "id": "1d74d515",
        "outputId": "8361771f-e1d3-41be-aaca-1340532459fe",
        "colab": {
          "base_uri": "https://localhost:8080/"
        }
      },
      "outputs": [
        {
          "output_type": "stream",
          "name": "stdout",
          "text": [
            "['LinearRegression', 'SVR', 'DecisionTreRegressor'],[319092246121.9388, 505872592526.23035, 164825554420.71487],[0.36237372880056506, -0.010860209844235191, 0.6706372375357004],"
          ]
        }
      ],
      "source": [
        "for i in Algorithm, MSE_Score, R2_Score:\n",
        "    print(i, end=',')"
      ]
    },
    {
      "cell_type": "markdown",
      "id": "4ae9979b",
      "metadata": {
        "id": "4ae9979b"
      },
      "source": [
        "### Your next model would be Random Forest Regression\n",
        "\n",
        "- Step 1 : Call the Random Forest Regressor from sklearn library\n",
        "- Step 2 : make an object of Random Forest\n",
        "- Step 3 : fit the X_train and y_train dataframe into the object \n",
        "- Step 4 : Predict the output by passing the X_test Dataset into predict function\n",
        "\n",
        "\n",
        "\n",
        "\n",
        "- Note - Append the Algorithm name into the algorithm list for tracking purpose"
      ]
    },
    {
      "cell_type": "code",
      "execution_count": null,
      "id": "a69e476a",
      "metadata": {
        "id": "a69e476a"
      },
      "outputs": [],
      "source": [
        "from sklearn.ensemble import RandomForestRegressor\n",
        "Algorithm.append('RandomForestRegressor')\n",
        "regressor = RandomForestRegressor()\n",
        "regressor.fit(X_train, y_train)\n",
        "predicted = regressor.predict(X_test)"
      ]
    },
    {
      "cell_type": "markdown",
      "source": [
        "### Check for the \n",
        "\n",
        "- Mean Square Error\n",
        "- R Square Error \n",
        "\n",
        "for y_test and predicted dataset and store those data inside respective list for comparison "
      ],
      "metadata": {
        "id": "XNcEJF-6anof"
      },
      "id": "XNcEJF-6anof"
    },
    {
      "cell_type": "code",
      "execution_count": null,
      "id": "826f63f4",
      "metadata": {
        "id": "826f63f4"
      },
      "outputs": [],
      "source": [
        "MSE_Score.append(mean_squared_error(y_test, predicted))\n",
        "R2_Score.append(r2_score(y_test, predicted))"
      ]
    },
    {
      "cell_type": "markdown",
      "source": [
        "### Check the same for the Validation set also "
      ],
      "metadata": {
        "id": "yMbyr9V4ati1"
      },
      "id": "yMbyr9V4ati1"
    },
    {
      "cell_type": "code",
      "execution_count": null,
      "id": "55b9fb54",
      "metadata": {
        "id": "55b9fb54",
        "outputId": "e59e4932-c04d-482b-c1ef-d5d55fa4c822",
        "colab": {
          "base_uri": "https://localhost:8080/"
        }
      },
      "outputs": [
        {
          "output_type": "execute_result",
          "data": {
            "text/plain": [
              "372861.3031115018"
            ]
          },
          "metadata": {},
          "execution_count": 107
        }
      ],
      "source": [
        "predict_test = regressor.predict(X_val)\n",
        "mean_squared_error(y_val, predict_test, squared=False)"
      ]
    },
    {
      "cell_type": "markdown",
      "source": [
        "### Display The Comparison Lists\n"
      ],
      "metadata": {
        "id": "tiBawcCsaw_Z"
      },
      "id": "tiBawcCsaw_Z"
    },
    {
      "cell_type": "code",
      "execution_count": null,
      "id": "8277c13e",
      "metadata": {
        "id": "8277c13e",
        "outputId": "11eb130a-0bb3-4619-ba76-8739ec58012f",
        "colab": {
          "base_uri": "https://localhost:8080/"
        }
      },
      "outputs": [
        {
          "output_type": "stream",
          "name": "stdout",
          "text": [
            "['LinearRegression', 'SVR', 'DecisionTreRegressor', 'RandomForestRegressor'],[319092246121.9388, 505872592526.23035, 164825554420.71487, 103978628176.96362],[0.36237372880056506, -0.010860209844235191, 0.6706372375357004, 0.7922246442065723],"
          ]
        }
      ],
      "source": [
        "for i in Algorithm, MSE_Score, R2_Score:\n",
        "    print(i, end=',')"
      ]
    },
    {
      "cell_type": "markdown",
      "id": "e6b21881",
      "metadata": {
        "id": "e6b21881"
      },
      "source": [
        "### The last but not the least model would be XGBoost or Extreme Gradient Boost Regression\n",
        "\n",
        "- Step 1 : Call the XGBoost Regressor from xgb library\n",
        "- Step 2 : make an object of Xgboost\n",
        "- Step 3 : fit the X_train and y_train dataframe into the object \n",
        "- Step 4 : Predict the output by passing the X_test Dataset into predict function\n",
        "\n",
        "\n",
        "\n",
        "\n",
        "- Note - Append the Algorithm name into the algorithm list for tracking purpose### Extreme Gradient Boost Regression\n",
        "- Note -  No need to change the code "
      ]
    },
    {
      "cell_type": "code",
      "execution_count": null,
      "id": "705a38ec",
      "metadata": {
        "id": "705a38ec",
        "outputId": "39182872-33f5-4290-fe88-b79be9f725ac",
        "colab": {
          "base_uri": "https://localhost:8080/"
        }
      },
      "outputs": [
        {
          "output_type": "stream",
          "name": "stdout",
          "text": [
            "[07:50:14] WARNING: /workspace/src/objective/regression_obj.cu:152: reg:linear is now deprecated in favor of reg:squarederror.\n"
          ]
        }
      ],
      "source": [
        "import xgboost as xgb\n",
        "Algorithm.append('XGB Regressor')\n",
        "regressor = xgb.XGBRegressor()\n",
        "regressor.fit(X_train, y_train)\n",
        "predicted = regressor.predict(X_test)"
      ]
    },
    {
      "cell_type": "markdown",
      "source": [
        "### Check for the \n",
        "\n",
        "- Mean Square Error\n",
        "- R Square Error \n",
        "\n",
        "for y_test and predicted dataset and store those data inside respective list for comparison "
      ],
      "metadata": {
        "id": "ierNZkb9bQDD"
      },
      "id": "ierNZkb9bQDD"
    },
    {
      "cell_type": "code",
      "execution_count": null,
      "id": "507a9d2f",
      "metadata": {
        "id": "507a9d2f"
      },
      "outputs": [],
      "source": [
        "MSE_Score.append(mean_squared_error(y_test, predicted))\n",
        "R2_Score.append(r2_score(y_test, predicted))"
      ]
    },
    {
      "cell_type": "markdown",
      "source": [
        "### Check the same for the Validation set also "
      ],
      "metadata": {
        "id": "84UZ2ojsbWaH"
      },
      "id": "84UZ2ojsbWaH"
    },
    {
      "cell_type": "code",
      "execution_count": null,
      "id": "e78ac250",
      "metadata": {
        "id": "e78ac250",
        "outputId": "5d99bc14-552a-449f-9fdd-4d7211ad22a0",
        "colab": {
          "base_uri": "https://localhost:8080/"
        }
      },
      "outputs": [
        {
          "output_type": "execute_result",
          "data": {
            "text/plain": [
              "416127.39216614986"
            ]
          },
          "metadata": {},
          "execution_count": 111
        }
      ],
      "source": [
        "predict_test = regressor.predict(X_val)\n",
        "mean_squared_error(y_val, predict_test, squared=False)"
      ]
    },
    {
      "cell_type": "markdown",
      "source": [
        "### Display The Comparison Lists\n"
      ],
      "metadata": {
        "id": "9FJFyaVbbbAH"
      },
      "id": "9FJFyaVbbbAH"
    },
    {
      "cell_type": "code",
      "execution_count": null,
      "id": "f765ba35",
      "metadata": {
        "id": "f765ba35",
        "outputId": "314cce12-9348-46a0-9bdb-53a41d6c3c29",
        "colab": {
          "base_uri": "https://localhost:8080/"
        }
      },
      "outputs": [
        {
          "output_type": "stream",
          "name": "stdout",
          "text": [
            "['LinearRegression', 'SVR', 'DecisionTreRegressor', 'RandomForestRegressor', 'XGB Regressor'],[319092246121.9388, 505872592526.23035, 164825554420.71487, 103978628176.96362, 142636942349.7657],[0.36237372880056506, -0.010860209844235191, 0.6706372375357004, 0.7922246442065723, 0.7149756448453017],"
          ]
        }
      ],
      "source": [
        "for i in Algorithm, MSE_Score, R2_Score:\n",
        "    print(i, end=',')"
      ]
    },
    {
      "cell_type": "markdown",
      "id": "a71bc90f",
      "metadata": {
        "id": "a71bc90f"
      },
      "source": [
        "## You need to make the comparison list into a comparison dataframe "
      ]
    },
    {
      "cell_type": "code",
      "execution_count": null,
      "id": "ff5159a7",
      "metadata": {
        "id": "ff5159a7",
        "outputId": "cbe95114-63c2-48f4-f7a3-bb93da293bb3",
        "colab": {
          "base_uri": "https://localhost:8080/",
          "height": 206
        }
      },
      "outputs": [
        {
          "output_type": "execute_result",
          "data": {
            "text/plain": [
              "               Algorithm     MSE_Score  R2_Score\n",
              "0       LinearRegression  3.190922e+11  0.362374\n",
              "1                    SVR  5.058726e+11 -0.010860\n",
              "2   DecisionTreRegressor  1.648256e+11  0.670637\n",
              "3  RandomForestRegressor  1.039786e+11  0.792225\n",
              "4          XGB Regressor  1.426369e+11  0.714976"
            ],
            "text/html": [
              "\n",
              "  <div id=\"df-9185dcdb-973e-4ddd-8cb2-eb8b0111a311\">\n",
              "    <div class=\"colab-df-container\">\n",
              "      <div>\n",
              "<style scoped>\n",
              "    .dataframe tbody tr th:only-of-type {\n",
              "        vertical-align: middle;\n",
              "    }\n",
              "\n",
              "    .dataframe tbody tr th {\n",
              "        vertical-align: top;\n",
              "    }\n",
              "\n",
              "    .dataframe thead th {\n",
              "        text-align: right;\n",
              "    }\n",
              "</style>\n",
              "<table border=\"1\" class=\"dataframe\">\n",
              "  <thead>\n",
              "    <tr style=\"text-align: right;\">\n",
              "      <th></th>\n",
              "      <th>Algorithm</th>\n",
              "      <th>MSE_Score</th>\n",
              "      <th>R2_Score</th>\n",
              "    </tr>\n",
              "  </thead>\n",
              "  <tbody>\n",
              "    <tr>\n",
              "      <th>0</th>\n",
              "      <td>LinearRegression</td>\n",
              "      <td>3.190922e+11</td>\n",
              "      <td>0.362374</td>\n",
              "    </tr>\n",
              "    <tr>\n",
              "      <th>1</th>\n",
              "      <td>SVR</td>\n",
              "      <td>5.058726e+11</td>\n",
              "      <td>-0.010860</td>\n",
              "    </tr>\n",
              "    <tr>\n",
              "      <th>2</th>\n",
              "      <td>DecisionTreRegressor</td>\n",
              "      <td>1.648256e+11</td>\n",
              "      <td>0.670637</td>\n",
              "    </tr>\n",
              "    <tr>\n",
              "      <th>3</th>\n",
              "      <td>RandomForestRegressor</td>\n",
              "      <td>1.039786e+11</td>\n",
              "      <td>0.792225</td>\n",
              "    </tr>\n",
              "    <tr>\n",
              "      <th>4</th>\n",
              "      <td>XGB Regressor</td>\n",
              "      <td>1.426369e+11</td>\n",
              "      <td>0.714976</td>\n",
              "    </tr>\n",
              "  </tbody>\n",
              "</table>\n",
              "</div>\n",
              "      <button class=\"colab-df-convert\" onclick=\"convertToInteractive('df-9185dcdb-973e-4ddd-8cb2-eb8b0111a311')\"\n",
              "              title=\"Convert this dataframe to an interactive table.\"\n",
              "              style=\"display:none;\">\n",
              "        \n",
              "  <svg xmlns=\"http://www.w3.org/2000/svg\" height=\"24px\"viewBox=\"0 0 24 24\"\n",
              "       width=\"24px\">\n",
              "    <path d=\"M0 0h24v24H0V0z\" fill=\"none\"/>\n",
              "    <path d=\"M18.56 5.44l.94 2.06.94-2.06 2.06-.94-2.06-.94-.94-2.06-.94 2.06-2.06.94zm-11 1L8.5 8.5l.94-2.06 2.06-.94-2.06-.94L8.5 2.5l-.94 2.06-2.06.94zm10 10l.94 2.06.94-2.06 2.06-.94-2.06-.94-.94-2.06-.94 2.06-2.06.94z\"/><path d=\"M17.41 7.96l-1.37-1.37c-.4-.4-.92-.59-1.43-.59-.52 0-1.04.2-1.43.59L10.3 9.45l-7.72 7.72c-.78.78-.78 2.05 0 2.83L4 21.41c.39.39.9.59 1.41.59.51 0 1.02-.2 1.41-.59l7.78-7.78 2.81-2.81c.8-.78.8-2.07 0-2.86zM5.41 20L4 18.59l7.72-7.72 1.47 1.35L5.41 20z\"/>\n",
              "  </svg>\n",
              "      </button>\n",
              "      \n",
              "  <style>\n",
              "    .colab-df-container {\n",
              "      display:flex;\n",
              "      flex-wrap:wrap;\n",
              "      gap: 12px;\n",
              "    }\n",
              "\n",
              "    .colab-df-convert {\n",
              "      background-color: #E8F0FE;\n",
              "      border: none;\n",
              "      border-radius: 50%;\n",
              "      cursor: pointer;\n",
              "      display: none;\n",
              "      fill: #1967D2;\n",
              "      height: 32px;\n",
              "      padding: 0 0 0 0;\n",
              "      width: 32px;\n",
              "    }\n",
              "\n",
              "    .colab-df-convert:hover {\n",
              "      background-color: #E2EBFA;\n",
              "      box-shadow: 0px 1px 2px rgba(60, 64, 67, 0.3), 0px 1px 3px 1px rgba(60, 64, 67, 0.15);\n",
              "      fill: #174EA6;\n",
              "    }\n",
              "\n",
              "    [theme=dark] .colab-df-convert {\n",
              "      background-color: #3B4455;\n",
              "      fill: #D2E3FC;\n",
              "    }\n",
              "\n",
              "    [theme=dark] .colab-df-convert:hover {\n",
              "      background-color: #434B5C;\n",
              "      box-shadow: 0px 1px 3px 1px rgba(0, 0, 0, 0.15);\n",
              "      filter: drop-shadow(0px 1px 2px rgba(0, 0, 0, 0.3));\n",
              "      fill: #FFFFFF;\n",
              "    }\n",
              "  </style>\n",
              "\n",
              "      <script>\n",
              "        const buttonEl =\n",
              "          document.querySelector('#df-9185dcdb-973e-4ddd-8cb2-eb8b0111a311 button.colab-df-convert');\n",
              "        buttonEl.style.display =\n",
              "          google.colab.kernel.accessAllowed ? 'block' : 'none';\n",
              "\n",
              "        async function convertToInteractive(key) {\n",
              "          const element = document.querySelector('#df-9185dcdb-973e-4ddd-8cb2-eb8b0111a311');\n",
              "          const dataTable =\n",
              "            await google.colab.kernel.invokeFunction('convertToInteractive',\n",
              "                                                     [key], {});\n",
              "          if (!dataTable) return;\n",
              "\n",
              "          const docLinkHtml = 'Like what you see? Visit the ' +\n",
              "            '<a target=\"_blank\" href=https://colab.research.google.com/notebooks/data_table.ipynb>data table notebook</a>'\n",
              "            + ' to learn more about interactive tables.';\n",
              "          element.innerHTML = '';\n",
              "          dataTable['output_type'] = 'display_data';\n",
              "          await google.colab.output.renderOutput(dataTable, element);\n",
              "          const docLink = document.createElement('div');\n",
              "          docLink.innerHTML = docLinkHtml;\n",
              "          element.appendChild(docLink);\n",
              "        }\n",
              "      </script>\n",
              "    </div>\n",
              "  </div>\n",
              "  "
            ]
          },
          "metadata": {},
          "execution_count": 113
        }
      ],
      "source": [
        "Comparison_df = pd.DataFrame(list(zip(Algorithm,MSE_Score,R2_Score)),columns = ['Algorithm','MSE_Score','R2_Score'])\n",
        "Comparison_df"
      ]
    },
    {
      "cell_type": "markdown",
      "id": "62e61c60",
      "metadata": {
        "id": "62e61c60"
      },
      "source": [
        "## Now from the Comparison table, you need to choose the best fit model\n",
        "\n",
        "- Step 1 - Fit X_train and y_train inside the model \n",
        "- Step 2 - Predict the X_test dataset\n",
        "- Step 3 - Predict the X_val dataset\n",
        "\n",
        "\n",
        "- Note - No need to change the code"
      ]
    },
    {
      "cell_type": "code",
      "execution_count": null,
      "id": "3e07c258",
      "metadata": {
        "id": "3e07c258",
        "outputId": "3fbcf2e1-8d4d-434e-c8ab-4255b6c593bc",
        "colab": {
          "base_uri": "https://localhost:8080/"
        }
      },
      "outputs": [
        {
          "output_type": "stream",
          "name": "stdout",
          "text": [
            "[07:50:16] WARNING: /workspace/src/objective/regression_obj.cu:152: reg:linear is now deprecated in favor of reg:squarederror.\n"
          ]
        }
      ],
      "source": [
        "regressorfinal = xgb.XGBRegressor()\n",
        "regressorfinal.fit(X_train, y_train)\n",
        "predictedfinal = regressorfinal.predict(X_test)\n",
        "predict_testfinal = regressorfinal.predict(X_val)"
      ]
    },
    {
      "cell_type": "markdown",
      "id": "8e4df6c4",
      "metadata": {
        "id": "8e4df6c4"
      },
      "source": [
        "### Calculate the Mean Square Error for test dataset\n",
        "\n",
        "- Note - No need to change the code"
      ]
    },
    {
      "cell_type": "code",
      "execution_count": null,
      "id": "5fb466d0",
      "metadata": {
        "id": "5fb466d0",
        "outputId": "40e15247-567a-4302-d28e-95f1156fb55f",
        "colab": {
          "base_uri": "https://localhost:8080/"
        }
      },
      "outputs": [
        {
          "output_type": "execute_result",
          "data": {
            "text/plain": [
              "377673.0627801852"
            ]
          },
          "metadata": {},
          "execution_count": 115
        }
      ],
      "source": [
        "mean_squared_error(y_test,predictedfinal,squared=False)"
      ]
    },
    {
      "cell_type": "markdown",
      "id": "ce27f87f",
      "metadata": {
        "id": "ce27f87f"
      },
      "source": [
        "### Calculate the mean Square Error for validation dataset"
      ]
    },
    {
      "cell_type": "code",
      "execution_count": null,
      "id": "b47978ea",
      "metadata": {
        "id": "b47978ea",
        "outputId": "e2c89ec7-75a2-47f6-9e06-456064f97d46",
        "colab": {
          "base_uri": "https://localhost:8080/"
        }
      },
      "outputs": [
        {
          "output_type": "execute_result",
          "data": {
            "text/plain": [
              "416127.39216614986"
            ]
          },
          "metadata": {},
          "execution_count": 116
        }
      ],
      "source": [
        "mean_squared_error(y_val, predict_testfinal, squared=False)"
      ]
    },
    {
      "cell_type": "markdown",
      "id": "30014dbd",
      "metadata": {
        "id": "30014dbd"
      },
      "source": [
        "### Calculate the R2 score for test"
      ]
    },
    {
      "cell_type": "code",
      "execution_count": null,
      "id": "8a162737",
      "metadata": {
        "id": "8a162737",
        "outputId": "d8a97097-d315-428b-cf4b-6df4fd555b56",
        "colab": {
          "base_uri": "https://localhost:8080/"
        }
      },
      "outputs": [
        {
          "output_type": "execute_result",
          "data": {
            "text/plain": [
              "0.7149756448453017"
            ]
          },
          "metadata": {},
          "execution_count": 117
        }
      ],
      "source": [
        "r2_score(y_test, predictedfinal)"
      ]
    },
    {
      "cell_type": "markdown",
      "id": "1c9853b0",
      "metadata": {
        "id": "1c9853b0"
      },
      "source": [
        "### Calculate the R2 score for Validation"
      ]
    },
    {
      "cell_type": "code",
      "execution_count": null,
      "id": "1a6dc77c",
      "metadata": {
        "id": "1a6dc77c",
        "outputId": "ea7fba6e-04b4-47d0-ecaf-d9952c4a4f69",
        "colab": {
          "base_uri": "https://localhost:8080/"
        }
      },
      "outputs": [
        {
          "output_type": "execute_result",
          "data": {
            "text/plain": [
              "0.6116990449088384"
            ]
          },
          "metadata": {},
          "execution_count": 118
        }
      ],
      "source": [
        "r2_score(y_val, predict_testfinal)"
      ]
    },
    {
      "cell_type": "markdown",
      "id": "499522d9",
      "metadata": {
        "id": "499522d9"
      },
      "source": [
        "### Calculate the Accuracy for train Dataset "
      ]
    },
    {
      "cell_type": "code",
      "execution_count": null,
      "id": "7a4f1ce8",
      "metadata": {
        "id": "7a4f1ce8",
        "outputId": "46684575-68f0-44b7-d5a4-b19afdc32bae",
        "colab": {
          "base_uri": "https://localhost:8080/"
        }
      },
      "outputs": [
        {
          "output_type": "execute_result",
          "data": {
            "text/plain": [
              "0.7056792942256487"
            ]
          },
          "metadata": {},
          "execution_count": 119
        }
      ],
      "source": [
        "regressorfinal.score(X_train, y_train)"
      ]
    },
    {
      "cell_type": "markdown",
      "id": "12a1c921",
      "metadata": {
        "id": "12a1c921"
      },
      "source": [
        "### Calculate the accuracy for validation"
      ]
    },
    {
      "cell_type": "code",
      "execution_count": null,
      "id": "d2579b4f",
      "metadata": {
        "id": "d2579b4f",
        "outputId": "398f519d-5e98-4ee2-c5a8-0814f0d071a0",
        "colab": {
          "base_uri": "https://localhost:8080/"
        }
      },
      "outputs": [
        {
          "output_type": "execute_result",
          "data": {
            "text/plain": [
              "0.6116990449088384"
            ]
          },
          "metadata": {},
          "execution_count": 120
        }
      ],
      "source": [
        "regressorfinal.score(X_val, y_val)"
      ]
    },
    {
      "cell_type": "markdown",
      "id": "79b82e84",
      "metadata": {
        "id": "79b82e84"
      },
      "source": [
        "### Calculate the accuracy for test"
      ]
    },
    {
      "cell_type": "code",
      "execution_count": null,
      "id": "f09e6431",
      "metadata": {
        "id": "f09e6431",
        "outputId": "b1930b95-308a-464e-9365-1b685823c36e",
        "colab": {
          "base_uri": "https://localhost:8080/"
        }
      },
      "outputs": [
        {
          "output_type": "execute_result",
          "data": {
            "text/plain": [
              "0.7149756448453017"
            ]
          },
          "metadata": {},
          "execution_count": 121
        }
      ],
      "source": [
        "regressorfinal.score(X_test, y_test)"
      ]
    },
    {
      "cell_type": "markdown",
      "id": "9488a5d9",
      "metadata": {
        "id": "9488a5d9"
      },
      "source": [
        "## Specify the reason behind choosing your machine learning model \n",
        "\n",
        "- Note : Provide your answer as a text here"
      ]
    },
    {
      "cell_type": "markdown",
      "id": "387a6519",
      "metadata": {
        "id": "387a6519"
      },
      "source": [
        "## Now you need to pass the Nulldata dataframe into this machine learning model\n",
        "\n",
        "#### In order to pass this Nulldata dataframe into the ML model, we need to perform the following\n",
        "\n",
        "- Step 1 : Label Encoding \n",
        "- Step 2 : Day, Month and Year extraction \n",
        "- Step 3 : Change all the column data type into int64 or float64\n",
        "- Step 4 : Need to drop the useless columns "
      ]
    },
    {
      "cell_type": "markdown",
      "source": [
        "### Display the Nulldata "
      ],
      "metadata": {
        "id": "I7JuxAkdiAdI"
      },
      "id": "I7JuxAkdiAdI"
    },
    {
      "cell_type": "code",
      "execution_count": null,
      "id": "6d6a51d2",
      "metadata": {
        "id": "6d6a51d2",
        "outputId": "6f975d50-ccf9-40b4-c8bc-8d5bd10326e5",
        "colab": {
          "base_uri": "https://localhost:8080/",
          "height": 287
        }
      },
      "outputs": [
        {
          "output_type": "execute_result",
          "data": {
            "text/plain": [
              "   business_code cust_number     name_customer clear_date  buisness_year  \\\n",
              "3           CA02  0140105686          SYSC llc        NaT         2020.0   \n",
              "7           U001  0200744019           TARG us        NaT         2020.0   \n",
              "10          U001  0200418007               AM         NaT         2020.0   \n",
              "14          U001  0200739534        OK systems        NaT         2020.0   \n",
              "15          U001  0200353024  DECA corporation        NaT         2020.0   \n",
              "\n",
              "          doc_id posting_date due_in_date baseline_create_date  \\\n",
              "3   2.960623e+09   2020-03-30  2020-04-10           2020-03-31   \n",
              "7   1.930659e+09   2020-03-19  2020-04-03           2020-03-19   \n",
              "10  1.930611e+09   2020-03-11  2020-03-26           2020-03-11   \n",
              "14  1.930788e+09   2020-04-15  2020-04-30           2020-04-15   \n",
              "15  1.930817e+09   2020-04-23  2020-04-26           2020-04-16   \n",
              "\n",
              "   cust_payment_terms  converted_usd  \n",
              "3                CA10        2309.79  \n",
              "7                NAA8       11173.02  \n",
              "10               NAA8        3525.59  \n",
              "14               NAA8      121105.65  \n",
              "15               NAM2        3726.06  "
            ],
            "text/html": [
              "\n",
              "  <div id=\"df-a9482bf0-bd70-4a83-98ff-cf877d3f648b\">\n",
              "    <div class=\"colab-df-container\">\n",
              "      <div>\n",
              "<style scoped>\n",
              "    .dataframe tbody tr th:only-of-type {\n",
              "        vertical-align: middle;\n",
              "    }\n",
              "\n",
              "    .dataframe tbody tr th {\n",
              "        vertical-align: top;\n",
              "    }\n",
              "\n",
              "    .dataframe thead th {\n",
              "        text-align: right;\n",
              "    }\n",
              "</style>\n",
              "<table border=\"1\" class=\"dataframe\">\n",
              "  <thead>\n",
              "    <tr style=\"text-align: right;\">\n",
              "      <th></th>\n",
              "      <th>business_code</th>\n",
              "      <th>cust_number</th>\n",
              "      <th>name_customer</th>\n",
              "      <th>clear_date</th>\n",
              "      <th>buisness_year</th>\n",
              "      <th>doc_id</th>\n",
              "      <th>posting_date</th>\n",
              "      <th>due_in_date</th>\n",
              "      <th>baseline_create_date</th>\n",
              "      <th>cust_payment_terms</th>\n",
              "      <th>converted_usd</th>\n",
              "    </tr>\n",
              "  </thead>\n",
              "  <tbody>\n",
              "    <tr>\n",
              "      <th>3</th>\n",
              "      <td>CA02</td>\n",
              "      <td>0140105686</td>\n",
              "      <td>SYSC llc</td>\n",
              "      <td>NaT</td>\n",
              "      <td>2020.0</td>\n",
              "      <td>2.960623e+09</td>\n",
              "      <td>2020-03-30</td>\n",
              "      <td>2020-04-10</td>\n",
              "      <td>2020-03-31</td>\n",
              "      <td>CA10</td>\n",
              "      <td>2309.79</td>\n",
              "    </tr>\n",
              "    <tr>\n",
              "      <th>7</th>\n",
              "      <td>U001</td>\n",
              "      <td>0200744019</td>\n",
              "      <td>TARG us</td>\n",
              "      <td>NaT</td>\n",
              "      <td>2020.0</td>\n",
              "      <td>1.930659e+09</td>\n",
              "      <td>2020-03-19</td>\n",
              "      <td>2020-04-03</td>\n",
              "      <td>2020-03-19</td>\n",
              "      <td>NAA8</td>\n",
              "      <td>11173.02</td>\n",
              "    </tr>\n",
              "    <tr>\n",
              "      <th>10</th>\n",
              "      <td>U001</td>\n",
              "      <td>0200418007</td>\n",
              "      <td>AM</td>\n",
              "      <td>NaT</td>\n",
              "      <td>2020.0</td>\n",
              "      <td>1.930611e+09</td>\n",
              "      <td>2020-03-11</td>\n",
              "      <td>2020-03-26</td>\n",
              "      <td>2020-03-11</td>\n",
              "      <td>NAA8</td>\n",
              "      <td>3525.59</td>\n",
              "    </tr>\n",
              "    <tr>\n",
              "      <th>14</th>\n",
              "      <td>U001</td>\n",
              "      <td>0200739534</td>\n",
              "      <td>OK systems</td>\n",
              "      <td>NaT</td>\n",
              "      <td>2020.0</td>\n",
              "      <td>1.930788e+09</td>\n",
              "      <td>2020-04-15</td>\n",
              "      <td>2020-04-30</td>\n",
              "      <td>2020-04-15</td>\n",
              "      <td>NAA8</td>\n",
              "      <td>121105.65</td>\n",
              "    </tr>\n",
              "    <tr>\n",
              "      <th>15</th>\n",
              "      <td>U001</td>\n",
              "      <td>0200353024</td>\n",
              "      <td>DECA corporation</td>\n",
              "      <td>NaT</td>\n",
              "      <td>2020.0</td>\n",
              "      <td>1.930817e+09</td>\n",
              "      <td>2020-04-23</td>\n",
              "      <td>2020-04-26</td>\n",
              "      <td>2020-04-16</td>\n",
              "      <td>NAM2</td>\n",
              "      <td>3726.06</td>\n",
              "    </tr>\n",
              "  </tbody>\n",
              "</table>\n",
              "</div>\n",
              "      <button class=\"colab-df-convert\" onclick=\"convertToInteractive('df-a9482bf0-bd70-4a83-98ff-cf877d3f648b')\"\n",
              "              title=\"Convert this dataframe to an interactive table.\"\n",
              "              style=\"display:none;\">\n",
              "        \n",
              "  <svg xmlns=\"http://www.w3.org/2000/svg\" height=\"24px\"viewBox=\"0 0 24 24\"\n",
              "       width=\"24px\">\n",
              "    <path d=\"M0 0h24v24H0V0z\" fill=\"none\"/>\n",
              "    <path d=\"M18.56 5.44l.94 2.06.94-2.06 2.06-.94-2.06-.94-.94-2.06-.94 2.06-2.06.94zm-11 1L8.5 8.5l.94-2.06 2.06-.94-2.06-.94L8.5 2.5l-.94 2.06-2.06.94zm10 10l.94 2.06.94-2.06 2.06-.94-2.06-.94-.94-2.06-.94 2.06-2.06.94z\"/><path d=\"M17.41 7.96l-1.37-1.37c-.4-.4-.92-.59-1.43-.59-.52 0-1.04.2-1.43.59L10.3 9.45l-7.72 7.72c-.78.78-.78 2.05 0 2.83L4 21.41c.39.39.9.59 1.41.59.51 0 1.02-.2 1.41-.59l7.78-7.78 2.81-2.81c.8-.78.8-2.07 0-2.86zM5.41 20L4 18.59l7.72-7.72 1.47 1.35L5.41 20z\"/>\n",
              "  </svg>\n",
              "      </button>\n",
              "      \n",
              "  <style>\n",
              "    .colab-df-container {\n",
              "      display:flex;\n",
              "      flex-wrap:wrap;\n",
              "      gap: 12px;\n",
              "    }\n",
              "\n",
              "    .colab-df-convert {\n",
              "      background-color: #E8F0FE;\n",
              "      border: none;\n",
              "      border-radius: 50%;\n",
              "      cursor: pointer;\n",
              "      display: none;\n",
              "      fill: #1967D2;\n",
              "      height: 32px;\n",
              "      padding: 0 0 0 0;\n",
              "      width: 32px;\n",
              "    }\n",
              "\n",
              "    .colab-df-convert:hover {\n",
              "      background-color: #E2EBFA;\n",
              "      box-shadow: 0px 1px 2px rgba(60, 64, 67, 0.3), 0px 1px 3px 1px rgba(60, 64, 67, 0.15);\n",
              "      fill: #174EA6;\n",
              "    }\n",
              "\n",
              "    [theme=dark] .colab-df-convert {\n",
              "      background-color: #3B4455;\n",
              "      fill: #D2E3FC;\n",
              "    }\n",
              "\n",
              "    [theme=dark] .colab-df-convert:hover {\n",
              "      background-color: #434B5C;\n",
              "      box-shadow: 0px 1px 3px 1px rgba(0, 0, 0, 0.15);\n",
              "      filter: drop-shadow(0px 1px 2px rgba(0, 0, 0, 0.3));\n",
              "      fill: #FFFFFF;\n",
              "    }\n",
              "  </style>\n",
              "\n",
              "      <script>\n",
              "        const buttonEl =\n",
              "          document.querySelector('#df-a9482bf0-bd70-4a83-98ff-cf877d3f648b button.colab-df-convert');\n",
              "        buttonEl.style.display =\n",
              "          google.colab.kernel.accessAllowed ? 'block' : 'none';\n",
              "\n",
              "        async function convertToInteractive(key) {\n",
              "          const element = document.querySelector('#df-a9482bf0-bd70-4a83-98ff-cf877d3f648b');\n",
              "          const dataTable =\n",
              "            await google.colab.kernel.invokeFunction('convertToInteractive',\n",
              "                                                     [key], {});\n",
              "          if (!dataTable) return;\n",
              "\n",
              "          const docLinkHtml = 'Like what you see? Visit the ' +\n",
              "            '<a target=\"_blank\" href=https://colab.research.google.com/notebooks/data_table.ipynb>data table notebook</a>'\n",
              "            + ' to learn more about interactive tables.';\n",
              "          element.innerHTML = '';\n",
              "          dataTable['output_type'] = 'display_data';\n",
              "          await google.colab.output.renderOutput(dataTable, element);\n",
              "          const docLink = document.createElement('div');\n",
              "          docLink.innerHTML = docLinkHtml;\n",
              "          element.appendChild(docLink);\n",
              "        }\n",
              "      </script>\n",
              "    </div>\n",
              "  </div>\n",
              "  "
            ]
          },
          "metadata": {},
          "execution_count": 122
        }
      ],
      "source": [
        "nulldata.head()"
      ]
    },
    {
      "cell_type": "markdown",
      "source": [
        "### Check for the number of rows and columns in the nulldata"
      ],
      "metadata": {
        "id": "Vamx5xqtiHCH"
      },
      "id": "Vamx5xqtiHCH"
    },
    {
      "cell_type": "code",
      "execution_count": null,
      "id": "59de1092",
      "metadata": {
        "id": "59de1092",
        "outputId": "9570386d-17c7-409e-ea30-12a83ecb5665",
        "colab": {
          "base_uri": "https://localhost:8080/"
        }
      },
      "outputs": [
        {
          "output_type": "execute_result",
          "data": {
            "text/plain": [
              "(9681, 11)"
            ]
          },
          "metadata": {},
          "execution_count": 123
        }
      ],
      "source": [
        "nulldata.shape"
      ]
    },
    {
      "cell_type": "markdown",
      "source": [
        "### Check the Description and Information of the nulldata "
      ],
      "metadata": {
        "id": "BxzHNbBjpqXL"
      },
      "id": "BxzHNbBjpqXL"
    },
    {
      "cell_type": "code",
      "execution_count": null,
      "id": "a6294d29",
      "metadata": {
        "id": "a6294d29",
        "outputId": "5b81a380-5022-446d-db73-2391e102e112",
        "colab": {
          "base_uri": "https://localhost:8080/",
          "height": 300
        }
      },
      "outputs": [
        {
          "output_type": "execute_result",
          "data": {
            "text/plain": [
              "       buisness_year        doc_id  converted_usd\n",
              "count         9681.0  9.681000e+03    9681.000000\n",
              "mean          2020.0  2.006165e+09   32065.681125\n",
              "std              0.0  2.673629e+08   35419.613688\n",
              "min           2020.0  1.930535e+09       0.720000\n",
              "25%           2020.0  1.930658e+09    5607.190000\n",
              "50%           2020.0  1.930731e+09   19024.190000\n",
              "75%           2020.0  1.930818e+09   47752.640000\n",
              "max           2020.0  2.960636e+09  653644.800000"
            ],
            "text/html": [
              "\n",
              "  <div id=\"df-9868a713-330c-4421-9a87-8bbd0f4c5d1e\">\n",
              "    <div class=\"colab-df-container\">\n",
              "      <div>\n",
              "<style scoped>\n",
              "    .dataframe tbody tr th:only-of-type {\n",
              "        vertical-align: middle;\n",
              "    }\n",
              "\n",
              "    .dataframe tbody tr th {\n",
              "        vertical-align: top;\n",
              "    }\n",
              "\n",
              "    .dataframe thead th {\n",
              "        text-align: right;\n",
              "    }\n",
              "</style>\n",
              "<table border=\"1\" class=\"dataframe\">\n",
              "  <thead>\n",
              "    <tr style=\"text-align: right;\">\n",
              "      <th></th>\n",
              "      <th>buisness_year</th>\n",
              "      <th>doc_id</th>\n",
              "      <th>converted_usd</th>\n",
              "    </tr>\n",
              "  </thead>\n",
              "  <tbody>\n",
              "    <tr>\n",
              "      <th>count</th>\n",
              "      <td>9681.0</td>\n",
              "      <td>9.681000e+03</td>\n",
              "      <td>9681.000000</td>\n",
              "    </tr>\n",
              "    <tr>\n",
              "      <th>mean</th>\n",
              "      <td>2020.0</td>\n",
              "      <td>2.006165e+09</td>\n",
              "      <td>32065.681125</td>\n",
              "    </tr>\n",
              "    <tr>\n",
              "      <th>std</th>\n",
              "      <td>0.0</td>\n",
              "      <td>2.673629e+08</td>\n",
              "      <td>35419.613688</td>\n",
              "    </tr>\n",
              "    <tr>\n",
              "      <th>min</th>\n",
              "      <td>2020.0</td>\n",
              "      <td>1.930535e+09</td>\n",
              "      <td>0.720000</td>\n",
              "    </tr>\n",
              "    <tr>\n",
              "      <th>25%</th>\n",
              "      <td>2020.0</td>\n",
              "      <td>1.930658e+09</td>\n",
              "      <td>5607.190000</td>\n",
              "    </tr>\n",
              "    <tr>\n",
              "      <th>50%</th>\n",
              "      <td>2020.0</td>\n",
              "      <td>1.930731e+09</td>\n",
              "      <td>19024.190000</td>\n",
              "    </tr>\n",
              "    <tr>\n",
              "      <th>75%</th>\n",
              "      <td>2020.0</td>\n",
              "      <td>1.930818e+09</td>\n",
              "      <td>47752.640000</td>\n",
              "    </tr>\n",
              "    <tr>\n",
              "      <th>max</th>\n",
              "      <td>2020.0</td>\n",
              "      <td>2.960636e+09</td>\n",
              "      <td>653644.800000</td>\n",
              "    </tr>\n",
              "  </tbody>\n",
              "</table>\n",
              "</div>\n",
              "      <button class=\"colab-df-convert\" onclick=\"convertToInteractive('df-9868a713-330c-4421-9a87-8bbd0f4c5d1e')\"\n",
              "              title=\"Convert this dataframe to an interactive table.\"\n",
              "              style=\"display:none;\">\n",
              "        \n",
              "  <svg xmlns=\"http://www.w3.org/2000/svg\" height=\"24px\"viewBox=\"0 0 24 24\"\n",
              "       width=\"24px\">\n",
              "    <path d=\"M0 0h24v24H0V0z\" fill=\"none\"/>\n",
              "    <path d=\"M18.56 5.44l.94 2.06.94-2.06 2.06-.94-2.06-.94-.94-2.06-.94 2.06-2.06.94zm-11 1L8.5 8.5l.94-2.06 2.06-.94-2.06-.94L8.5 2.5l-.94 2.06-2.06.94zm10 10l.94 2.06.94-2.06 2.06-.94-2.06-.94-.94-2.06-.94 2.06-2.06.94z\"/><path d=\"M17.41 7.96l-1.37-1.37c-.4-.4-.92-.59-1.43-.59-.52 0-1.04.2-1.43.59L10.3 9.45l-7.72 7.72c-.78.78-.78 2.05 0 2.83L4 21.41c.39.39.9.59 1.41.59.51 0 1.02-.2 1.41-.59l7.78-7.78 2.81-2.81c.8-.78.8-2.07 0-2.86zM5.41 20L4 18.59l7.72-7.72 1.47 1.35L5.41 20z\"/>\n",
              "  </svg>\n",
              "      </button>\n",
              "      \n",
              "  <style>\n",
              "    .colab-df-container {\n",
              "      display:flex;\n",
              "      flex-wrap:wrap;\n",
              "      gap: 12px;\n",
              "    }\n",
              "\n",
              "    .colab-df-convert {\n",
              "      background-color: #E8F0FE;\n",
              "      border: none;\n",
              "      border-radius: 50%;\n",
              "      cursor: pointer;\n",
              "      display: none;\n",
              "      fill: #1967D2;\n",
              "      height: 32px;\n",
              "      padding: 0 0 0 0;\n",
              "      width: 32px;\n",
              "    }\n",
              "\n",
              "    .colab-df-convert:hover {\n",
              "      background-color: #E2EBFA;\n",
              "      box-shadow: 0px 1px 2px rgba(60, 64, 67, 0.3), 0px 1px 3px 1px rgba(60, 64, 67, 0.15);\n",
              "      fill: #174EA6;\n",
              "    }\n",
              "\n",
              "    [theme=dark] .colab-df-convert {\n",
              "      background-color: #3B4455;\n",
              "      fill: #D2E3FC;\n",
              "    }\n",
              "\n",
              "    [theme=dark] .colab-df-convert:hover {\n",
              "      background-color: #434B5C;\n",
              "      box-shadow: 0px 1px 3px 1px rgba(0, 0, 0, 0.15);\n",
              "      filter: drop-shadow(0px 1px 2px rgba(0, 0, 0, 0.3));\n",
              "      fill: #FFFFFF;\n",
              "    }\n",
              "  </style>\n",
              "\n",
              "      <script>\n",
              "        const buttonEl =\n",
              "          document.querySelector('#df-9868a713-330c-4421-9a87-8bbd0f4c5d1e button.colab-df-convert');\n",
              "        buttonEl.style.display =\n",
              "          google.colab.kernel.accessAllowed ? 'block' : 'none';\n",
              "\n",
              "        async function convertToInteractive(key) {\n",
              "          const element = document.querySelector('#df-9868a713-330c-4421-9a87-8bbd0f4c5d1e');\n",
              "          const dataTable =\n",
              "            await google.colab.kernel.invokeFunction('convertToInteractive',\n",
              "                                                     [key], {});\n",
              "          if (!dataTable) return;\n",
              "\n",
              "          const docLinkHtml = 'Like what you see? Visit the ' +\n",
              "            '<a target=\"_blank\" href=https://colab.research.google.com/notebooks/data_table.ipynb>data table notebook</a>'\n",
              "            + ' to learn more about interactive tables.';\n",
              "          element.innerHTML = '';\n",
              "          dataTable['output_type'] = 'display_data';\n",
              "          await google.colab.output.renderOutput(dataTable, element);\n",
              "          const docLink = document.createElement('div');\n",
              "          docLink.innerHTML = docLinkHtml;\n",
              "          element.appendChild(docLink);\n",
              "        }\n",
              "      </script>\n",
              "    </div>\n",
              "  </div>\n",
              "  "
            ]
          },
          "metadata": {},
          "execution_count": 124
        }
      ],
      "source": [
        "nulldata.describe()"
      ]
    },
    {
      "cell_type": "code",
      "source": [
        "nulldata.info()"
      ],
      "metadata": {
        "id": "ldMppome9Lw1",
        "outputId": "a5ba8303-ab6d-4285-cc1e-abcb38751faa",
        "colab": {
          "base_uri": "https://localhost:8080/"
        }
      },
      "id": "ldMppome9Lw1",
      "execution_count": null,
      "outputs": [
        {
          "output_type": "stream",
          "name": "stdout",
          "text": [
            "<class 'pandas.core.frame.DataFrame'>\n",
            "Int64Index: 9681 entries, 3 to 49995\n",
            "Data columns (total 11 columns):\n",
            " #   Column                Non-Null Count  Dtype         \n",
            "---  ------                --------------  -----         \n",
            " 0   business_code         9681 non-null   object        \n",
            " 1   cust_number           9681 non-null   object        \n",
            " 2   name_customer         9681 non-null   object        \n",
            " 3   clear_date            0 non-null      datetime64[ns]\n",
            " 4   buisness_year         9681 non-null   float64       \n",
            " 5   doc_id                9681 non-null   float64       \n",
            " 6   posting_date          9681 non-null   datetime64[ns]\n",
            " 7   due_in_date           9681 non-null   datetime64[ns]\n",
            " 8   baseline_create_date  9681 non-null   datetime64[ns]\n",
            " 9   cust_payment_terms    9681 non-null   object        \n",
            " 10  converted_usd         9681 non-null   float64       \n",
            "dtypes: datetime64[ns](4), float64(3), object(4)\n",
            "memory usage: 907.6+ KB\n"
          ]
        }
      ]
    },
    {
      "cell_type": "markdown",
      "id": "fe860d94",
      "metadata": {
        "id": "fe860d94"
      },
      "source": [
        "### Storing the Nulldata into a different dataset \n",
        "# for BACKUP"
      ]
    },
    {
      "cell_type": "code",
      "execution_count": null,
      "id": "16352034",
      "metadata": {
        "id": "16352034"
      },
      "outputs": [],
      "source": [
        "nulldata1 = nulldata.copy()"
      ]
    },
    {
      "cell_type": "markdown",
      "id": "00f35b8c",
      "metadata": {
        "id": "00f35b8c"
      },
      "source": [
        "### Call the Label Encoder for Nulldata\n",
        "\n",
        "- Note - you are expected to fit \"business_code\" as it is a categorical variable\n",
        "- Note - No need to change the code"
      ]
    },
    {
      "cell_type": "code",
      "execution_count": null,
      "id": "baf04b17",
      "metadata": {
        "id": "baf04b17",
        "outputId": "9a57cd6a-ef25-46e3-fb27-a7d74274b173",
        "colab": {
          "base_uri": "https://localhost:8080/"
        }
      },
      "outputs": [
        {
          "output_type": "stream",
          "name": "stderr",
          "text": [
            "/usr/local/lib/python3.7/dist-packages/ipykernel_launcher.py:4: SettingWithCopyWarning: \n",
            "A value is trying to be set on a copy of a slice from a DataFrame.\n",
            "Try using .loc[row_indexer,col_indexer] = value instead\n",
            "\n",
            "See the caveats in the documentation: https://pandas.pydata.org/pandas-docs/stable/user_guide/indexing.html#returning-a-view-versus-a-copy\n",
            "  after removing the cwd from sys.path.\n"
          ]
        }
      ],
      "source": [
        "from sklearn.preprocessing import LabelEncoder\n",
        "business_codern = LabelEncoder()\n",
        "business_codern.fit(nulldata['business_code'])\n",
        "nulldata['business_code_enc'] = business_codern.transform(nulldata['business_code'])"
      ]
    },
    {
      "cell_type": "markdown",
      "source": [
        "### Now you need to manually replacing str values with numbers\n",
        "- Note - No need to change the code"
      ],
      "metadata": {
        "id": "ZCPBK9karIR-"
      },
      "id": "ZCPBK9karIR-"
    },
    {
      "cell_type": "code",
      "execution_count": null,
      "id": "c64924be",
      "metadata": {
        "id": "c64924be",
        "outputId": "2262ac83-4fe9-4ccf-e646-8f7aff1ee1a8",
        "colab": {
          "base_uri": "https://localhost:8080/"
        }
      },
      "outputs": [
        {
          "output_type": "stream",
          "name": "stderr",
          "text": [
            "/usr/local/lib/python3.7/dist-packages/ipykernel_launcher.py:1: SettingWithCopyWarning: \n",
            "A value is trying to be set on a copy of a slice from a DataFrame.\n",
            "Try using .loc[row_indexer,col_indexer] = value instead\n",
            "\n",
            "See the caveats in the documentation: https://pandas.pydata.org/pandas-docs/stable/user_guide/indexing.html#returning-a-view-versus-a-copy\n",
            "  \"\"\"Entry point for launching an IPython kernel.\n"
          ]
        }
      ],
      "source": [
        "nulldata['cust_number'] = nulldata['cust_number'].str.replace('CCCA',\"1\").str.replace('CCU',\"2\").str.replace('CC',\"3\").astype(int)"
      ]
    },
    {
      "cell_type": "markdown",
      "id": "9a55f5f6",
      "metadata": {
        "id": "9a55f5f6"
      },
      "source": [
        "## You need to extract day, month and year from the \"clear_date\", \"posting_date\", \"due_in_date\", \"baseline_create_date\" columns\n",
        "\n",
        "\n",
        "##### 1.   Extract day from \"clear_date\" column and store it into 'day_of_cleardate'\n",
        "##### 2.   Extract month from \"clear_date\" column and store it into 'month_of_cleardate'\n",
        "##### 3.   Extract year from \"clear_date\" column and store it into 'year_of_cleardate'\n",
        "\n",
        "\n",
        "\n",
        "##### 4.   Extract day from \"posting_date\" column and store it into 'day_of_postingdate'\n",
        "##### 5.   Extract month from \"posting_date\" column and store it into 'month_of_postingdate'\n",
        "##### 6.   Extract year from \"posting_date\" column and store it into 'year_of_postingdate'\n",
        "\n",
        "\n",
        "\n",
        "\n",
        "##### 7.   Extract day from \"due_in_date\" column and store it into 'day_of_due'\n",
        "##### 8.   Extract month from \"due_in_date\" column and store it into 'month_of_due'\n",
        "##### 9.   Extract year from \"due_in_date\" column and store it into 'year_of_due'\n",
        "\n",
        "\n",
        "\n",
        "\n",
        "##### 10.   Extract day from \"baseline_create_date\" column and store it into 'day_of_createdate'\n",
        "##### 11.   Extract month from \"baseline_create_date\" column and store it into 'month_of_createdate'\n",
        "##### 12.   Extract year from \"baseline_create_date\" column and store it into 'year_of_createdate'\n",
        "\n",
        "\n",
        "\n",
        "\n",
        "- Note - You are supposed To use - \n",
        "\n",
        "*   dt.day\n",
        "*   dt.month\n",
        "*   dt.year"
      ]
    },
    {
      "cell_type": "code",
      "execution_count": null,
      "id": "4166fbe4",
      "metadata": {
        "id": "4166fbe4",
        "outputId": "2cc051ff-22a5-4933-8c82-f63015008a8b",
        "colab": {
          "base_uri": "https://localhost:8080/"
        }
      },
      "outputs": [
        {
          "output_type": "stream",
          "name": "stderr",
          "text": [
            "/usr/local/lib/python3.7/dist-packages/ipykernel_launcher.py:1: SettingWithCopyWarning: \n",
            "A value is trying to be set on a copy of a slice from a DataFrame.\n",
            "Try using .loc[row_indexer,col_indexer] = value instead\n",
            "\n",
            "See the caveats in the documentation: https://pandas.pydata.org/pandas-docs/stable/user_guide/indexing.html#returning-a-view-versus-a-copy\n",
            "  \"\"\"Entry point for launching an IPython kernel.\n",
            "/usr/local/lib/python3.7/dist-packages/ipykernel_launcher.py:2: SettingWithCopyWarning: \n",
            "A value is trying to be set on a copy of a slice from a DataFrame.\n",
            "Try using .loc[row_indexer,col_indexer] = value instead\n",
            "\n",
            "See the caveats in the documentation: https://pandas.pydata.org/pandas-docs/stable/user_guide/indexing.html#returning-a-view-versus-a-copy\n",
            "  \n",
            "/usr/local/lib/python3.7/dist-packages/ipykernel_launcher.py:3: SettingWithCopyWarning: \n",
            "A value is trying to be set on a copy of a slice from a DataFrame.\n",
            "Try using .loc[row_indexer,col_indexer] = value instead\n",
            "\n",
            "See the caveats in the documentation: https://pandas.pydata.org/pandas-docs/stable/user_guide/indexing.html#returning-a-view-versus-a-copy\n",
            "  This is separate from the ipykernel package so we can avoid doing imports until\n",
            "/usr/local/lib/python3.7/dist-packages/ipykernel_launcher.py:5: SettingWithCopyWarning: \n",
            "A value is trying to be set on a copy of a slice from a DataFrame.\n",
            "Try using .loc[row_indexer,col_indexer] = value instead\n",
            "\n",
            "See the caveats in the documentation: https://pandas.pydata.org/pandas-docs/stable/user_guide/indexing.html#returning-a-view-versus-a-copy\n",
            "  \"\"\"\n",
            "/usr/local/lib/python3.7/dist-packages/ipykernel_launcher.py:6: SettingWithCopyWarning: \n",
            "A value is trying to be set on a copy of a slice from a DataFrame.\n",
            "Try using .loc[row_indexer,col_indexer] = value instead\n",
            "\n",
            "See the caveats in the documentation: https://pandas.pydata.org/pandas-docs/stable/user_guide/indexing.html#returning-a-view-versus-a-copy\n",
            "  \n",
            "/usr/local/lib/python3.7/dist-packages/ipykernel_launcher.py:7: SettingWithCopyWarning: \n",
            "A value is trying to be set on a copy of a slice from a DataFrame.\n",
            "Try using .loc[row_indexer,col_indexer] = value instead\n",
            "\n",
            "See the caveats in the documentation: https://pandas.pydata.org/pandas-docs/stable/user_guide/indexing.html#returning-a-view-versus-a-copy\n",
            "  import sys\n",
            "/usr/local/lib/python3.7/dist-packages/ipykernel_launcher.py:9: SettingWithCopyWarning: \n",
            "A value is trying to be set on a copy of a slice from a DataFrame.\n",
            "Try using .loc[row_indexer,col_indexer] = value instead\n",
            "\n",
            "See the caveats in the documentation: https://pandas.pydata.org/pandas-docs/stable/user_guide/indexing.html#returning-a-view-versus-a-copy\n",
            "  if __name__ == '__main__':\n",
            "/usr/local/lib/python3.7/dist-packages/ipykernel_launcher.py:10: SettingWithCopyWarning: \n",
            "A value is trying to be set on a copy of a slice from a DataFrame.\n",
            "Try using .loc[row_indexer,col_indexer] = value instead\n",
            "\n",
            "See the caveats in the documentation: https://pandas.pydata.org/pandas-docs/stable/user_guide/indexing.html#returning-a-view-versus-a-copy\n",
            "  # Remove the CWD from sys.path while we load stuff.\n",
            "/usr/local/lib/python3.7/dist-packages/ipykernel_launcher.py:11: SettingWithCopyWarning: \n",
            "A value is trying to be set on a copy of a slice from a DataFrame.\n",
            "Try using .loc[row_indexer,col_indexer] = value instead\n",
            "\n",
            "See the caveats in the documentation: https://pandas.pydata.org/pandas-docs/stable/user_guide/indexing.html#returning-a-view-versus-a-copy\n",
            "  # This is added back by InteractiveShellApp.init_path()\n",
            "/usr/local/lib/python3.7/dist-packages/ipykernel_launcher.py:13: SettingWithCopyWarning: \n",
            "A value is trying to be set on a copy of a slice from a DataFrame.\n",
            "Try using .loc[row_indexer,col_indexer] = value instead\n",
            "\n",
            "See the caveats in the documentation: https://pandas.pydata.org/pandas-docs/stable/user_guide/indexing.html#returning-a-view-versus-a-copy\n",
            "  del sys.path[0]\n",
            "/usr/local/lib/python3.7/dist-packages/ipykernel_launcher.py:14: SettingWithCopyWarning: \n",
            "A value is trying to be set on a copy of a slice from a DataFrame.\n",
            "Try using .loc[row_indexer,col_indexer] = value instead\n",
            "\n",
            "See the caveats in the documentation: https://pandas.pydata.org/pandas-docs/stable/user_guide/indexing.html#returning-a-view-versus-a-copy\n",
            "  \n",
            "/usr/local/lib/python3.7/dist-packages/ipykernel_launcher.py:15: SettingWithCopyWarning: \n",
            "A value is trying to be set on a copy of a slice from a DataFrame.\n",
            "Try using .loc[row_indexer,col_indexer] = value instead\n",
            "\n",
            "See the caveats in the documentation: https://pandas.pydata.org/pandas-docs/stable/user_guide/indexing.html#returning-a-view-versus-a-copy\n",
            "  from ipykernel import kernelapp as app\n"
          ]
        }
      ],
      "source": [
        "nulldata['day_of_postingdate'] = nulldata['posting_date'].dt.day\n",
        "nulldata['month_of_postingdate'] = nulldata['posting_date'].dt.month\n",
        "nulldata['year_of_postingdate'] = nulldata['posting_date'].dt.year\n",
        "\n",
        "nulldata['day_of_due'] = nulldata['due_in_date'].dt.day\n",
        "nulldata['month_of_due'] = nulldata['due_in_date'].dt.month\n",
        "nulldata['year_of_due'] = nulldata['due_in_date'].dt.year\n",
        "\n",
        "nulldata['day_of_cleardate'] = nulldata['clear_date'].dt.day\n",
        "nulldata['month_of_cleardate'] = nulldata['clear_date'].dt.month\n",
        "nulldata['year_of_cleardate'] = nulldata['clear_date'].dt.year\n",
        "\n",
        "nulldata['day_of_createdate'] = nulldata['baseline_create_date'].dt.day\n",
        "nulldata['month_of_createdate'] = nulldata['baseline_create_date'].dt.month\n",
        "nulldata['year_of_createdate'] = nulldata['baseline_create_date'].dt.year"
      ]
    },
    {
      "cell_type": "code",
      "source": [
        "nulldata.head()"
      ],
      "metadata": {
        "id": "7Nod73m-9ZD_",
        "outputId": "b7ad1906-82df-42d9-eb5d-93057a18b6b2",
        "colab": {
          "base_uri": "https://localhost:8080/",
          "height": 317
        }
      },
      "id": "7Nod73m-9ZD_",
      "execution_count": null,
      "outputs": [
        {
          "output_type": "execute_result",
          "data": {
            "text/plain": [
              "   business_code  cust_number     name_customer clear_date  buisness_year  \\\n",
              "3           CA02    140105686          SYSC llc        NaT         2020.0   \n",
              "7           U001    200744019           TARG us        NaT         2020.0   \n",
              "10          U001    200418007               AM         NaT         2020.0   \n",
              "14          U001    200739534        OK systems        NaT         2020.0   \n",
              "15          U001    200353024  DECA corporation        NaT         2020.0   \n",
              "\n",
              "          doc_id posting_date due_in_date baseline_create_date  \\\n",
              "3   2.960623e+09   2020-03-30  2020-04-10           2020-03-31   \n",
              "7   1.930659e+09   2020-03-19  2020-04-03           2020-03-19   \n",
              "10  1.930611e+09   2020-03-11  2020-03-26           2020-03-11   \n",
              "14  1.930788e+09   2020-04-15  2020-04-30           2020-04-15   \n",
              "15  1.930817e+09   2020-04-23  2020-04-26           2020-04-16   \n",
              "\n",
              "   cust_payment_terms  ...  year_of_postingdate  day_of_due  month_of_due  \\\n",
              "3                CA10  ...                 2020          10             4   \n",
              "7                NAA8  ...                 2020           3             4   \n",
              "10               NAA8  ...                 2020          26             3   \n",
              "14               NAA8  ...                 2020          30             4   \n",
              "15               NAM2  ...                 2020          26             4   \n",
              "\n",
              "    year_of_due  day_of_cleardate  month_of_cleardate  year_of_cleardate  \\\n",
              "3          2020               NaN                 NaN                NaN   \n",
              "7          2020               NaN                 NaN                NaN   \n",
              "10         2020               NaN                 NaN                NaN   \n",
              "14         2020               NaN                 NaN                NaN   \n",
              "15         2020               NaN                 NaN                NaN   \n",
              "\n",
              "    day_of_createdate  month_of_createdate  year_of_createdate  \n",
              "3                  31                    3                2020  \n",
              "7                  19                    3                2020  \n",
              "10                 11                    3                2020  \n",
              "14                 15                    4                2020  \n",
              "15                 16                    4                2020  \n",
              "\n",
              "[5 rows x 24 columns]"
            ],
            "text/html": [
              "\n",
              "  <div id=\"df-8546baa5-eb9b-4ae2-acbf-ae610a6ad84d\">\n",
              "    <div class=\"colab-df-container\">\n",
              "      <div>\n",
              "<style scoped>\n",
              "    .dataframe tbody tr th:only-of-type {\n",
              "        vertical-align: middle;\n",
              "    }\n",
              "\n",
              "    .dataframe tbody tr th {\n",
              "        vertical-align: top;\n",
              "    }\n",
              "\n",
              "    .dataframe thead th {\n",
              "        text-align: right;\n",
              "    }\n",
              "</style>\n",
              "<table border=\"1\" class=\"dataframe\">\n",
              "  <thead>\n",
              "    <tr style=\"text-align: right;\">\n",
              "      <th></th>\n",
              "      <th>business_code</th>\n",
              "      <th>cust_number</th>\n",
              "      <th>name_customer</th>\n",
              "      <th>clear_date</th>\n",
              "      <th>buisness_year</th>\n",
              "      <th>doc_id</th>\n",
              "      <th>posting_date</th>\n",
              "      <th>due_in_date</th>\n",
              "      <th>baseline_create_date</th>\n",
              "      <th>cust_payment_terms</th>\n",
              "      <th>...</th>\n",
              "      <th>year_of_postingdate</th>\n",
              "      <th>day_of_due</th>\n",
              "      <th>month_of_due</th>\n",
              "      <th>year_of_due</th>\n",
              "      <th>day_of_cleardate</th>\n",
              "      <th>month_of_cleardate</th>\n",
              "      <th>year_of_cleardate</th>\n",
              "      <th>day_of_createdate</th>\n",
              "      <th>month_of_createdate</th>\n",
              "      <th>year_of_createdate</th>\n",
              "    </tr>\n",
              "  </thead>\n",
              "  <tbody>\n",
              "    <tr>\n",
              "      <th>3</th>\n",
              "      <td>CA02</td>\n",
              "      <td>140105686</td>\n",
              "      <td>SYSC llc</td>\n",
              "      <td>NaT</td>\n",
              "      <td>2020.0</td>\n",
              "      <td>2.960623e+09</td>\n",
              "      <td>2020-03-30</td>\n",
              "      <td>2020-04-10</td>\n",
              "      <td>2020-03-31</td>\n",
              "      <td>CA10</td>\n",
              "      <td>...</td>\n",
              "      <td>2020</td>\n",
              "      <td>10</td>\n",
              "      <td>4</td>\n",
              "      <td>2020</td>\n",
              "      <td>NaN</td>\n",
              "      <td>NaN</td>\n",
              "      <td>NaN</td>\n",
              "      <td>31</td>\n",
              "      <td>3</td>\n",
              "      <td>2020</td>\n",
              "    </tr>\n",
              "    <tr>\n",
              "      <th>7</th>\n",
              "      <td>U001</td>\n",
              "      <td>200744019</td>\n",
              "      <td>TARG us</td>\n",
              "      <td>NaT</td>\n",
              "      <td>2020.0</td>\n",
              "      <td>1.930659e+09</td>\n",
              "      <td>2020-03-19</td>\n",
              "      <td>2020-04-03</td>\n",
              "      <td>2020-03-19</td>\n",
              "      <td>NAA8</td>\n",
              "      <td>...</td>\n",
              "      <td>2020</td>\n",
              "      <td>3</td>\n",
              "      <td>4</td>\n",
              "      <td>2020</td>\n",
              "      <td>NaN</td>\n",
              "      <td>NaN</td>\n",
              "      <td>NaN</td>\n",
              "      <td>19</td>\n",
              "      <td>3</td>\n",
              "      <td>2020</td>\n",
              "    </tr>\n",
              "    <tr>\n",
              "      <th>10</th>\n",
              "      <td>U001</td>\n",
              "      <td>200418007</td>\n",
              "      <td>AM</td>\n",
              "      <td>NaT</td>\n",
              "      <td>2020.0</td>\n",
              "      <td>1.930611e+09</td>\n",
              "      <td>2020-03-11</td>\n",
              "      <td>2020-03-26</td>\n",
              "      <td>2020-03-11</td>\n",
              "      <td>NAA8</td>\n",
              "      <td>...</td>\n",
              "      <td>2020</td>\n",
              "      <td>26</td>\n",
              "      <td>3</td>\n",
              "      <td>2020</td>\n",
              "      <td>NaN</td>\n",
              "      <td>NaN</td>\n",
              "      <td>NaN</td>\n",
              "      <td>11</td>\n",
              "      <td>3</td>\n",
              "      <td>2020</td>\n",
              "    </tr>\n",
              "    <tr>\n",
              "      <th>14</th>\n",
              "      <td>U001</td>\n",
              "      <td>200739534</td>\n",
              "      <td>OK systems</td>\n",
              "      <td>NaT</td>\n",
              "      <td>2020.0</td>\n",
              "      <td>1.930788e+09</td>\n",
              "      <td>2020-04-15</td>\n",
              "      <td>2020-04-30</td>\n",
              "      <td>2020-04-15</td>\n",
              "      <td>NAA8</td>\n",
              "      <td>...</td>\n",
              "      <td>2020</td>\n",
              "      <td>30</td>\n",
              "      <td>4</td>\n",
              "      <td>2020</td>\n",
              "      <td>NaN</td>\n",
              "      <td>NaN</td>\n",
              "      <td>NaN</td>\n",
              "      <td>15</td>\n",
              "      <td>4</td>\n",
              "      <td>2020</td>\n",
              "    </tr>\n",
              "    <tr>\n",
              "      <th>15</th>\n",
              "      <td>U001</td>\n",
              "      <td>200353024</td>\n",
              "      <td>DECA corporation</td>\n",
              "      <td>NaT</td>\n",
              "      <td>2020.0</td>\n",
              "      <td>1.930817e+09</td>\n",
              "      <td>2020-04-23</td>\n",
              "      <td>2020-04-26</td>\n",
              "      <td>2020-04-16</td>\n",
              "      <td>NAM2</td>\n",
              "      <td>...</td>\n",
              "      <td>2020</td>\n",
              "      <td>26</td>\n",
              "      <td>4</td>\n",
              "      <td>2020</td>\n",
              "      <td>NaN</td>\n",
              "      <td>NaN</td>\n",
              "      <td>NaN</td>\n",
              "      <td>16</td>\n",
              "      <td>4</td>\n",
              "      <td>2020</td>\n",
              "    </tr>\n",
              "  </tbody>\n",
              "</table>\n",
              "<p>5 rows × 24 columns</p>\n",
              "</div>\n",
              "      <button class=\"colab-df-convert\" onclick=\"convertToInteractive('df-8546baa5-eb9b-4ae2-acbf-ae610a6ad84d')\"\n",
              "              title=\"Convert this dataframe to an interactive table.\"\n",
              "              style=\"display:none;\">\n",
              "        \n",
              "  <svg xmlns=\"http://www.w3.org/2000/svg\" height=\"24px\"viewBox=\"0 0 24 24\"\n",
              "       width=\"24px\">\n",
              "    <path d=\"M0 0h24v24H0V0z\" fill=\"none\"/>\n",
              "    <path d=\"M18.56 5.44l.94 2.06.94-2.06 2.06-.94-2.06-.94-.94-2.06-.94 2.06-2.06.94zm-11 1L8.5 8.5l.94-2.06 2.06-.94-2.06-.94L8.5 2.5l-.94 2.06-2.06.94zm10 10l.94 2.06.94-2.06 2.06-.94-2.06-.94-.94-2.06-.94 2.06-2.06.94z\"/><path d=\"M17.41 7.96l-1.37-1.37c-.4-.4-.92-.59-1.43-.59-.52 0-1.04.2-1.43.59L10.3 9.45l-7.72 7.72c-.78.78-.78 2.05 0 2.83L4 21.41c.39.39.9.59 1.41.59.51 0 1.02-.2 1.41-.59l7.78-7.78 2.81-2.81c.8-.78.8-2.07 0-2.86zM5.41 20L4 18.59l7.72-7.72 1.47 1.35L5.41 20z\"/>\n",
              "  </svg>\n",
              "      </button>\n",
              "      \n",
              "  <style>\n",
              "    .colab-df-container {\n",
              "      display:flex;\n",
              "      flex-wrap:wrap;\n",
              "      gap: 12px;\n",
              "    }\n",
              "\n",
              "    .colab-df-convert {\n",
              "      background-color: #E8F0FE;\n",
              "      border: none;\n",
              "      border-radius: 50%;\n",
              "      cursor: pointer;\n",
              "      display: none;\n",
              "      fill: #1967D2;\n",
              "      height: 32px;\n",
              "      padding: 0 0 0 0;\n",
              "      width: 32px;\n",
              "    }\n",
              "\n",
              "    .colab-df-convert:hover {\n",
              "      background-color: #E2EBFA;\n",
              "      box-shadow: 0px 1px 2px rgba(60, 64, 67, 0.3), 0px 1px 3px 1px rgba(60, 64, 67, 0.15);\n",
              "      fill: #174EA6;\n",
              "    }\n",
              "\n",
              "    [theme=dark] .colab-df-convert {\n",
              "      background-color: #3B4455;\n",
              "      fill: #D2E3FC;\n",
              "    }\n",
              "\n",
              "    [theme=dark] .colab-df-convert:hover {\n",
              "      background-color: #434B5C;\n",
              "      box-shadow: 0px 1px 3px 1px rgba(0, 0, 0, 0.15);\n",
              "      filter: drop-shadow(0px 1px 2px rgba(0, 0, 0, 0.3));\n",
              "      fill: #FFFFFF;\n",
              "    }\n",
              "  </style>\n",
              "\n",
              "      <script>\n",
              "        const buttonEl =\n",
              "          document.querySelector('#df-8546baa5-eb9b-4ae2-acbf-ae610a6ad84d button.colab-df-convert');\n",
              "        buttonEl.style.display =\n",
              "          google.colab.kernel.accessAllowed ? 'block' : 'none';\n",
              "\n",
              "        async function convertToInteractive(key) {\n",
              "          const element = document.querySelector('#df-8546baa5-eb9b-4ae2-acbf-ae610a6ad84d');\n",
              "          const dataTable =\n",
              "            await google.colab.kernel.invokeFunction('convertToInteractive',\n",
              "                                                     [key], {});\n",
              "          if (!dataTable) return;\n",
              "\n",
              "          const docLinkHtml = 'Like what you see? Visit the ' +\n",
              "            '<a target=\"_blank\" href=https://colab.research.google.com/notebooks/data_table.ipynb>data table notebook</a>'\n",
              "            + ' to learn more about interactive tables.';\n",
              "          element.innerHTML = '';\n",
              "          dataTable['output_type'] = 'display_data';\n",
              "          await google.colab.output.renderOutput(dataTable, element);\n",
              "          const docLink = document.createElement('div');\n",
              "          docLink.innerHTML = docLinkHtml;\n",
              "          element.appendChild(docLink);\n",
              "        }\n",
              "      </script>\n",
              "    </div>\n",
              "  </div>\n",
              "  "
            ]
          },
          "metadata": {},
          "execution_count": 130
        }
      ]
    },
    {
      "cell_type": "markdown",
      "source": [
        "### Use Label Encoder1 of all the following columns - \n",
        "- 'cust_payment_terms' and store into 'cust_payment_terms_enc'\n",
        "- 'business_code' and store into 'business_code_enc'\n",
        "- 'name_customer' and store into 'name_customer_enc'\n",
        "\n",
        "Note - No need to change the code"
      ],
      "metadata": {
        "id": "QeHWJYrAvOC6"
      },
      "id": "QeHWJYrAvOC6"
    },
    {
      "cell_type": "code",
      "execution_count": null,
      "id": "bac330e2",
      "metadata": {
        "id": "bac330e2",
        "outputId": "23f54c5c-e3b1-43bb-8480-1b3ffb7c3e87",
        "colab": {
          "base_uri": "https://localhost:8080/"
        }
      },
      "outputs": [
        {
          "output_type": "stream",
          "name": "stderr",
          "text": [
            "/usr/local/lib/python3.7/dist-packages/ipykernel_launcher.py:1: SettingWithCopyWarning: \n",
            "A value is trying to be set on a copy of a slice from a DataFrame.\n",
            "Try using .loc[row_indexer,col_indexer] = value instead\n",
            "\n",
            "See the caveats in the documentation: https://pandas.pydata.org/pandas-docs/stable/user_guide/indexing.html#returning-a-view-versus-a-copy\n",
            "  \"\"\"Entry point for launching an IPython kernel.\n",
            "/usr/local/lib/python3.7/dist-packages/ipykernel_launcher.py:2: SettingWithCopyWarning: \n",
            "A value is trying to be set on a copy of a slice from a DataFrame.\n",
            "Try using .loc[row_indexer,col_indexer] = value instead\n",
            "\n",
            "See the caveats in the documentation: https://pandas.pydata.org/pandas-docs/stable/user_guide/indexing.html#returning-a-view-versus-a-copy\n",
            "  \n",
            "/usr/local/lib/python3.7/dist-packages/ipykernel_launcher.py:3: SettingWithCopyWarning: \n",
            "A value is trying to be set on a copy of a slice from a DataFrame.\n",
            "Try using .loc[row_indexer,col_indexer] = value instead\n",
            "\n",
            "See the caveats in the documentation: https://pandas.pydata.org/pandas-docs/stable/user_guide/indexing.html#returning-a-view-versus-a-copy\n",
            "  This is separate from the ipykernel package so we can avoid doing imports until\n"
          ]
        }
      ],
      "source": [
        "nulldata['cust_payment_terms_enc']=label_encoder1.transform(nulldata['cust_payment_terms'])\n",
        "nulldata['business_code_enc']=label_encoder1.transform(nulldata['business_code'])\n",
        "nulldata['name_customer_enc']=label_encoder.transform(nulldata['name_customer'])\n"
      ]
    },
    {
      "cell_type": "markdown",
      "source": [
        "### Check for the datatypes of all the columns of Nulldata"
      ],
      "metadata": {
        "id": "zD9I-XqQwC28"
      },
      "id": "zD9I-XqQwC28"
    },
    {
      "cell_type": "code",
      "execution_count": null,
      "id": "d4f72517",
      "metadata": {
        "id": "d4f72517",
        "outputId": "03908ad9-cff7-4e74-e04c-90f5b3f5f223",
        "colab": {
          "base_uri": "https://localhost:8080/"
        }
      },
      "outputs": [
        {
          "output_type": "execute_result",
          "data": {
            "text/plain": [
              "business_code                     object\n",
              "cust_number                        int64\n",
              "name_customer                     object\n",
              "clear_date                datetime64[ns]\n",
              "buisness_year                    float64\n",
              "doc_id                           float64\n",
              "posting_date              datetime64[ns]\n",
              "due_in_date               datetime64[ns]\n",
              "baseline_create_date      datetime64[ns]\n",
              "cust_payment_terms                object\n",
              "converted_usd                    float64\n",
              "business_code_enc                  int64\n",
              "day_of_postingdate                 int64\n",
              "month_of_postingdate               int64\n",
              "year_of_postingdate                int64\n",
              "day_of_due                         int64\n",
              "month_of_due                       int64\n",
              "year_of_due                        int64\n",
              "day_of_cleardate                 float64\n",
              "month_of_cleardate               float64\n",
              "year_of_cleardate                float64\n",
              "day_of_createdate                  int64\n",
              "month_of_createdate                int64\n",
              "year_of_createdate                 int64\n",
              "cust_payment_terms_enc             int64\n",
              "name_customer_enc                  int64\n",
              "dtype: object"
            ]
          },
          "metadata": {},
          "execution_count": 132
        }
      ],
      "source": [
        "nulldata.dtypes"
      ]
    },
    {
      "cell_type": "markdown",
      "id": "17cd5452",
      "metadata": {
        "id": "17cd5452"
      },
      "source": [
        "### Now you need to drop all the unnecessary columns - \n",
        "\n",
        "- 'business_code'\n",
        "- \"baseline_create_date\"\n",
        "- \"due_in_date\"\n",
        "- \"posting_date\"\n",
        "- \"name_customer\"\n",
        "- \"clear_date\"\n",
        "- \"cust_payment_terms\"\n",
        "- 'day_of_cleardate'\n",
        "- \"month_of_cleardate\"\n",
        "- \"year_of_cleardate\""
      ]
    },
    {
      "cell_type": "code",
      "execution_count": null,
      "id": "d7c82076",
      "metadata": {
        "id": "d7c82076",
        "outputId": "bc79258a-c770-4505-b155-a96cd3f68bb7",
        "colab": {
          "base_uri": "https://localhost:8080/"
        }
      },
      "outputs": [
        {
          "output_type": "stream",
          "name": "stderr",
          "text": [
            "/usr/local/lib/python3.7/dist-packages/pandas/core/frame.py:4913: SettingWithCopyWarning: \n",
            "A value is trying to be set on a copy of a slice from a DataFrame\n",
            "\n",
            "See the caveats in the documentation: https://pandas.pydata.org/pandas-docs/stable/user_guide/indexing.html#returning-a-view-versus-a-copy\n",
            "  errors=errors,\n"
          ]
        }
      ],
      "source": [
        "cols_to_drop = ['business_code', \"baseline_create_date\", \"due_in_date\", \"posting_date\", \"name_customer\", \"clear_date\", \"cust_payment_terms\",'day_of_cleardate', \"month_of_cleardate\", \"year_of_cleardate\"]\n",
        "nulldata.drop(cols_to_drop, axis=1, inplace=True)"
      ]
    },
    {
      "cell_type": "markdown",
      "source": [
        "### Check the information of the \"nulldata\" dataframe"
      ],
      "metadata": {
        "id": "Q_NCr9IPweVq"
      },
      "id": "Q_NCr9IPweVq"
    },
    {
      "cell_type": "code",
      "execution_count": null,
      "id": "4e7ffee0",
      "metadata": {
        "id": "4e7ffee0",
        "outputId": "f5d5a8bb-aabd-48a9-d083-b932b556b277",
        "colab": {
          "base_uri": "https://localhost:8080/"
        }
      },
      "outputs": [
        {
          "output_type": "stream",
          "name": "stdout",
          "text": [
            "<class 'pandas.core.frame.DataFrame'>\n",
            "Int64Index: 9681 entries, 3 to 49995\n",
            "Data columns (total 16 columns):\n",
            " #   Column                  Non-Null Count  Dtype  \n",
            "---  ------                  --------------  -----  \n",
            " 0   cust_number             9681 non-null   int64  \n",
            " 1   buisness_year           9681 non-null   float64\n",
            " 2   doc_id                  9681 non-null   float64\n",
            " 3   converted_usd           9681 non-null   float64\n",
            " 4   business_code_enc       9681 non-null   int64  \n",
            " 5   day_of_postingdate      9681 non-null   int64  \n",
            " 6   month_of_postingdate    9681 non-null   int64  \n",
            " 7   year_of_postingdate     9681 non-null   int64  \n",
            " 8   day_of_due              9681 non-null   int64  \n",
            " 9   month_of_due            9681 non-null   int64  \n",
            " 10  year_of_due             9681 non-null   int64  \n",
            " 11  day_of_createdate       9681 non-null   int64  \n",
            " 12  month_of_createdate     9681 non-null   int64  \n",
            " 13  year_of_createdate      9681 non-null   int64  \n",
            " 14  cust_payment_terms_enc  9681 non-null   int64  \n",
            " 15  name_customer_enc       9681 non-null   int64  \n",
            "dtypes: float64(3), int64(13)\n",
            "memory usage: 1.3 MB\n"
          ]
        }
      ],
      "source": [
        "nulldata.info()"
      ]
    },
    {
      "cell_type": "markdown",
      "source": [
        "### Compare \"nulldata\" with the \"X_test\" dataframe \n",
        "\n",
        "- use info() method"
      ],
      "metadata": {
        "id": "-XvjhWqmwi-C"
      },
      "id": "-XvjhWqmwi-C"
    },
    {
      "cell_type": "code",
      "execution_count": null,
      "id": "02f4b62d",
      "metadata": {
        "id": "02f4b62d",
        "outputId": "dc96d65d-33f7-4fb0-bff6-e18edf9a706c",
        "colab": {
          "base_uri": "https://localhost:8080/"
        }
      },
      "outputs": [
        {
          "output_type": "stream",
          "name": "stdout",
          "text": [
            "<class 'pandas.core.frame.DataFrame'>\n",
            "Int64Index: 9681 entries, 3 to 49995\n",
            "Data columns (total 16 columns):\n",
            " #   Column                  Non-Null Count  Dtype  \n",
            "---  ------                  --------------  -----  \n",
            " 0   cust_number             9681 non-null   int64  \n",
            " 1   buisness_year           9681 non-null   float64\n",
            " 2   doc_id                  9681 non-null   float64\n",
            " 3   converted_usd           9681 non-null   float64\n",
            " 4   business_code_enc       9681 non-null   int64  \n",
            " 5   day_of_postingdate      9681 non-null   int64  \n",
            " 6   month_of_postingdate    9681 non-null   int64  \n",
            " 7   year_of_postingdate     9681 non-null   int64  \n",
            " 8   day_of_due              9681 non-null   int64  \n",
            " 9   month_of_due            9681 non-null   int64  \n",
            " 10  year_of_due             9681 non-null   int64  \n",
            " 11  day_of_createdate       9681 non-null   int64  \n",
            " 12  month_of_createdate     9681 non-null   int64  \n",
            " 13  year_of_createdate      9681 non-null   int64  \n",
            " 14  cust_payment_terms_enc  9681 non-null   int64  \n",
            " 15  name_customer_enc       9681 non-null   int64  \n",
            "dtypes: float64(3), int64(13)\n",
            "memory usage: 1.3 MB\n"
          ]
        }
      ],
      "source": [
        "nulldata.info()"
      ]
    },
    {
      "cell_type": "code",
      "source": [
        "X_test.info()"
      ],
      "metadata": {
        "id": "31_ZvZZZ9tnu",
        "outputId": "7dd0fca4-075f-48c4-bf33-b971ff19c41e",
        "colab": {
          "base_uri": "https://localhost:8080/"
        }
      },
      "id": "31_ZvZZZ9tnu",
      "execution_count": null,
      "outputs": [
        {
          "output_type": "stream",
          "name": "stdout",
          "text": [
            "<class 'pandas.core.frame.DataFrame'>\n",
            "Int64Index: 7832 entries, 9534 to 29240\n",
            "Data columns (total 16 columns):\n",
            " #   Column                  Non-Null Count  Dtype  \n",
            "---  ------                  --------------  -----  \n",
            " 0   cust_number             7832 non-null   int64  \n",
            " 1   buisness_year           7832 non-null   float64\n",
            " 2   doc_id                  7832 non-null   float64\n",
            " 3   converted_usd           7832 non-null   float64\n",
            " 4   business_code_enc       7832 non-null   int64  \n",
            " 5   name_customer_enc       7832 non-null   int64  \n",
            " 6   cust_payment_terms_enc  7832 non-null   int64  \n",
            " 7   day_of_postingdate      7832 non-null   int64  \n",
            " 8   month_of_postingdate    7832 non-null   int64  \n",
            " 9   year_of_postingdate     7832 non-null   int64  \n",
            " 10  day_of_createdate       7832 non-null   int64  \n",
            " 11  month_of_createdate     7832 non-null   int64  \n",
            " 12  year_of_createdate      7832 non-null   int64  \n",
            " 13  day_of_due              7832 non-null   int64  \n",
            " 14  month_of_due            7832 non-null   int64  \n",
            " 15  year_of_due             7832 non-null   int64  \n",
            "dtypes: float64(3), int64(13)\n",
            "memory usage: 1.0 MB\n"
          ]
        }
      ]
    },
    {
      "cell_type": "markdown",
      "source": [
        "### You must have noticed that there is a mismatch in the column sequence while compairing the dataframes\n",
        "\n",
        "- Note - In order to fed into the machine learning model, you need to edit the sequence of \"nulldata\", similar to the \"X_test\" dataframe"
      ],
      "metadata": {
        "id": "Us3ey-9zwqjq"
      },
      "id": "Us3ey-9zwqjq"
    },
    {
      "cell_type": "markdown",
      "source": [
        "- Display all the columns of the X_test dataframe \n",
        "- Display all the columns of the Nulldata dataframe \n",
        "- Store the Nulldata with new sequence into a new dataframe \n",
        "\n",
        "\n",
        "- Note - The code is given below, no need to change "
      ],
      "metadata": {
        "id": "vduVNt1kxPW-"
      },
      "id": "vduVNt1kxPW-"
    },
    {
      "cell_type": "code",
      "execution_count": null,
      "id": "6729353e",
      "metadata": {
        "id": "6729353e",
        "outputId": "12c82a4a-c583-4f80-ea24-8f9c08a4c73a",
        "colab": {
          "base_uri": "https://localhost:8080/"
        }
      },
      "outputs": [
        {
          "output_type": "execute_result",
          "data": {
            "text/plain": [
              "Index(['cust_number', 'buisness_year', 'doc_id', 'converted_usd',\n",
              "       'business_code_enc', 'name_customer_enc', 'cust_payment_terms_enc',\n",
              "       'day_of_postingdate', 'month_of_postingdate', 'year_of_postingdate',\n",
              "       'day_of_createdate', 'month_of_createdate', 'year_of_createdate',\n",
              "       'day_of_due', 'month_of_due', 'year_of_due'],\n",
              "      dtype='object')"
            ]
          },
          "metadata": {},
          "execution_count": 137
        }
      ],
      "source": [
        "X_test.columns"
      ]
    },
    {
      "cell_type": "code",
      "execution_count": null,
      "id": "47bd9c5e",
      "metadata": {
        "id": "47bd9c5e",
        "outputId": "0ff1e090-e2d7-4055-bb63-4d46601927c7",
        "colab": {
          "base_uri": "https://localhost:8080/"
        }
      },
      "outputs": [
        {
          "output_type": "execute_result",
          "data": {
            "text/plain": [
              "Index(['cust_number', 'buisness_year', 'doc_id', 'converted_usd',\n",
              "       'business_code_enc', 'day_of_postingdate', 'month_of_postingdate',\n",
              "       'year_of_postingdate', 'day_of_due', 'month_of_due', 'year_of_due',\n",
              "       'day_of_createdate', 'month_of_createdate', 'year_of_createdate',\n",
              "       'cust_payment_terms_enc', 'name_customer_enc'],\n",
              "      dtype='object')"
            ]
          },
          "metadata": {},
          "execution_count": 138
        }
      ],
      "source": [
        "nulldata.columns"
      ]
    },
    {
      "cell_type": "code",
      "execution_count": null,
      "id": "aa5a2103",
      "metadata": {
        "id": "aa5a2103"
      },
      "outputs": [],
      "source": [
        "nulldata2=nulldata[['cust_number', 'buisness_year', 'doc_id', 'converted_usd',\n",
        "       'business_code_enc', 'name_customer_enc', 'cust_payment_terms_enc',\n",
        "       'day_of_postingdate', 'month_of_postingdate', 'year_of_postingdate',\n",
        "       'day_of_createdate', 'month_of_createdate', 'year_of_createdate',\n",
        "       'day_of_due', 'month_of_due', 'year_of_due']]"
      ]
    },
    {
      "cell_type": "markdown",
      "id": "1dc8b021",
      "metadata": {
        "id": "1dc8b021"
      },
      "source": [
        "### Display the Final Dataset"
      ]
    },
    {
      "cell_type": "code",
      "execution_count": null,
      "id": "2f39785a",
      "metadata": {
        "id": "2f39785a",
        "outputId": "28d7ff8b-34f2-4075-fecb-622b307dbe1a",
        "colab": {
          "base_uri": "https://localhost:8080/",
          "height": 270
        }
      },
      "outputs": [
        {
          "output_type": "execute_result",
          "data": {
            "text/plain": [
              "    cust_number  buisness_year        doc_id  converted_usd  \\\n",
              "3     140105686         2020.0  2.960623e+09        2309.79   \n",
              "7     200744019         2020.0  1.930659e+09       11173.02   \n",
              "10    200418007         2020.0  1.930611e+09        3525.59   \n",
              "14    200739534         2020.0  1.930788e+09      121105.65   \n",
              "15    200353024         2020.0  1.930817e+09        3726.06   \n",
              "\n",
              "    business_code_enc  name_customer_enc  cust_payment_terms_enc  \\\n",
              "3                  62               2700                       3   \n",
              "7                  62               2786                      17   \n",
              "10                 62                 94                      17   \n",
              "14                 62               2024                      17   \n",
              "15                 62                735                      33   \n",
              "\n",
              "    day_of_postingdate  month_of_postingdate  year_of_postingdate  \\\n",
              "3                   30                     3                 2020   \n",
              "7                   19                     3                 2020   \n",
              "10                  11                     3                 2020   \n",
              "14                  15                     4                 2020   \n",
              "15                  23                     4                 2020   \n",
              "\n",
              "    day_of_createdate  month_of_createdate  year_of_createdate  day_of_due  \\\n",
              "3                  31                    3                2020          10   \n",
              "7                  19                    3                2020           3   \n",
              "10                 11                    3                2020          26   \n",
              "14                 15                    4                2020          30   \n",
              "15                 16                    4                2020          26   \n",
              "\n",
              "    month_of_due  year_of_due  \n",
              "3              4         2020  \n",
              "7              4         2020  \n",
              "10             3         2020  \n",
              "14             4         2020  \n",
              "15             4         2020  "
            ],
            "text/html": [
              "\n",
              "  <div id=\"df-7128d2e1-311e-43b2-acf4-fb3718f29984\">\n",
              "    <div class=\"colab-df-container\">\n",
              "      <div>\n",
              "<style scoped>\n",
              "    .dataframe tbody tr th:only-of-type {\n",
              "        vertical-align: middle;\n",
              "    }\n",
              "\n",
              "    .dataframe tbody tr th {\n",
              "        vertical-align: top;\n",
              "    }\n",
              "\n",
              "    .dataframe thead th {\n",
              "        text-align: right;\n",
              "    }\n",
              "</style>\n",
              "<table border=\"1\" class=\"dataframe\">\n",
              "  <thead>\n",
              "    <tr style=\"text-align: right;\">\n",
              "      <th></th>\n",
              "      <th>cust_number</th>\n",
              "      <th>buisness_year</th>\n",
              "      <th>doc_id</th>\n",
              "      <th>converted_usd</th>\n",
              "      <th>business_code_enc</th>\n",
              "      <th>name_customer_enc</th>\n",
              "      <th>cust_payment_terms_enc</th>\n",
              "      <th>day_of_postingdate</th>\n",
              "      <th>month_of_postingdate</th>\n",
              "      <th>year_of_postingdate</th>\n",
              "      <th>day_of_createdate</th>\n",
              "      <th>month_of_createdate</th>\n",
              "      <th>year_of_createdate</th>\n",
              "      <th>day_of_due</th>\n",
              "      <th>month_of_due</th>\n",
              "      <th>year_of_due</th>\n",
              "    </tr>\n",
              "  </thead>\n",
              "  <tbody>\n",
              "    <tr>\n",
              "      <th>3</th>\n",
              "      <td>140105686</td>\n",
              "      <td>2020.0</td>\n",
              "      <td>2.960623e+09</td>\n",
              "      <td>2309.79</td>\n",
              "      <td>62</td>\n",
              "      <td>2700</td>\n",
              "      <td>3</td>\n",
              "      <td>30</td>\n",
              "      <td>3</td>\n",
              "      <td>2020</td>\n",
              "      <td>31</td>\n",
              "      <td>3</td>\n",
              "      <td>2020</td>\n",
              "      <td>10</td>\n",
              "      <td>4</td>\n",
              "      <td>2020</td>\n",
              "    </tr>\n",
              "    <tr>\n",
              "      <th>7</th>\n",
              "      <td>200744019</td>\n",
              "      <td>2020.0</td>\n",
              "      <td>1.930659e+09</td>\n",
              "      <td>11173.02</td>\n",
              "      <td>62</td>\n",
              "      <td>2786</td>\n",
              "      <td>17</td>\n",
              "      <td>19</td>\n",
              "      <td>3</td>\n",
              "      <td>2020</td>\n",
              "      <td>19</td>\n",
              "      <td>3</td>\n",
              "      <td>2020</td>\n",
              "      <td>3</td>\n",
              "      <td>4</td>\n",
              "      <td>2020</td>\n",
              "    </tr>\n",
              "    <tr>\n",
              "      <th>10</th>\n",
              "      <td>200418007</td>\n",
              "      <td>2020.0</td>\n",
              "      <td>1.930611e+09</td>\n",
              "      <td>3525.59</td>\n",
              "      <td>62</td>\n",
              "      <td>94</td>\n",
              "      <td>17</td>\n",
              "      <td>11</td>\n",
              "      <td>3</td>\n",
              "      <td>2020</td>\n",
              "      <td>11</td>\n",
              "      <td>3</td>\n",
              "      <td>2020</td>\n",
              "      <td>26</td>\n",
              "      <td>3</td>\n",
              "      <td>2020</td>\n",
              "    </tr>\n",
              "    <tr>\n",
              "      <th>14</th>\n",
              "      <td>200739534</td>\n",
              "      <td>2020.0</td>\n",
              "      <td>1.930788e+09</td>\n",
              "      <td>121105.65</td>\n",
              "      <td>62</td>\n",
              "      <td>2024</td>\n",
              "      <td>17</td>\n",
              "      <td>15</td>\n",
              "      <td>4</td>\n",
              "      <td>2020</td>\n",
              "      <td>15</td>\n",
              "      <td>4</td>\n",
              "      <td>2020</td>\n",
              "      <td>30</td>\n",
              "      <td>4</td>\n",
              "      <td>2020</td>\n",
              "    </tr>\n",
              "    <tr>\n",
              "      <th>15</th>\n",
              "      <td>200353024</td>\n",
              "      <td>2020.0</td>\n",
              "      <td>1.930817e+09</td>\n",
              "      <td>3726.06</td>\n",
              "      <td>62</td>\n",
              "      <td>735</td>\n",
              "      <td>33</td>\n",
              "      <td>23</td>\n",
              "      <td>4</td>\n",
              "      <td>2020</td>\n",
              "      <td>16</td>\n",
              "      <td>4</td>\n",
              "      <td>2020</td>\n",
              "      <td>26</td>\n",
              "      <td>4</td>\n",
              "      <td>2020</td>\n",
              "    </tr>\n",
              "  </tbody>\n",
              "</table>\n",
              "</div>\n",
              "      <button class=\"colab-df-convert\" onclick=\"convertToInteractive('df-7128d2e1-311e-43b2-acf4-fb3718f29984')\"\n",
              "              title=\"Convert this dataframe to an interactive table.\"\n",
              "              style=\"display:none;\">\n",
              "        \n",
              "  <svg xmlns=\"http://www.w3.org/2000/svg\" height=\"24px\"viewBox=\"0 0 24 24\"\n",
              "       width=\"24px\">\n",
              "    <path d=\"M0 0h24v24H0V0z\" fill=\"none\"/>\n",
              "    <path d=\"M18.56 5.44l.94 2.06.94-2.06 2.06-.94-2.06-.94-.94-2.06-.94 2.06-2.06.94zm-11 1L8.5 8.5l.94-2.06 2.06-.94-2.06-.94L8.5 2.5l-.94 2.06-2.06.94zm10 10l.94 2.06.94-2.06 2.06-.94-2.06-.94-.94-2.06-.94 2.06-2.06.94z\"/><path d=\"M17.41 7.96l-1.37-1.37c-.4-.4-.92-.59-1.43-.59-.52 0-1.04.2-1.43.59L10.3 9.45l-7.72 7.72c-.78.78-.78 2.05 0 2.83L4 21.41c.39.39.9.59 1.41.59.51 0 1.02-.2 1.41-.59l7.78-7.78 2.81-2.81c.8-.78.8-2.07 0-2.86zM5.41 20L4 18.59l7.72-7.72 1.47 1.35L5.41 20z\"/>\n",
              "  </svg>\n",
              "      </button>\n",
              "      \n",
              "  <style>\n",
              "    .colab-df-container {\n",
              "      display:flex;\n",
              "      flex-wrap:wrap;\n",
              "      gap: 12px;\n",
              "    }\n",
              "\n",
              "    .colab-df-convert {\n",
              "      background-color: #E8F0FE;\n",
              "      border: none;\n",
              "      border-radius: 50%;\n",
              "      cursor: pointer;\n",
              "      display: none;\n",
              "      fill: #1967D2;\n",
              "      height: 32px;\n",
              "      padding: 0 0 0 0;\n",
              "      width: 32px;\n",
              "    }\n",
              "\n",
              "    .colab-df-convert:hover {\n",
              "      background-color: #E2EBFA;\n",
              "      box-shadow: 0px 1px 2px rgba(60, 64, 67, 0.3), 0px 1px 3px 1px rgba(60, 64, 67, 0.15);\n",
              "      fill: #174EA6;\n",
              "    }\n",
              "\n",
              "    [theme=dark] .colab-df-convert {\n",
              "      background-color: #3B4455;\n",
              "      fill: #D2E3FC;\n",
              "    }\n",
              "\n",
              "    [theme=dark] .colab-df-convert:hover {\n",
              "      background-color: #434B5C;\n",
              "      box-shadow: 0px 1px 3px 1px rgba(0, 0, 0, 0.15);\n",
              "      filter: drop-shadow(0px 1px 2px rgba(0, 0, 0, 0.3));\n",
              "      fill: #FFFFFF;\n",
              "    }\n",
              "  </style>\n",
              "\n",
              "      <script>\n",
              "        const buttonEl =\n",
              "          document.querySelector('#df-7128d2e1-311e-43b2-acf4-fb3718f29984 button.colab-df-convert');\n",
              "        buttonEl.style.display =\n",
              "          google.colab.kernel.accessAllowed ? 'block' : 'none';\n",
              "\n",
              "        async function convertToInteractive(key) {\n",
              "          const element = document.querySelector('#df-7128d2e1-311e-43b2-acf4-fb3718f29984');\n",
              "          const dataTable =\n",
              "            await google.colab.kernel.invokeFunction('convertToInteractive',\n",
              "                                                     [key], {});\n",
              "          if (!dataTable) return;\n",
              "\n",
              "          const docLinkHtml = 'Like what you see? Visit the ' +\n",
              "            '<a target=\"_blank\" href=https://colab.research.google.com/notebooks/data_table.ipynb>data table notebook</a>'\n",
              "            + ' to learn more about interactive tables.';\n",
              "          element.innerHTML = '';\n",
              "          dataTable['output_type'] = 'display_data';\n",
              "          await google.colab.output.renderOutput(dataTable, element);\n",
              "          const docLink = document.createElement('div');\n",
              "          docLink.innerHTML = docLinkHtml;\n",
              "          element.appendChild(docLink);\n",
              "        }\n",
              "      </script>\n",
              "    </div>\n",
              "  </div>\n",
              "  "
            ]
          },
          "metadata": {},
          "execution_count": 140
        }
      ],
      "source": [
        "nulldata2.head()"
      ]
    },
    {
      "cell_type": "markdown",
      "id": "27b88c5a",
      "metadata": {
        "id": "27b88c5a"
      },
      "source": [
        "### Now you can pass this dataset into you final model and store it into \"final_result\""
      ]
    },
    {
      "cell_type": "code",
      "execution_count": null,
      "id": "9e0b6388",
      "metadata": {
        "id": "9e0b6388"
      },
      "outputs": [],
      "source": [
        "final_result = regressorfinal.predict(nulldata2)"
      ]
    },
    {
      "cell_type": "markdown",
      "id": "9653d3c6",
      "metadata": {
        "id": "9653d3c6"
      },
      "source": [
        "### you need to make the final_result as dataframe, with a column name \"avg_delay\"\n",
        "\n",
        "- Note - No need to change the code"
      ]
    },
    {
      "cell_type": "code",
      "execution_count": null,
      "id": "25ef814d",
      "metadata": {
        "id": "25ef814d"
      },
      "outputs": [],
      "source": [
        "final_result = pd.Series(final_result,name='avg_delay')"
      ]
    },
    {
      "cell_type": "markdown",
      "source": [
        "### Display the \"avg_delay\" column"
      ],
      "metadata": {
        "id": "C86staIhyf2C"
      },
      "id": "C86staIhyf2C"
    },
    {
      "cell_type": "code",
      "execution_count": null,
      "id": "4fd46406",
      "metadata": {
        "id": "4fd46406",
        "outputId": "c912245f-87d8-4145-df2e-f3cbc29ed4b3",
        "colab": {
          "base_uri": "https://localhost:8080/"
        }
      },
      "outputs": [
        {
          "output_type": "execute_result",
          "data": {
            "text/plain": [
              "0       334269.843750\n",
              "1       130799.578125\n",
              "2        -7050.944824\n",
              "3        96737.484375\n",
              "4      -303537.437500\n",
              "            ...      \n",
              "9676   -188360.187500\n",
              "9677   -188360.187500\n",
              "9678   -234120.750000\n",
              "9679    147231.156250\n",
              "9680     -5255.736816\n",
              "Name: avg_delay, Length: 9681, dtype: float32"
            ]
          },
          "metadata": {},
          "execution_count": 143
        }
      ],
      "source": [
        "final_result"
      ]
    },
    {
      "cell_type": "markdown",
      "id": "44f71a7e",
      "metadata": {
        "id": "44f71a7e"
      },
      "source": [
        "### Now you need to merge this final_result dataframe with the BACKUP of \"nulldata\" Dataframe which we have created in earlier steps"
      ]
    },
    {
      "cell_type": "code",
      "execution_count": null,
      "id": "e8f0969d",
      "metadata": {
        "id": "e8f0969d"
      },
      "outputs": [],
      "source": [
        "nulldata1.reset_index(drop=True,inplace=True)\n",
        "Final = nulldata1.merge(final_result , on = nulldata.index )"
      ]
    },
    {
      "cell_type": "markdown",
      "source": [
        "### Display the \"Final\" dataframe "
      ],
      "metadata": {
        "id": "G-hLtxXgy4GZ"
      },
      "id": "G-hLtxXgy4GZ"
    },
    {
      "cell_type": "code",
      "execution_count": null,
      "id": "71fb4dc0",
      "metadata": {
        "id": "71fb4dc0",
        "outputId": "fd64af8d-15a4-4fbd-b03e-3cd5b40a8a77",
        "colab": {
          "base_uri": "https://localhost:8080/",
          "height": 287
        }
      },
      "outputs": [
        {
          "output_type": "execute_result",
          "data": {
            "text/plain": [
              "   key_0 business_code cust_number     name_customer clear_date  \\\n",
              "0      3          CA02  0140105686          SYSC llc        NaT   \n",
              "1      7          U001  0200744019           TARG us        NaT   \n",
              "2     10          U001  0200418007               AM         NaT   \n",
              "3     14          U001  0200739534        OK systems        NaT   \n",
              "4     15          U001  0200353024  DECA corporation        NaT   \n",
              "\n",
              "   buisness_year        doc_id posting_date due_in_date baseline_create_date  \\\n",
              "0         2020.0  2.960623e+09   2020-03-30  2020-04-10           2020-03-31   \n",
              "1         2020.0  1.930659e+09   2020-03-19  2020-04-03           2020-03-19   \n",
              "2         2020.0  1.930611e+09   2020-03-11  2020-03-26           2020-03-11   \n",
              "3         2020.0  1.930788e+09   2020-04-15  2020-04-30           2020-04-15   \n",
              "4         2020.0  1.930817e+09   2020-04-23  2020-04-26           2020-04-16   \n",
              "\n",
              "  cust_payment_terms  converted_usd      avg_delay  \n",
              "0               CA10        2309.79  334269.843750  \n",
              "1               NAA8       11173.02  130799.578125  \n",
              "2               NAA8        3525.59   -7050.944824  \n",
              "3               NAA8      121105.65   96737.484375  \n",
              "4               NAM2        3726.06 -303537.437500  "
            ],
            "text/html": [
              "\n",
              "  <div id=\"df-c2cc7568-6146-4e52-b589-fd812e4ebe0a\">\n",
              "    <div class=\"colab-df-container\">\n",
              "      <div>\n",
              "<style scoped>\n",
              "    .dataframe tbody tr th:only-of-type {\n",
              "        vertical-align: middle;\n",
              "    }\n",
              "\n",
              "    .dataframe tbody tr th {\n",
              "        vertical-align: top;\n",
              "    }\n",
              "\n",
              "    .dataframe thead th {\n",
              "        text-align: right;\n",
              "    }\n",
              "</style>\n",
              "<table border=\"1\" class=\"dataframe\">\n",
              "  <thead>\n",
              "    <tr style=\"text-align: right;\">\n",
              "      <th></th>\n",
              "      <th>key_0</th>\n",
              "      <th>business_code</th>\n",
              "      <th>cust_number</th>\n",
              "      <th>name_customer</th>\n",
              "      <th>clear_date</th>\n",
              "      <th>buisness_year</th>\n",
              "      <th>doc_id</th>\n",
              "      <th>posting_date</th>\n",
              "      <th>due_in_date</th>\n",
              "      <th>baseline_create_date</th>\n",
              "      <th>cust_payment_terms</th>\n",
              "      <th>converted_usd</th>\n",
              "      <th>avg_delay</th>\n",
              "    </tr>\n",
              "  </thead>\n",
              "  <tbody>\n",
              "    <tr>\n",
              "      <th>0</th>\n",
              "      <td>3</td>\n",
              "      <td>CA02</td>\n",
              "      <td>0140105686</td>\n",
              "      <td>SYSC llc</td>\n",
              "      <td>NaT</td>\n",
              "      <td>2020.0</td>\n",
              "      <td>2.960623e+09</td>\n",
              "      <td>2020-03-30</td>\n",
              "      <td>2020-04-10</td>\n",
              "      <td>2020-03-31</td>\n",
              "      <td>CA10</td>\n",
              "      <td>2309.79</td>\n",
              "      <td>334269.843750</td>\n",
              "    </tr>\n",
              "    <tr>\n",
              "      <th>1</th>\n",
              "      <td>7</td>\n",
              "      <td>U001</td>\n",
              "      <td>0200744019</td>\n",
              "      <td>TARG us</td>\n",
              "      <td>NaT</td>\n",
              "      <td>2020.0</td>\n",
              "      <td>1.930659e+09</td>\n",
              "      <td>2020-03-19</td>\n",
              "      <td>2020-04-03</td>\n",
              "      <td>2020-03-19</td>\n",
              "      <td>NAA8</td>\n",
              "      <td>11173.02</td>\n",
              "      <td>130799.578125</td>\n",
              "    </tr>\n",
              "    <tr>\n",
              "      <th>2</th>\n",
              "      <td>10</td>\n",
              "      <td>U001</td>\n",
              "      <td>0200418007</td>\n",
              "      <td>AM</td>\n",
              "      <td>NaT</td>\n",
              "      <td>2020.0</td>\n",
              "      <td>1.930611e+09</td>\n",
              "      <td>2020-03-11</td>\n",
              "      <td>2020-03-26</td>\n",
              "      <td>2020-03-11</td>\n",
              "      <td>NAA8</td>\n",
              "      <td>3525.59</td>\n",
              "      <td>-7050.944824</td>\n",
              "    </tr>\n",
              "    <tr>\n",
              "      <th>3</th>\n",
              "      <td>14</td>\n",
              "      <td>U001</td>\n",
              "      <td>0200739534</td>\n",
              "      <td>OK systems</td>\n",
              "      <td>NaT</td>\n",
              "      <td>2020.0</td>\n",
              "      <td>1.930788e+09</td>\n",
              "      <td>2020-04-15</td>\n",
              "      <td>2020-04-30</td>\n",
              "      <td>2020-04-15</td>\n",
              "      <td>NAA8</td>\n",
              "      <td>121105.65</td>\n",
              "      <td>96737.484375</td>\n",
              "    </tr>\n",
              "    <tr>\n",
              "      <th>4</th>\n",
              "      <td>15</td>\n",
              "      <td>U001</td>\n",
              "      <td>0200353024</td>\n",
              "      <td>DECA corporation</td>\n",
              "      <td>NaT</td>\n",
              "      <td>2020.0</td>\n",
              "      <td>1.930817e+09</td>\n",
              "      <td>2020-04-23</td>\n",
              "      <td>2020-04-26</td>\n",
              "      <td>2020-04-16</td>\n",
              "      <td>NAM2</td>\n",
              "      <td>3726.06</td>\n",
              "      <td>-303537.437500</td>\n",
              "    </tr>\n",
              "  </tbody>\n",
              "</table>\n",
              "</div>\n",
              "      <button class=\"colab-df-convert\" onclick=\"convertToInteractive('df-c2cc7568-6146-4e52-b589-fd812e4ebe0a')\"\n",
              "              title=\"Convert this dataframe to an interactive table.\"\n",
              "              style=\"display:none;\">\n",
              "        \n",
              "  <svg xmlns=\"http://www.w3.org/2000/svg\" height=\"24px\"viewBox=\"0 0 24 24\"\n",
              "       width=\"24px\">\n",
              "    <path d=\"M0 0h24v24H0V0z\" fill=\"none\"/>\n",
              "    <path d=\"M18.56 5.44l.94 2.06.94-2.06 2.06-.94-2.06-.94-.94-2.06-.94 2.06-2.06.94zm-11 1L8.5 8.5l.94-2.06 2.06-.94-2.06-.94L8.5 2.5l-.94 2.06-2.06.94zm10 10l.94 2.06.94-2.06 2.06-.94-2.06-.94-.94-2.06-.94 2.06-2.06.94z\"/><path d=\"M17.41 7.96l-1.37-1.37c-.4-.4-.92-.59-1.43-.59-.52 0-1.04.2-1.43.59L10.3 9.45l-7.72 7.72c-.78.78-.78 2.05 0 2.83L4 21.41c.39.39.9.59 1.41.59.51 0 1.02-.2 1.41-.59l7.78-7.78 2.81-2.81c.8-.78.8-2.07 0-2.86zM5.41 20L4 18.59l7.72-7.72 1.47 1.35L5.41 20z\"/>\n",
              "  </svg>\n",
              "      </button>\n",
              "      \n",
              "  <style>\n",
              "    .colab-df-container {\n",
              "      display:flex;\n",
              "      flex-wrap:wrap;\n",
              "      gap: 12px;\n",
              "    }\n",
              "\n",
              "    .colab-df-convert {\n",
              "      background-color: #E8F0FE;\n",
              "      border: none;\n",
              "      border-radius: 50%;\n",
              "      cursor: pointer;\n",
              "      display: none;\n",
              "      fill: #1967D2;\n",
              "      height: 32px;\n",
              "      padding: 0 0 0 0;\n",
              "      width: 32px;\n",
              "    }\n",
              "\n",
              "    .colab-df-convert:hover {\n",
              "      background-color: #E2EBFA;\n",
              "      box-shadow: 0px 1px 2px rgba(60, 64, 67, 0.3), 0px 1px 3px 1px rgba(60, 64, 67, 0.15);\n",
              "      fill: #174EA6;\n",
              "    }\n",
              "\n",
              "    [theme=dark] .colab-df-convert {\n",
              "      background-color: #3B4455;\n",
              "      fill: #D2E3FC;\n",
              "    }\n",
              "\n",
              "    [theme=dark] .colab-df-convert:hover {\n",
              "      background-color: #434B5C;\n",
              "      box-shadow: 0px 1px 3px 1px rgba(0, 0, 0, 0.15);\n",
              "      filter: drop-shadow(0px 1px 2px rgba(0, 0, 0, 0.3));\n",
              "      fill: #FFFFFF;\n",
              "    }\n",
              "  </style>\n",
              "\n",
              "      <script>\n",
              "        const buttonEl =\n",
              "          document.querySelector('#df-c2cc7568-6146-4e52-b589-fd812e4ebe0a button.colab-df-convert');\n",
              "        buttonEl.style.display =\n",
              "          google.colab.kernel.accessAllowed ? 'block' : 'none';\n",
              "\n",
              "        async function convertToInteractive(key) {\n",
              "          const element = document.querySelector('#df-c2cc7568-6146-4e52-b589-fd812e4ebe0a');\n",
              "          const dataTable =\n",
              "            await google.colab.kernel.invokeFunction('convertToInteractive',\n",
              "                                                     [key], {});\n",
              "          if (!dataTable) return;\n",
              "\n",
              "          const docLinkHtml = 'Like what you see? Visit the ' +\n",
              "            '<a target=\"_blank\" href=https://colab.research.google.com/notebooks/data_table.ipynb>data table notebook</a>'\n",
              "            + ' to learn more about interactive tables.';\n",
              "          element.innerHTML = '';\n",
              "          dataTable['output_type'] = 'display_data';\n",
              "          await google.colab.output.renderOutput(dataTable, element);\n",
              "          const docLink = document.createElement('div');\n",
              "          docLink.innerHTML = docLinkHtml;\n",
              "          element.appendChild(docLink);\n",
              "        }\n",
              "      </script>\n",
              "    </div>\n",
              "  </div>\n",
              "  "
            ]
          },
          "metadata": {},
          "execution_count": 145
        }
      ],
      "source": [
        "Final.head()"
      ]
    },
    {
      "cell_type": "markdown",
      "source": [
        "### Check for the Number of Rows and Columns in your \"Final\" dataframe "
      ],
      "metadata": {
        "id": "4sc27Uz-y-0O"
      },
      "id": "4sc27Uz-y-0O"
    },
    {
      "cell_type": "code",
      "source": [
        "Final.columns"
      ],
      "metadata": {
        "id": "5iUXOIhzy_HR",
        "outputId": "97b5a6ea-dd2c-42b2-a4c8-32d3c392c85b",
        "colab": {
          "base_uri": "https://localhost:8080/"
        }
      },
      "id": "5iUXOIhzy_HR",
      "execution_count": null,
      "outputs": [
        {
          "output_type": "execute_result",
          "data": {
            "text/plain": [
              "Index(['key_0', 'business_code', 'cust_number', 'name_customer', 'clear_date',\n",
              "       'buisness_year', 'doc_id', 'posting_date', 'due_in_date',\n",
              "       'baseline_create_date', 'cust_payment_terms', 'converted_usd',\n",
              "       'avg_delay'],\n",
              "      dtype='object')"
            ]
          },
          "metadata": {},
          "execution_count": 146
        }
      ]
    },
    {
      "cell_type": "markdown",
      "id": "48886d2c",
      "metadata": {
        "id": "48886d2c"
      },
      "source": [
        "### Now, you need to do convert the below fields back into date and time format \n",
        "\n",
        "- Convert \"due_in_date\" into datetime format\n",
        "- Convert \"avg_delay\" into datetime format\n",
        "- Create a new column \"clear_date\" and store the sum of \"due_in_date\" and \"avg_delay\"\n",
        "- display the new \"clear_date\" column\n",
        "- Note - Code is given below, no need to change "
      ]
    },
    {
      "cell_type": "code",
      "execution_count": null,
      "id": "243abc2d",
      "metadata": {
        "id": "243abc2d"
      },
      "outputs": [],
      "source": [
        "Final['clear_date'] = pd.to_datetime(Final['due_in_date']) + pd.to_timedelta(Final['avg_delay'], unit='s')"
      ]
    },
    {
      "cell_type": "markdown",
      "source": [
        "### Display the \"clear_date\" column"
      ],
      "metadata": {
        "id": "9QcX_fAjIkYR"
      },
      "id": "9QcX_fAjIkYR"
    },
    {
      "cell_type": "code",
      "execution_count": null,
      "id": "740e1486",
      "metadata": {
        "id": "740e1486",
        "outputId": "1cd354ef-77ba-47ee-8b97-19acac214e98",
        "colab": {
          "base_uri": "https://localhost:8080/"
        }
      },
      "outputs": [
        {
          "output_type": "execute_result",
          "data": {
            "text/plain": [
              "0      2020-04-13 20:51:09.843750000\n",
              "1      2020-04-04 12:19:59.578125000\n",
              "2      2020-03-25 22:02:29.055175781\n",
              "3      2020-05-01 02:52:17.484375000\n",
              "4      2020-04-22 11:41:02.562500000\n",
              "                    ...             \n",
              "9676   2020-03-22 19:40:39.812500000\n",
              "9677   2020-05-15 19:40:39.812500000\n",
              "9678   2020-03-23 06:57:59.250000000\n",
              "9679   2020-04-10 16:53:51.156250000\n",
              "9680   2020-05-05 22:32:24.263183594\n",
              "Name: clear_date, Length: 9681, dtype: datetime64[ns]"
            ]
          },
          "metadata": {},
          "execution_count": 148
        }
      ],
      "source": [
        "Final['clear_date']"
      ]
    },
    {
      "cell_type": "markdown",
      "source": [
        "### Convert the average delay into number of days format \n",
        "\n",
        "- Note - Formula = avg_delay//(24 * 3600)\n",
        "- Note - full code is given for this, no need to change "
      ],
      "metadata": {
        "id": "MSkNLq6-z7rZ"
      },
      "id": "MSkNLq6-z7rZ"
    },
    {
      "cell_type": "code",
      "execution_count": null,
      "id": "ce6b618a",
      "metadata": {
        "id": "ce6b618a"
      },
      "outputs": [],
      "source": [
        "Final['avg_delay'] = Final.apply(lambda row: row.avg_delay//(24 * 3600), axis = 1)"
      ]
    },
    {
      "cell_type": "markdown",
      "source": [
        "### Display the \"avg_delay\" column "
      ],
      "metadata": {
        "id": "wbBBZPjP0W7o"
      },
      "id": "wbBBZPjP0W7o"
    },
    {
      "cell_type": "code",
      "execution_count": null,
      "id": "a494982f",
      "metadata": {
        "scrolled": true,
        "id": "a494982f",
        "outputId": "e49f2026-fb9f-4df9-c654-cbca6e48e008",
        "colab": {
          "base_uri": "https://localhost:8080/"
        }
      },
      "outputs": [
        {
          "output_type": "execute_result",
          "data": {
            "text/plain": [
              "0       3.0\n",
              "1       1.0\n",
              "2      -1.0\n",
              "3       1.0\n",
              "4      -4.0\n",
              "       ... \n",
              "9676   -3.0\n",
              "9677   -3.0\n",
              "9678   -3.0\n",
              "9679    1.0\n",
              "9680   -1.0\n",
              "Name: avg_delay, Length: 9681, dtype: float64"
            ]
          },
          "metadata": {},
          "execution_count": 150
        }
      ],
      "source": [
        "Final['avg_delay']"
      ]
    },
    {
      "cell_type": "markdown",
      "id": "815d8811",
      "metadata": {
        "id": "815d8811"
      },
      "source": [
        "### Now you need to convert average delay column into bucket\n",
        "\n",
        "- Need to perform binning \n",
        "- create a list of bins i.e. bins= [0,15,30,45,60,100]\n",
        "- create a list of labels i.e. labels = ['0-15','16-30','31-45','46-60','Greatar than 60']\n",
        "- perform binning by using cut() function from \"Final\" dataframe\n",
        "\n",
        "\n",
        "- Please fill up the first two rows of the code"
      ]
    },
    {
      "cell_type": "code",
      "execution_count": null,
      "id": "c797e4b5",
      "metadata": {
        "id": "c797e4b5"
      },
      "outputs": [],
      "source": [
        "\n",
        "bins = [0,15,30,45,60,100]\n",
        "labels = ['0-15','16-30','31-45','46-60','Greatar than 60']\n",
        "Final['Aging Bucket'] = pd.cut(Final['avg_delay'], bins=bins, labels=labels, right=False)"
      ]
    },
    {
      "cell_type": "markdown",
      "id": "1c35725f",
      "metadata": {
        "id": "1c35725f"
      },
      "source": [
        "### Now you need to drop \"key_0\" and \"avg_delay\" columns from the \"Final\" Dataframe"
      ]
    },
    {
      "cell_type": "code",
      "execution_count": null,
      "id": "b31bc6a3",
      "metadata": {
        "id": "b31bc6a3"
      },
      "outputs": [],
      "source": [
        "Final.drop(['key_0',\"avg_delay\"], axis=1, inplace=True)"
      ]
    },
    {
      "cell_type": "markdown",
      "source": [
        "### Display the count of each categoty of new \"Aging Bucket\" column "
      ],
      "metadata": {
        "id": "Ui-tyIvU0-5u"
      },
      "id": "Ui-tyIvU0-5u"
    },
    {
      "cell_type": "code",
      "execution_count": null,
      "id": "a6e16218",
      "metadata": {
        "id": "a6e16218",
        "outputId": "0b8a629a-88b8-4d26-e62a-bd39b99be1a4",
        "colab": {
          "base_uri": "https://localhost:8080/"
        }
      },
      "outputs": [
        {
          "output_type": "execute_result",
          "data": {
            "text/plain": [
              "0-15               5082\n",
              "31-45                69\n",
              "16-30                 4\n",
              "46-60                 1\n",
              "Greatar than 60       0\n",
              "Name: Aging Bucket, dtype: int64"
            ]
          },
          "metadata": {},
          "execution_count": 153
        }
      ],
      "source": [
        "Final['Aging Bucket'].value_counts()"
      ]
    },
    {
      "cell_type": "markdown",
      "source": [
        "### Display your final dataset with aging buckets "
      ],
      "metadata": {
        "id": "kgYegy551GKJ"
      },
      "id": "kgYegy551GKJ"
    },
    {
      "cell_type": "code",
      "execution_count": null,
      "id": "c4bc87ec",
      "metadata": {
        "id": "c4bc87ec",
        "outputId": "6fcb6978-50b9-436d-fd0b-8df18208e47d",
        "colab": {
          "base_uri": "https://localhost:8080/",
          "height": 679
        }
      },
      "outputs": [
        {
          "output_type": "execute_result",
          "data": {
            "text/plain": [
              "     business_code cust_number        name_customer  \\\n",
              "0             CA02  0140105686             SYSC llc   \n",
              "1             U001  0200744019              TARG us   \n",
              "2             U001  0200418007                  AM    \n",
              "3             U001  0200739534           OK systems   \n",
              "4             U001  0200353024     DECA corporation   \n",
              "...            ...         ...                  ...   \n",
              "9676          U001  0200769623           WAL-MAR in   \n",
              "9677          U001  0200769623  WAL-MAR corporation   \n",
              "9678          U001  0200148860             DOLLA co   \n",
              "9679          U001  0200900909             SYSCO co   \n",
              "9680          U001  0200561861       CO corporation   \n",
              "\n",
              "                        clear_date  buisness_year        doc_id posting_date  \\\n",
              "0    2020-04-13 20:51:09.843750000         2020.0  2.960623e+09   2020-03-30   \n",
              "1    2020-04-04 12:19:59.578125000         2020.0  1.930659e+09   2020-03-19   \n",
              "2    2020-03-25 22:02:29.055175781         2020.0  1.930611e+09   2020-03-11   \n",
              "3    2020-05-01 02:52:17.484375000         2020.0  1.930788e+09   2020-04-15   \n",
              "4    2020-04-22 11:41:02.562500000         2020.0  1.930817e+09   2020-04-23   \n",
              "...                            ...            ...           ...          ...   \n",
              "9676 2020-03-22 19:40:39.812500000         2020.0  1.930625e+09   2020-03-10   \n",
              "9677 2020-05-15 19:40:39.812500000         2020.0  1.930851e+09   2020-05-03   \n",
              "9678 2020-03-23 06:57:59.250000000         2020.0  1.930638e+09   2020-03-11   \n",
              "9679 2020-04-10 16:53:51.156250000         2020.0  1.930702e+09   2020-03-25   \n",
              "9680 2020-05-05 22:32:24.263183594         2020.0  1.930797e+09   2020-04-21   \n",
              "\n",
              "     due_in_date baseline_create_date cust_payment_terms  converted_usd  \\\n",
              "0     2020-04-10           2020-03-31               CA10        2309.79   \n",
              "1     2020-04-03           2020-03-19               NAA8       11173.02   \n",
              "2     2020-03-26           2020-03-11               NAA8        3525.59   \n",
              "3     2020-04-30           2020-04-15               NAA8      121105.65   \n",
              "4     2020-04-26           2020-04-16               NAM2        3726.06   \n",
              "...          ...                  ...                ...            ...   \n",
              "9676  2020-03-25           2020-03-10               NAH4       13114.99   \n",
              "9677  2020-05-18           2020-05-03               NAH4        8899.71   \n",
              "9678  2020-03-26           2020-03-11               NAA8        4967.06   \n",
              "9679  2020-04-09           2020-03-25               NAA8        1998.64   \n",
              "9680  2020-05-06           2020-04-21               NAA8        3187.86   \n",
              "\n",
              "     Aging Bucket  \n",
              "0            0-15  \n",
              "1            0-15  \n",
              "2             NaN  \n",
              "3            0-15  \n",
              "4             NaN  \n",
              "...           ...  \n",
              "9676          NaN  \n",
              "9677          NaN  \n",
              "9678          NaN  \n",
              "9679         0-15  \n",
              "9680          NaN  \n",
              "\n",
              "[9681 rows x 12 columns]"
            ],
            "text/html": [
              "\n",
              "  <div id=\"df-48063d41-b0b8-47e3-a5a3-9dbca16fb3e1\">\n",
              "    <div class=\"colab-df-container\">\n",
              "      <div>\n",
              "<style scoped>\n",
              "    .dataframe tbody tr th:only-of-type {\n",
              "        vertical-align: middle;\n",
              "    }\n",
              "\n",
              "    .dataframe tbody tr th {\n",
              "        vertical-align: top;\n",
              "    }\n",
              "\n",
              "    .dataframe thead th {\n",
              "        text-align: right;\n",
              "    }\n",
              "</style>\n",
              "<table border=\"1\" class=\"dataframe\">\n",
              "  <thead>\n",
              "    <tr style=\"text-align: right;\">\n",
              "      <th></th>\n",
              "      <th>business_code</th>\n",
              "      <th>cust_number</th>\n",
              "      <th>name_customer</th>\n",
              "      <th>clear_date</th>\n",
              "      <th>buisness_year</th>\n",
              "      <th>doc_id</th>\n",
              "      <th>posting_date</th>\n",
              "      <th>due_in_date</th>\n",
              "      <th>baseline_create_date</th>\n",
              "      <th>cust_payment_terms</th>\n",
              "      <th>converted_usd</th>\n",
              "      <th>Aging Bucket</th>\n",
              "    </tr>\n",
              "  </thead>\n",
              "  <tbody>\n",
              "    <tr>\n",
              "      <th>0</th>\n",
              "      <td>CA02</td>\n",
              "      <td>0140105686</td>\n",
              "      <td>SYSC llc</td>\n",
              "      <td>2020-04-13 20:51:09.843750000</td>\n",
              "      <td>2020.0</td>\n",
              "      <td>2.960623e+09</td>\n",
              "      <td>2020-03-30</td>\n",
              "      <td>2020-04-10</td>\n",
              "      <td>2020-03-31</td>\n",
              "      <td>CA10</td>\n",
              "      <td>2309.79</td>\n",
              "      <td>0-15</td>\n",
              "    </tr>\n",
              "    <tr>\n",
              "      <th>1</th>\n",
              "      <td>U001</td>\n",
              "      <td>0200744019</td>\n",
              "      <td>TARG us</td>\n",
              "      <td>2020-04-04 12:19:59.578125000</td>\n",
              "      <td>2020.0</td>\n",
              "      <td>1.930659e+09</td>\n",
              "      <td>2020-03-19</td>\n",
              "      <td>2020-04-03</td>\n",
              "      <td>2020-03-19</td>\n",
              "      <td>NAA8</td>\n",
              "      <td>11173.02</td>\n",
              "      <td>0-15</td>\n",
              "    </tr>\n",
              "    <tr>\n",
              "      <th>2</th>\n",
              "      <td>U001</td>\n",
              "      <td>0200418007</td>\n",
              "      <td>AM</td>\n",
              "      <td>2020-03-25 22:02:29.055175781</td>\n",
              "      <td>2020.0</td>\n",
              "      <td>1.930611e+09</td>\n",
              "      <td>2020-03-11</td>\n",
              "      <td>2020-03-26</td>\n",
              "      <td>2020-03-11</td>\n",
              "      <td>NAA8</td>\n",
              "      <td>3525.59</td>\n",
              "      <td>NaN</td>\n",
              "    </tr>\n",
              "    <tr>\n",
              "      <th>3</th>\n",
              "      <td>U001</td>\n",
              "      <td>0200739534</td>\n",
              "      <td>OK systems</td>\n",
              "      <td>2020-05-01 02:52:17.484375000</td>\n",
              "      <td>2020.0</td>\n",
              "      <td>1.930788e+09</td>\n",
              "      <td>2020-04-15</td>\n",
              "      <td>2020-04-30</td>\n",
              "      <td>2020-04-15</td>\n",
              "      <td>NAA8</td>\n",
              "      <td>121105.65</td>\n",
              "      <td>0-15</td>\n",
              "    </tr>\n",
              "    <tr>\n",
              "      <th>4</th>\n",
              "      <td>U001</td>\n",
              "      <td>0200353024</td>\n",
              "      <td>DECA corporation</td>\n",
              "      <td>2020-04-22 11:41:02.562500000</td>\n",
              "      <td>2020.0</td>\n",
              "      <td>1.930817e+09</td>\n",
              "      <td>2020-04-23</td>\n",
              "      <td>2020-04-26</td>\n",
              "      <td>2020-04-16</td>\n",
              "      <td>NAM2</td>\n",
              "      <td>3726.06</td>\n",
              "      <td>NaN</td>\n",
              "    </tr>\n",
              "    <tr>\n",
              "      <th>...</th>\n",
              "      <td>...</td>\n",
              "      <td>...</td>\n",
              "      <td>...</td>\n",
              "      <td>...</td>\n",
              "      <td>...</td>\n",
              "      <td>...</td>\n",
              "      <td>...</td>\n",
              "      <td>...</td>\n",
              "      <td>...</td>\n",
              "      <td>...</td>\n",
              "      <td>...</td>\n",
              "      <td>...</td>\n",
              "    </tr>\n",
              "    <tr>\n",
              "      <th>9676</th>\n",
              "      <td>U001</td>\n",
              "      <td>0200769623</td>\n",
              "      <td>WAL-MAR in</td>\n",
              "      <td>2020-03-22 19:40:39.812500000</td>\n",
              "      <td>2020.0</td>\n",
              "      <td>1.930625e+09</td>\n",
              "      <td>2020-03-10</td>\n",
              "      <td>2020-03-25</td>\n",
              "      <td>2020-03-10</td>\n",
              "      <td>NAH4</td>\n",
              "      <td>13114.99</td>\n",
              "      <td>NaN</td>\n",
              "    </tr>\n",
              "    <tr>\n",
              "      <th>9677</th>\n",
              "      <td>U001</td>\n",
              "      <td>0200769623</td>\n",
              "      <td>WAL-MAR corporation</td>\n",
              "      <td>2020-05-15 19:40:39.812500000</td>\n",
              "      <td>2020.0</td>\n",
              "      <td>1.930851e+09</td>\n",
              "      <td>2020-05-03</td>\n",
              "      <td>2020-05-18</td>\n",
              "      <td>2020-05-03</td>\n",
              "      <td>NAH4</td>\n",
              "      <td>8899.71</td>\n",
              "      <td>NaN</td>\n",
              "    </tr>\n",
              "    <tr>\n",
              "      <th>9678</th>\n",
              "      <td>U001</td>\n",
              "      <td>0200148860</td>\n",
              "      <td>DOLLA co</td>\n",
              "      <td>2020-03-23 06:57:59.250000000</td>\n",
              "      <td>2020.0</td>\n",
              "      <td>1.930638e+09</td>\n",
              "      <td>2020-03-11</td>\n",
              "      <td>2020-03-26</td>\n",
              "      <td>2020-03-11</td>\n",
              "      <td>NAA8</td>\n",
              "      <td>4967.06</td>\n",
              "      <td>NaN</td>\n",
              "    </tr>\n",
              "    <tr>\n",
              "      <th>9679</th>\n",
              "      <td>U001</td>\n",
              "      <td>0200900909</td>\n",
              "      <td>SYSCO co</td>\n",
              "      <td>2020-04-10 16:53:51.156250000</td>\n",
              "      <td>2020.0</td>\n",
              "      <td>1.930702e+09</td>\n",
              "      <td>2020-03-25</td>\n",
              "      <td>2020-04-09</td>\n",
              "      <td>2020-03-25</td>\n",
              "      <td>NAA8</td>\n",
              "      <td>1998.64</td>\n",
              "      <td>0-15</td>\n",
              "    </tr>\n",
              "    <tr>\n",
              "      <th>9680</th>\n",
              "      <td>U001</td>\n",
              "      <td>0200561861</td>\n",
              "      <td>CO corporation</td>\n",
              "      <td>2020-05-05 22:32:24.263183594</td>\n",
              "      <td>2020.0</td>\n",
              "      <td>1.930797e+09</td>\n",
              "      <td>2020-04-21</td>\n",
              "      <td>2020-05-06</td>\n",
              "      <td>2020-04-21</td>\n",
              "      <td>NAA8</td>\n",
              "      <td>3187.86</td>\n",
              "      <td>NaN</td>\n",
              "    </tr>\n",
              "  </tbody>\n",
              "</table>\n",
              "<p>9681 rows × 12 columns</p>\n",
              "</div>\n",
              "      <button class=\"colab-df-convert\" onclick=\"convertToInteractive('df-48063d41-b0b8-47e3-a5a3-9dbca16fb3e1')\"\n",
              "              title=\"Convert this dataframe to an interactive table.\"\n",
              "              style=\"display:none;\">\n",
              "        \n",
              "  <svg xmlns=\"http://www.w3.org/2000/svg\" height=\"24px\"viewBox=\"0 0 24 24\"\n",
              "       width=\"24px\">\n",
              "    <path d=\"M0 0h24v24H0V0z\" fill=\"none\"/>\n",
              "    <path d=\"M18.56 5.44l.94 2.06.94-2.06 2.06-.94-2.06-.94-.94-2.06-.94 2.06-2.06.94zm-11 1L8.5 8.5l.94-2.06 2.06-.94-2.06-.94L8.5 2.5l-.94 2.06-2.06.94zm10 10l.94 2.06.94-2.06 2.06-.94-2.06-.94-.94-2.06-.94 2.06-2.06.94z\"/><path d=\"M17.41 7.96l-1.37-1.37c-.4-.4-.92-.59-1.43-.59-.52 0-1.04.2-1.43.59L10.3 9.45l-7.72 7.72c-.78.78-.78 2.05 0 2.83L4 21.41c.39.39.9.59 1.41.59.51 0 1.02-.2 1.41-.59l7.78-7.78 2.81-2.81c.8-.78.8-2.07 0-2.86zM5.41 20L4 18.59l7.72-7.72 1.47 1.35L5.41 20z\"/>\n",
              "  </svg>\n",
              "      </button>\n",
              "      \n",
              "  <style>\n",
              "    .colab-df-container {\n",
              "      display:flex;\n",
              "      flex-wrap:wrap;\n",
              "      gap: 12px;\n",
              "    }\n",
              "\n",
              "    .colab-df-convert {\n",
              "      background-color: #E8F0FE;\n",
              "      border: none;\n",
              "      border-radius: 50%;\n",
              "      cursor: pointer;\n",
              "      display: none;\n",
              "      fill: #1967D2;\n",
              "      height: 32px;\n",
              "      padding: 0 0 0 0;\n",
              "      width: 32px;\n",
              "    }\n",
              "\n",
              "    .colab-df-convert:hover {\n",
              "      background-color: #E2EBFA;\n",
              "      box-shadow: 0px 1px 2px rgba(60, 64, 67, 0.3), 0px 1px 3px 1px rgba(60, 64, 67, 0.15);\n",
              "      fill: #174EA6;\n",
              "    }\n",
              "\n",
              "    [theme=dark] .colab-df-convert {\n",
              "      background-color: #3B4455;\n",
              "      fill: #D2E3FC;\n",
              "    }\n",
              "\n",
              "    [theme=dark] .colab-df-convert:hover {\n",
              "      background-color: #434B5C;\n",
              "      box-shadow: 0px 1px 3px 1px rgba(0, 0, 0, 0.15);\n",
              "      filter: drop-shadow(0px 1px 2px rgba(0, 0, 0, 0.3));\n",
              "      fill: #FFFFFF;\n",
              "    }\n",
              "  </style>\n",
              "\n",
              "      <script>\n",
              "        const buttonEl =\n",
              "          document.querySelector('#df-48063d41-b0b8-47e3-a5a3-9dbca16fb3e1 button.colab-df-convert');\n",
              "        buttonEl.style.display =\n",
              "          google.colab.kernel.accessAllowed ? 'block' : 'none';\n",
              "\n",
              "        async function convertToInteractive(key) {\n",
              "          const element = document.querySelector('#df-48063d41-b0b8-47e3-a5a3-9dbca16fb3e1');\n",
              "          const dataTable =\n",
              "            await google.colab.kernel.invokeFunction('convertToInteractive',\n",
              "                                                     [key], {});\n",
              "          if (!dataTable) return;\n",
              "\n",
              "          const docLinkHtml = 'Like what you see? Visit the ' +\n",
              "            '<a target=\"_blank\" href=https://colab.research.google.com/notebooks/data_table.ipynb>data table notebook</a>'\n",
              "            + ' to learn more about interactive tables.';\n",
              "          element.innerHTML = '';\n",
              "          dataTable['output_type'] = 'display_data';\n",
              "          await google.colab.output.renderOutput(dataTable, element);\n",
              "          const docLink = document.createElement('div');\n",
              "          docLink.innerHTML = docLinkHtml;\n",
              "          element.appendChild(docLink);\n",
              "        }\n",
              "      </script>\n",
              "    </div>\n",
              "  </div>\n",
              "  "
            ]
          },
          "metadata": {},
          "execution_count": 154
        }
      ],
      "source": [
        "Final"
      ]
    },
    {
      "cell_type": "markdown",
      "source": [
        "### Store this dataframe into the .csv format"
      ],
      "metadata": {
        "id": "Ji7AoDCB1L_x"
      },
      "id": "Ji7AoDCB1L_x"
    },
    {
      "cell_type": "code",
      "execution_count": null,
      "id": "727d0b8d",
      "metadata": {
        "id": "727d0b8d"
      },
      "outputs": [],
      "source": [
        "Final.to_csv(\"HRC61549WK_Buni_Saraswati.csv\")"
      ]
    },
    {
      "cell_type": "markdown",
      "source": [
        "# END OF THE PROJECT"
      ],
      "metadata": {
        "id": "FK0fabl61SkC"
      },
      "id": "FK0fabl61SkC"
    }
  ],
  "metadata": {
    "kernelspec": {
      "display_name": "Python 3",
      "language": "python",
      "name": "python3"
    },
    "language_info": {
      "codemirror_mode": {
        "name": "ipython",
        "version": 3
      },
      "file_extension": ".py",
      "mimetype": "text/x-python",
      "name": "python",
      "nbconvert_exporter": "python",
      "pygments_lexer": "ipython3",
      "version": "3.8.8"
    },
    "colab": {
      "provenance": [],
      "collapsed_sections": [
        "62633a84"
      ]
    }
  },
  "nbformat": 4,
  "nbformat_minor": 5
}